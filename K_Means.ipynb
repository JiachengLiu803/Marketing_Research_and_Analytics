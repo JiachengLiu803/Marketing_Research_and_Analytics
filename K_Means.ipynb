{
  "nbformat": 4,
  "nbformat_minor": 0,
  "metadata": {
    "colab": {
      "name": "Copy of 2021_Spring_BUMK744_K_Means.ipynb",
      "provenance": [],
      "collapsed_sections": [],
      "toc_visible": true
    },
    "kernelspec": {
      "name": "python3",
      "display_name": "Python 3"
    }
  },
  "cells": [
    {
      "cell_type": "markdown",
      "metadata": {
        "id": "MeA9MTo0qb7t"
      },
      "source": [
        "# **$K$-Means Clustering**\n",
        "\n",
        "**Objectives:**\n",
        "- [A] Importing $K$-Means from scikit-learn\n",
        "- [B] The $K$ cluster means\n",
        "- [C] The cluster assignments\n",
        "- [D] Sum of Squared Errors (SSE)\n",
        "- [E] Selecting $K$: The number of clusters\n",
        "\n",
        "---\n"
      ]
    },
    {
      "cell_type": "markdown",
      "metadata": {
        "id": "N9fyPyZJsc7j"
      },
      "source": [
        "We import the same packages as before:"
      ]
    },
    {
      "cell_type": "code",
      "metadata": {
        "id": "Zv5iZEw2o13T"
      },
      "source": [
        "import numpy as np\n",
        "import pandas as pd\n",
        "\n",
        "import matplotlib.pyplot as plt\n",
        "import seaborn as sns\n",
        "sns.set()\n",
        "\n",
        "def compute_corr_X_Z(df_X, df_Z):\n",
        "    K_X = df_X.shape[1]\n",
        "    corr_X_Z = pd.concat([df_X, df_Z], axis=1).corr().iloc[:K_X, K_X:]\n",
        "    return pd.DataFrame(\n",
        "        corr_X_Z.values,\n",
        "        index=df_X.columns,\n",
        "        columns=df_Z.columns,\n",
        "    )\n"
      ],
      "execution_count": null,
      "outputs": []
    },
    {
      "cell_type": "markdown",
      "metadata": {
        "id": "0WJzZ45upC2m"
      },
      "source": [
        "Loading data:"
      ]
    },
    {
      "cell_type": "code",
      "metadata": {
        "id": "E5rxwtMjsl5l"
      },
      "source": [
        "from sklearn import datasets\n",
        "\n",
        "iris = datasets.load_iris()\n",
        "\n",
        "# Load X\n",
        "X = iris.data\n",
        "variable_labels = iris.feature_names\n",
        "X = pd.DataFrame(X, columns=variable_labels)\n",
        "\n",
        "X = X - X.mean()\n",
        "X = X / X.std()\n",
        "\n",
        "# Load y\n",
        "y = iris.target"
      ],
      "execution_count": null,
      "outputs": []
    },
    {
      "cell_type": "code",
      "metadata": {
        "colab": {
          "base_uri": "https://localhost:8080/",
          "height": 204
        },
        "id": "FTsLz09tXVAv",
        "outputId": "d6a07769-3e60-4901-f642-4d11011efccf"
      },
      "source": [
        "X.head()"
      ],
      "execution_count": null,
      "outputs": [
        {
          "output_type": "execute_result",
          "data": {
            "text/html": [
              "<div>\n",
              "<style scoped>\n",
              "    .dataframe tbody tr th:only-of-type {\n",
              "        vertical-align: middle;\n",
              "    }\n",
              "\n",
              "    .dataframe tbody tr th {\n",
              "        vertical-align: top;\n",
              "    }\n",
              "\n",
              "    .dataframe thead th {\n",
              "        text-align: right;\n",
              "    }\n",
              "</style>\n",
              "<table border=\"1\" class=\"dataframe\">\n",
              "  <thead>\n",
              "    <tr style=\"text-align: right;\">\n",
              "      <th></th>\n",
              "      <th>sepal length (cm)</th>\n",
              "      <th>sepal width (cm)</th>\n",
              "      <th>petal length (cm)</th>\n",
              "      <th>petal width (cm)</th>\n",
              "    </tr>\n",
              "  </thead>\n",
              "  <tbody>\n",
              "    <tr>\n",
              "      <th>0</th>\n",
              "      <td>-0.897674</td>\n",
              "      <td>1.015602</td>\n",
              "      <td>-1.335752</td>\n",
              "      <td>-1.311052</td>\n",
              "    </tr>\n",
              "    <tr>\n",
              "      <th>1</th>\n",
              "      <td>-1.139200</td>\n",
              "      <td>-0.131539</td>\n",
              "      <td>-1.335752</td>\n",
              "      <td>-1.311052</td>\n",
              "    </tr>\n",
              "    <tr>\n",
              "      <th>2</th>\n",
              "      <td>-1.380727</td>\n",
              "      <td>0.327318</td>\n",
              "      <td>-1.392399</td>\n",
              "      <td>-1.311052</td>\n",
              "    </tr>\n",
              "    <tr>\n",
              "      <th>3</th>\n",
              "      <td>-1.501490</td>\n",
              "      <td>0.097889</td>\n",
              "      <td>-1.279104</td>\n",
              "      <td>-1.311052</td>\n",
              "    </tr>\n",
              "    <tr>\n",
              "      <th>4</th>\n",
              "      <td>-1.018437</td>\n",
              "      <td>1.245030</td>\n",
              "      <td>-1.335752</td>\n",
              "      <td>-1.311052</td>\n",
              "    </tr>\n",
              "  </tbody>\n",
              "</table>\n",
              "</div>"
            ],
            "text/plain": [
              "   sepal length (cm)  sepal width (cm)  petal length (cm)  petal width (cm)\n",
              "0          -0.897674          1.015602          -1.335752         -1.311052\n",
              "1          -1.139200         -0.131539          -1.335752         -1.311052\n",
              "2          -1.380727          0.327318          -1.392399         -1.311052\n",
              "3          -1.501490          0.097889          -1.279104         -1.311052\n",
              "4          -1.018437          1.245030          -1.335752         -1.311052"
            ]
          },
          "metadata": {
            "tags": []
          },
          "execution_count": 7
        }
      ]
    },
    {
      "cell_type": "code",
      "metadata": {
        "colab": {
          "base_uri": "https://localhost:8080/"
        },
        "id": "IELndT61XrQV",
        "outputId": "91e89fac-9d35-4c70-ff9e-67d174c291de"
      },
      "source": [
        "y"
      ],
      "execution_count": null,
      "outputs": [
        {
          "output_type": "execute_result",
          "data": {
            "text/plain": [
              "array([0, 0, 0, 0, 0, 0, 0, 0, 0, 0, 0, 0, 0, 0, 0, 0, 0, 0, 0, 0, 0, 0,\n",
              "       0, 0, 0, 0, 0, 0, 0, 0, 0, 0, 0, 0, 0, 0, 0, 0, 0, 0, 0, 0, 0, 0,\n",
              "       0, 0, 0, 0, 0, 0, 1, 1, 1, 1, 1, 1, 1, 1, 1, 1, 1, 1, 1, 1, 1, 1,\n",
              "       1, 1, 1, 1, 1, 1, 1, 1, 1, 1, 1, 1, 1, 1, 1, 1, 1, 1, 1, 1, 1, 1,\n",
              "       1, 1, 1, 1, 1, 1, 1, 1, 1, 1, 1, 1, 2, 2, 2, 2, 2, 2, 2, 2, 2, 2,\n",
              "       2, 2, 2, 2, 2, 2, 2, 2, 2, 2, 2, 2, 2, 2, 2, 2, 2, 2, 2, 2, 2, 2,\n",
              "       2, 2, 2, 2, 2, 2, 2, 2, 2, 2, 2, 2, 2, 2, 2, 2, 2, 2])"
            ]
          },
          "metadata": {
            "tags": []
          },
          "execution_count": 9
        }
      ]
    },
    {
      "cell_type": "markdown",
      "metadata": {
        "id": "rINwtCNULe40"
      },
      "source": [
        "---\n",
        "# [A] Importing $K$-Means from scikit-learn"
      ]
    },
    {
      "cell_type": "markdown",
      "metadata": {
        "id": "ag1zz-j3I8lH"
      },
      "source": [
        "The $K$-means functionality can be found in the **`cluster`** subpackage of **scikit-learn**:"
      ]
    },
    {
      "cell_type": "code",
      "metadata": {
        "id": "9z7tzUegLGEF"
      },
      "source": [
        "from sklearn.cluster import KMeans # Notice the capitalization!"
      ],
      "execution_count": null,
      "outputs": []
    },
    {
      "cell_type": "markdown",
      "metadata": {
        "id": "f01VvNXPKqCN"
      },
      "source": [
        "As mentioned before, one of the advantages of working with **scikit-learn** is that the structure of working with different methods is made as similar as possible.\n",
        "\n",
        "That means that the general workflow for **`KMeans`** is similar to that of the previous methods we have discussed. This allows you to quickly pick up new methods.\n",
        "\n",
        "Again, the general workflow is as follows:\n",
        "> 1. Initialize a new object: a **`KMeans`** object in this case\n",
        "> 2. Call the **`fit`** method on that object using data to estimate the unknowns in the model\n",
        "> 3. Extract and interpret the results\n",
        "\n",
        "Just as for `MDS`, the **initialization** of the **`KMeans`** object is very important for the behavior and output of the algorithm.\n",
        "\n",
        "There are four parameters of **`KMeans`** that you should be familiar with when initializing a new object:\n",
        "- **`n_clusters`** (Note: Not **`n_components`** in contrast to before!!!)\n",
        " - Specifies the value for $K$, i.e. the number of clusters\n",
        " - Default value is 8 (Note: Not 2 (as in MDS) or $P$ (as in PCA))\n",
        "- **`random_state`**\n",
        " - **Always** set this value to a non-negative integer for reproducible results\n",
        "- **`n_init`**\n",
        " - The number of **random starts** used by the $K$-means algorithm\n",
        " - Default value: 10\n",
        "- **`max_iter`**\n",
        " - The maximum number of iterations **per random start**\n",
        " - Default: 300\n",
        "\n",
        "For more details about these parameters, refer to the lecture materials for $K$-Means (and MDS)."
      ]
    },
    {
      "cell_type": "markdown",
      "metadata": {
        "id": "4KfURiVDOpdZ"
      },
      "source": [
        "---\n",
        "# [B] The $K$ cluster means"
      ]
    },
    {
      "cell_type": "markdown",
      "metadata": {
        "id": "e8_nkp8qVmkj"
      },
      "source": [
        "First, let's create a $K$-means object and fit a $K$-means solution:"
      ]
    },
    {
      "cell_type": "code",
      "metadata": {
        "id": "r6qHuCFvQpUs",
        "colab": {
          "base_uri": "https://localhost:8080/"
        },
        "outputId": "4e4bcfec-76e2-449e-9741-213938791084"
      },
      "source": [
        "kmeans = KMeans(random_state=744)\n",
        "kmeans.fit(X)"
      ],
      "execution_count": null,
      "outputs": [
        {
          "output_type": "execute_result",
          "data": {
            "text/plain": [
              "KMeans(algorithm='auto', copy_x=True, init='k-means++', max_iter=300,\n",
              "       n_clusters=8, n_init=10, n_jobs=None, precompute_distances='auto',\n",
              "       random_state=744, tol=0.0001, verbose=0)"
            ]
          },
          "metadata": {
            "tags": []
          },
          "execution_count": 11
        }
      ]
    },
    {
      "cell_type": "markdown",
      "metadata": {
        "id": "__xD3unzV4oK"
      },
      "source": [
        "The cluster means (centroids) are stored in the **`cluster_centers_`** attribute.\n",
        "\n",
        "To be consistent with the notation introduced in the lecture slides, we will store the cluster means in in a variable **`M`**:"
      ]
    },
    {
      "cell_type": "code",
      "metadata": {
        "id": "rFX-34-dUfMH",
        "colab": {
          "base_uri": "https://localhost:8080/",
          "height": 297
        },
        "outputId": "15944722-c6e8-4c86-b35c-003ae4c7ca24"
      },
      "source": [
        "M = kmeans.cluster_centers_\n",
        "M = pd.DataFrame(M, index=np.arange(kmeans.n_clusters) + 1, columns=variable_labels)\n",
        "M.round(2)"
      ],
      "execution_count": null,
      "outputs": [
        {
          "output_type": "execute_result",
          "data": {
            "text/html": [
              "<div>\n",
              "<style scoped>\n",
              "    .dataframe tbody tr th:only-of-type {\n",
              "        vertical-align: middle;\n",
              "    }\n",
              "\n",
              "    .dataframe tbody tr th {\n",
              "        vertical-align: top;\n",
              "    }\n",
              "\n",
              "    .dataframe thead th {\n",
              "        text-align: right;\n",
              "    }\n",
              "</style>\n",
              "<table border=\"1\" class=\"dataframe\">\n",
              "  <thead>\n",
              "    <tr style=\"text-align: right;\">\n",
              "      <th></th>\n",
              "      <th>sepal length (cm)</th>\n",
              "      <th>sepal width (cm)</th>\n",
              "      <th>petal length (cm)</th>\n",
              "      <th>petal width (cm)</th>\n",
              "    </tr>\n",
              "  </thead>\n",
              "  <tbody>\n",
              "    <tr>\n",
              "      <th>1</th>\n",
              "      <td>0.22</td>\n",
              "      <td>-0.52</td>\n",
              "      <td>0.52</td>\n",
              "      <td>0.47</td>\n",
              "    </tr>\n",
              "    <tr>\n",
              "      <th>2</th>\n",
              "      <td>-0.57</td>\n",
              "      <td>1.95</td>\n",
              "      <td>-1.27</td>\n",
              "      <td>-1.20</td>\n",
              "    </tr>\n",
              "    <tr>\n",
              "      <th>3</th>\n",
              "      <td>0.85</td>\n",
              "      <td>0.17</td>\n",
              "      <td>0.86</td>\n",
              "      <td>1.04</td>\n",
              "    </tr>\n",
              "    <tr>\n",
              "      <th>4</th>\n",
              "      <td>-0.36</td>\n",
              "      <td>-1.41</td>\n",
              "      <td>0.11</td>\n",
              "      <td>0.00</td>\n",
              "    </tr>\n",
              "    <tr>\n",
              "      <th>5</th>\n",
              "      <td>-1.42</td>\n",
              "      <td>-0.07</td>\n",
              "      <td>-1.33</td>\n",
              "      <td>-1.32</td>\n",
              "    </tr>\n",
              "    <tr>\n",
              "      <th>6</th>\n",
              "      <td>1.83</td>\n",
              "      <td>-0.41</td>\n",
              "      <td>1.39</td>\n",
              "      <td>1.01</td>\n",
              "    </tr>\n",
              "    <tr>\n",
              "      <th>7</th>\n",
              "      <td>2.12</td>\n",
              "      <td>1.55</td>\n",
              "      <td>1.50</td>\n",
              "      <td>1.36</td>\n",
              "    </tr>\n",
              "    <tr>\n",
              "      <th>8</th>\n",
              "      <td>-0.97</td>\n",
              "      <td>0.87</td>\n",
              "      <td>-1.30</td>\n",
              "      <td>-1.23</td>\n",
              "    </tr>\n",
              "  </tbody>\n",
              "</table>\n",
              "</div>"
            ],
            "text/plain": [
              "   sepal length (cm)  sepal width (cm)  petal length (cm)  petal width (cm)\n",
              "1               0.22             -0.52               0.52              0.47\n",
              "2              -0.57              1.95              -1.27             -1.20\n",
              "3               0.85              0.17               0.86              1.04\n",
              "4              -0.36             -1.41               0.11              0.00\n",
              "5              -1.42             -0.07              -1.33             -1.32\n",
              "6               1.83             -0.41               1.39              1.01\n",
              "7               2.12              1.55               1.50              1.36\n",
              "8              -0.97              0.87              -1.30             -1.23"
            ]
          },
          "metadata": {
            "tags": []
          },
          "execution_count": 12
        }
      ]
    },
    {
      "cell_type": "markdown",
      "metadata": {
        "id": "vKYoQXJZQmar"
      },
      "source": [
        "Some information about **`M`**:\n",
        "- **`M`** is a $K \\times P$ matrix\n",
        "- The $k$-th row corresponds to $\\mathbf{m}_k$ the $k$-th cluster mean, a $P$-dimensional vector\n",
        "- Each column corresponds to a variable in the data matrix $\\mathbf{X}$\n",
        "\n"
      ]
    },
    {
      "cell_type": "markdown",
      "metadata": {
        "id": "M1YkpM1WrS8p"
      },
      "source": [
        ""
      ]
    },
    {
      "cell_type": "markdown",
      "metadata": {
        "id": "DXnysMchrSux"
      },
      "source": [
        "Like before, we can visualize our results by creating a scatter plot. The code below creates a scatter plot of petal length (cm) vs. petal width (cm):"
      ]
    },
    {
      "cell_type": "code",
      "metadata": {
        "id": "5n-UKwjcOXtp",
        "colab": {
          "base_uri": "https://localhost:8080/",
          "height": 627
        },
        "outputId": "d6765dea-ed3f-4fb6-ca5c-a9e4b014c9a0"
      },
      "source": [
        "plt.figure(figsize=(10, 10))\n",
        "\n",
        "# variable names\n",
        "x_var = 'petal length (cm)'\n",
        "y_var = 'petal width (cm)'\n",
        "plt.title('Cluster means scatter for ' + x_var + ' and ' + y_var)\n",
        "\n",
        "\n",
        "# create line for the axes\n",
        "plt.axhline(0, alpha=0.5, color='k')\n",
        "plt.axvline(0, alpha=0.5, color='k')\n",
        "\n",
        "\n",
        "# scatterplot for the cluster means\n",
        "sns.scatterplot(\n",
        "    x=x_var,\n",
        "    y=y_var,\n",
        "    data=M,\n",
        "    s=200,\n",
        "    color='r',\n",
        "    alpha=0.5,\n",
        ")\n",
        "\n",
        "\n",
        "plt.axis('equal')\n",
        "plt.show()"
      ],
      "execution_count": null,
      "outputs": [
        {
          "output_type": "display_data",
          "data": {
            "image/png": "[encoded data removed]",
            "text/plain": [
              "<Figure size 720x720 with 1 Axes>"
            ]
          },
          "metadata": {
            "tags": [],
            "needs_background": "light"
          }
        }
      ]
    },
    {
      "cell_type": "markdown",
      "metadata": {
        "id": "NOm8BwjMbsaz"
      },
      "source": [
        "For further insight it is a good idea to label the cluster means:"
      ]
    },
    {
      "cell_type": "code",
      "metadata": {
        "id": "jh9iJzpmbqHN",
        "colab": {
          "base_uri": "https://localhost:8080/",
          "height": 627
        },
        "outputId": "f72b7fbf-1077-4e8a-e9ca-a128a399f111"
      },
      "source": [
        "plt.figure(figsize=(10, 10))\n",
        "\n",
        "# variable names\n",
        "x_var = 'petal length (cm)'\n",
        "y_var = 'petal width (cm)'\n",
        "plt.title('Cluster means scatter for ' + x_var + ' and ' + y_var)\n",
        "\n",
        "\n",
        "# create line for the axes\n",
        "plt.axhline(0, alpha=0.5, color='k')\n",
        "plt.axvline(0, alpha=0.5, color='k')\n",
        "\n",
        "\n",
        "# scatterplot for the cluster means\n",
        "sns.scatterplot(\n",
        "    x=x_var,\n",
        "    y=y_var,\n",
        "    data=M,\n",
        "    s=200,\n",
        "    color='r',\n",
        "    alpha=0.5,\n",
        ")\n",
        "\n",
        "\n",
        "# add a label for each cluster mean\n",
        "for k in range(kmeans.n_clusters):\n",
        "    plt.annotate(\n",
        "        s=k + 1,\n",
        "        xy=M.loc[k + 1, [x_var, y_var]],\n",
        "        fontsize=20\n",
        "    )  \n",
        "\n",
        "plt.axis('equal')\n",
        "plt.show()"
      ],
      "execution_count": null,
      "outputs": [
        {
          "output_type": "display_data",
          "data": {
            "image/png": "[encoded data removed]",
            "text/plain": [
              "<Figure size 720x720 with 1 Axes>"
            ]
          },
          "metadata": {
            "tags": [],
            "needs_background": "light"
          }
        }
      ]
    },
    {
      "cell_type": "markdown",
      "metadata": {
        "id": "Wu9Vsanjb1A0"
      },
      "source": [
        "We can further extend the scatter plot by including the data points as well:"
      ]
    },
    {
      "cell_type": "code",
      "metadata": {
        "id": "IyNKhWggb5WM",
        "colab": {
          "base_uri": "https://localhost:8080/",
          "height": 627
        },
        "outputId": "05ccd88e-5764-4bba-a14c-b25e2447b67a"
      },
      "source": [
        "plt.figure(figsize=(10, 10))\n",
        "\n",
        "# variable names\n",
        "x_var = 'petal length (cm)'\n",
        "y_var = 'petal width (cm)'\n",
        "plt.title('Cluster means scatter for ' + x_var + ' and ' + y_var)\n",
        "\n",
        "\n",
        "# create line for the axes\n",
        "plt.axhline(0, alpha=0.5, color='k')\n",
        "plt.axvline(0, alpha=0.5, color='k')\n",
        "\n",
        "\n",
        "# scatterplot for the observations\n",
        "sns.scatterplot(\n",
        "    x=x_var,\n",
        "    y=y_var,\n",
        "    data=X,\n",
        "    s=50,\n",
        ")\n",
        "\n",
        "\n",
        "# scatterplot for the cluster means\n",
        "sns.scatterplot(\n",
        "    x=x_var,\n",
        "    y=y_var,\n",
        "    data=M,\n",
        "    s=200,\n",
        "    color='r',\n",
        "    alpha=0.5,\n",
        ")\n",
        "\n",
        "\n",
        "# add a label for each cluster mean\n",
        "for k in range(kmeans.n_clusters):\n",
        "    plt.annotate(\n",
        "        s=k + 1,\n",
        "        xy=M.loc[k + 1, [x_var, y_var]],\n",
        "        fontsize=20\n",
        "    )  \n",
        "\n",
        "plt.axis('equal')\n",
        "plt.show()"
      ],
      "execution_count": null,
      "outputs": [
        {
          "output_type": "display_data",
          "data": {
            "image/png": "[encoded data removed]",
            "text/plain": [
              "<Figure size 720x720 with 1 Axes>"
            ]
          },
          "metadata": {
            "tags": [],
            "needs_background": "light"
          }
        }
      ]
    },
    {
      "cell_type": "markdown",
      "metadata": {
        "id": "RnFJSpLUYqqp"
      },
      "source": [
        "To illustrate this, we can scatter another pair of variables in the data:"
      ]
    },
    {
      "cell_type": "code",
      "metadata": {
        "id": "XJ16z8DTgxOY",
        "colab": {
          "base_uri": "https://localhost:8080/",
          "height": 627
        },
        "outputId": "c6ac8aeb-cc0a-4ee0-83c4-79ebd62acc20"
      },
      "source": [
        "plt.figure(figsize=(10, 10))\n",
        "\n",
        "# variable names\n",
        "x_var = 'sepal length (cm)'\n",
        "y_var = 'sepal width (cm)'\n",
        "plt.title('Cluster means scatter for ' + x_var + ' and ' + y_var)\n",
        "\n",
        "\n",
        "# create line for the axes\n",
        "plt.axhline(0, alpha=0.5, color='k')\n",
        "plt.axvline(0, alpha=0.5, color='k')\n",
        "\n",
        "\n",
        "# scatterplot for the observations\n",
        "sns.scatterplot(\n",
        "    x=x_var,\n",
        "    y=y_var,\n",
        "    data=X,\n",
        "    s=50,\n",
        ")\n",
        "\n",
        "\n",
        "# scatterplot for the cluster means\n",
        "sns.scatterplot(\n",
        "    x=x_var,\n",
        "    y=y_var,\n",
        "    data=M,\n",
        "    s=200,\n",
        "    color='r',\n",
        "    alpha=0.5,\n",
        ")\n",
        "\n",
        "\n",
        "# add a label for each cluster mean\n",
        "for k in range(kmeans.n_clusters):\n",
        "    plt.annotate(\n",
        "        s=k + 1,\n",
        "        xy=M.loc[k + 1, [x_var, y_var]],\n",
        "        fontsize=20\n",
        "    )  \n",
        "\n",
        "plt.axis('equal')\n",
        "plt.show()"
      ],
      "execution_count": null,
      "outputs": [
        {
          "output_type": "display_data",
          "data": {
            "image/png": "[encoded data removed]",
            "text/plain": [
              "<Figure size 720x720 with 1 Axes>"
            ]
          },
          "metadata": {
            "tags": [],
            "needs_background": "light"
          }
        }
      ]
    },
    {
      "cell_type": "markdown",
      "metadata": {
        "id": "th-xizxErkjG"
      },
      "source": [
        "**!!! IMPORTANT NOTES !!!**\n",
        "> - Remember that if you are creating a (2D) scatter plot, you only get a view of your data for the 2 variables you scatter plotted\n",
        "> - Sometimes, this view can be quite misleading, as we have seen in the example above for clusters 5, 8, and 2\n",
        "> - As a good marketing analyst, you should be aware of this! This is also why dimensionality reduction using PCA for example is such a powerful tool! Consider combining it with $K$-means!"
      ]
    },
    {
      "cell_type": "markdown",
      "metadata": {
        "id": "OvUU53rFedTS"
      },
      "source": [
        "---\n",
        "# [C] The cluster assignments"
      ]
    },
    {
      "cell_type": "markdown",
      "metadata": {
        "id": "waN1sCOVel_p"
      },
      "source": [
        "The $N$ cluster assignments are stored in the **`labels_`** attribute of the `KMeans` object.\n",
        "\n",
        "To be consistent with the notation introduced in the lecture slides, we will store the cluster assignments in a variable **`a`**:"
      ]
    },
    {
      "cell_type": "code",
      "metadata": {
        "id": "r5Gku6ynes7q",
        "colab": {
          "base_uri": "https://localhost:8080/"
        },
        "outputId": "2bf5fc0a-25ed-4925-e043-4d27f661f175"
      },
      "source": [
        "# add 1 to let the labels range from 1, ..., K instead of 0, ..., K - 1\n",
        "a = kmeans.labels_ + 1\n",
        "a = pd.Series(a)\n",
        "a"
      ],
      "execution_count": null,
      "outputs": [
        {
          "output_type": "execute_result",
          "data": {
            "text/plain": [
              "0      8\n",
              "1      5\n",
              "2      5\n",
              "3      5\n",
              "4      8\n",
              "      ..\n",
              "145    3\n",
              "146    1\n",
              "147    3\n",
              "148    3\n",
              "149    1\n",
              "Length: 150, dtype: int32"
            ]
          },
          "metadata": {
            "tags": []
          },
          "execution_count": 17
        }
      ]
    },
    {
      "cell_type": "markdown",
      "metadata": {
        "id": "slW4EEv8faix"
      },
      "source": [
        "Some information about **`a`**:\n",
        "- **`a`** is a vector of length $N$\n",
        "- The $i$-th element corresponds to the cluster assignment for the $i$-th observation in $\\mathbf{X}$, that is, $\\mathbf{x}_i$\n",
        "\n",
        "We can compute the number of assignments assigned to each cluster using the **`value_counts`** method of a pandas Series:"
      ]
    },
    {
      "cell_type": "code",
      "metadata": {
        "id": "DoKOdG-revi3",
        "colab": {
          "base_uri": "https://localhost:8080/"
        },
        "outputId": "80520607-dd84-4eac-ea96-a8184a37c56f"
      },
      "source": [
        "a.value_counts()"
      ],
      "execution_count": null,
      "outputs": [
        {
          "output_type": "execute_result",
          "data": {
            "text/plain": [
              "1    36\n",
              "3    30\n",
              "8    21\n",
              "4    21\n",
              "5    16\n",
              "2    13\n",
              "6    10\n",
              "7     3\n",
              "dtype: int64"
            ]
          },
          "metadata": {
            "tags": []
          },
          "execution_count": 18
        }
      ]
    },
    {
      "cell_type": "markdown",
      "metadata": {
        "id": "5BnbjKlksFJ1"
      },
      "source": [
        "By default, the output of `value_counts` is sorted in descending frequency. We can also sort on the value of the index, by calling the **`sort_index`** method after calling `value_counts`:"
      ]
    },
    {
      "cell_type": "code",
      "metadata": {
        "id": "7Vbc4SIXsOUy",
        "colab": {
          "base_uri": "https://localhost:8080/"
        },
        "outputId": "575e48e5-f158-49c4-8bc7-7b45f27ec6f1"
      },
      "source": [
        "a.value_counts().sort_index()"
      ],
      "execution_count": null,
      "outputs": [
        {
          "output_type": "execute_result",
          "data": {
            "text/plain": [
              "1    36\n",
              "2    13\n",
              "3    30\n",
              "4    21\n",
              "5    16\n",
              "6    10\n",
              "7     3\n",
              "8    21\n",
              "dtype: int64"
            ]
          },
          "metadata": {
            "tags": []
          },
          "execution_count": 19
        }
      ]
    },
    {
      "cell_type": "markdown",
      "metadata": {
        "id": "uMZu-UYfgN9E"
      },
      "source": [
        "Note that the cluster sizes can be very different, cluster 7 only has 3 observations assigned to it, while cluster 1 has 36 observations.\n",
        "\n",
        "For a better interpretation of what the cluster means are, we can use the cluster assignments to manually compute the cluster means that we stored in **`M`**:"
      ]
    },
    {
      "cell_type": "code",
      "metadata": {
        "id": "nk2iCksLjPJt",
        "colab": {
          "base_uri": "https://localhost:8080/"
        },
        "outputId": "8d629b2e-2f4a-4fd8-a0a3-4cce0e48f86f"
      },
      "source": [
        "for k in range(kmeans.n_clusters):\n",
        "\n",
        "    # first, create an indicator that selects the rows for a cluster\n",
        "    indicator = (a == (k + 1))\n",
        "\n",
        "    # select the rows, compute their mean, and compare against M\n",
        "    assert np.allclose(M.loc[k + 1], X.loc[indicator].mean())\n",
        "\n",
        "print('All good!')"
      ],
      "execution_count": null,
      "outputs": [
        {
          "output_type": "stream",
          "text": [
            "All good!\n"
          ],
          "name": "stdout"
        }
      ]
    },
    {
      "cell_type": "markdown",
      "metadata": {
        "id": "MJmMczsQjXpD"
      },
      "source": [
        "We can use the information in the cluster assignments **`a`** to enrichen our previous scatter plot, similar to what we have done before:"
      ]
    },
    {
      "cell_type": "code",
      "metadata": {
        "id": "aANUh22aajJn",
        "colab": {
          "base_uri": "https://localhost:8080/",
          "height": 627
        },
        "outputId": "208af788-707d-4e80-94a9-2e2165fb7dba"
      },
      "source": [
        "plt.figure(figsize=(10, 10))\n",
        "\n",
        "# variable names\n",
        "x_var = 'petal length (cm)'\n",
        "y_var = 'petal width (cm)'\n",
        "plt.title('Cluster means scatter for ' + x_var + ' and ' + y_var)\n",
        "\n",
        "\n",
        "# create line for the axes\n",
        "plt.axhline(0, alpha=0.5, color='k')\n",
        "plt.axvline(0, alpha=0.5, color='k')\n",
        "\n",
        "\n",
        "# scatterplot for the observations\n",
        "sns.scatterplot(\n",
        "    x=x_var,\n",
        "    y=y_var,\n",
        "    data=X,\n",
        "    s=50,\n",
        "    hue=a,\n",
        "    style=a,\n",
        "    legend='full',\n",
        ")\n",
        "\n",
        "\n",
        "# scatterplot for the cluster means\n",
        "sns.scatterplot(\n",
        "    x=x_var,\n",
        "    y=y_var,\n",
        "    data=M,\n",
        "    s=300,\n",
        "    color='r',\n",
        "    alpha=0.5,\n",
        ")\n",
        "\n",
        "\n",
        "# add a label for each cluster mean\n",
        "for k in range(kmeans.n_clusters):\n",
        "    plt.annotate(\n",
        "        s=k + 1,\n",
        "        xy=M.loc[k + 1, [x_var, y_var]],\n",
        "        fontsize=20\n",
        "    )  \n",
        "\n",
        "plt.axis('equal')\n",
        "plt.show()"
      ],
      "execution_count": null,
      "outputs": [
        {
          "output_type": "display_data",
          "data": {
            "image/png": "[encoded data removed]",
            "text/plain": [
              "<Figure size 720x720 with 1 Axes>"
            ]
          },
          "metadata": {
            "tags": [],
            "needs_background": "light"
          }
        }
      ]
    },
    {
      "cell_type": "markdown",
      "metadata": {
        "id": "OshTrIrHLqdN"
      },
      "source": [
        "Remember from the lecture slides that the cluster assignment of an observation is based on **Euclidean distance** from that point to each cluster mean (think of this distance as a straight line): An observation is assigned in the cluster that corresponds to the **nearest** cluster mean\n"
      ]
    },
    {
      "cell_type": "markdown",
      "metadata": {
        "id": "yHpIQOu4xOI4"
      },
      "source": [
        "---\n",
        "# [D] Sum of Squared Errors (SSE)"
      ]
    },
    {
      "cell_type": "markdown",
      "metadata": {
        "id": "p-0rpvwmxTwP"
      },
      "source": [
        "The sum of squared errors (SSE) is stored in the **`inertia_`** attribute of the `KMeans` object:"
      ]
    },
    {
      "cell_type": "code",
      "metadata": {
        "id": "PJ792LzvLcm7",
        "colab": {
          "base_uri": "https://localhost:8080/"
        },
        "outputId": "2a0fdd52-30ca-4c40-b346-4c2f88c2339c"
      },
      "source": [
        "SSE = kmeans.inertia_\n",
        "SSE"
      ],
      "execution_count": null,
      "outputs": [
        {
          "output_type": "execute_result",
          "data": {
            "text/plain": [
              "62.123668324476014"
            ]
          },
          "metadata": {
            "tags": []
          },
          "execution_count": 22
        }
      ]
    },
    {
      "cell_type": "markdown",
      "metadata": {
        "id": "Hj3unRY5x-5Y"
      },
      "source": [
        "Some information about **`SSE`**:\n",
        "- **`SSE`** is always a non-negative float\n",
        "- The closer **`SSE`** to 0, the better the fit of the data\n",
        "- The returned **`SSE`** corresponds to the random start of the $K$-means algorithm that obtained the lowest **`SSE`** value"
      ]
    },
    {
      "cell_type": "markdown",
      "metadata": {
        "id": "CDj52ClMxxNn"
      },
      "source": [
        "For further insights, we can verify that this is actually the sum of squared errors by computing it manually:"
      ]
    },
    {
      "cell_type": "code",
      "metadata": {
        "id": "SKyqUrhWyQrP",
        "colab": {
          "base_uri": "https://localhost:8080/"
        },
        "outputId": "d20e0579-14d3-4a23-a5e2-36ad8e2ee58d"
      },
      "source": [
        "SSE_own = 0.0\n",
        "for i in range(X.shape[0]):\n",
        "    SSE_own += np.sum((X.loc[i] - M.loc[a[i]])**2)\n",
        "\n",
        "SSE_own"
      ],
      "execution_count": null,
      "outputs": [
        {
          "output_type": "execute_result",
          "data": {
            "text/plain": [
              "62.12366832447599"
            ]
          },
          "metadata": {
            "tags": []
          },
          "execution_count": 23
        }
      ]
    },
    {
      "cell_type": "markdown",
      "metadata": {
        "id": "p2_g_fMdybvG"
      },
      "source": [
        "Or alternatively, without a for-loop:"
      ]
    },
    {
      "cell_type": "code",
      "metadata": {
        "id": "uVdyIKy1xkMz",
        "colab": {
          "base_uri": "https://localhost:8080/"
        },
        "outputId": "87c811a6-7afc-4891-948a-9cf2c9442851"
      },
      "source": [
        "np.sum(np.sum((X - M.loc[a].values)**2, axis=1))"
      ],
      "execution_count": null,
      "outputs": [
        {
          "output_type": "execute_result",
          "data": {
            "text/plain": [
              "62.123668324476014"
            ]
          },
          "metadata": {
            "tags": []
          },
          "execution_count": 24
        }
      ]
    },
    {
      "cell_type": "markdown",
      "metadata": {
        "id": "PT03KJQF2_cC"
      },
      "source": [
        "---\n",
        "# [E] Selecting $K$: The number of clusters"
      ]
    },
    {
      "cell_type": "markdown",
      "metadata": {
        "id": "KMTQRH0zNiJa"
      },
      "source": [
        "As discussed in the lecture slides, there are two ways to select $K$, the number of clusters.\n",
        "- **\"Subjective\"**: Look at the interpretability of the $K$-means solution for a given value of $K$\n",
        "- **\"Objective\"**: Create an elbow plot of the SSE values for a range of values for $K$\n",
        "\n",
        "In this course we will focus on the latter.\n",
        "\n",
        "For the objective criterion, we have to find the $K$-means solution for **a range** of $K$ values\n",
        "- A **`for`**-loop can be conveniently used for this:"
      ]
    },
    {
      "cell_type": "code",
      "metadata": {
        "id": "Hf_gTYKUNrCQ",
        "colab": {
          "base_uri": "https://localhost:8080/"
        },
        "outputId": "353ce002-f385-4aca-a8e3-39c0a7f13768"
      },
      "source": [
        "# Specify the number of different K values we are considering\n",
        "n_k_values = 20\n",
        "\n",
        "# Create a dictionary in which we will store the estimated K-means objects\n",
        "kmeans_objects = {}\n",
        "\n",
        "# Create a list in which we will store the SSE values for each K-means object\n",
        "kmeans_sse = []\n",
        "\n",
        "# Loop over the values 1, 2, ..., n_k_values\n",
        "for k in range(1, n_k_values + 1):\n",
        "    \n",
        "    # do not forget to fix your random state!\n",
        "    kmeans = KMeans(n_clusters=k, random_state=0).fit(X)\n",
        "\n",
        "    # save the kmeans object in the dictionary\n",
        "    kmeans_objects[k] = kmeans\n",
        "\n",
        "    # save the SSE value of the kmeans object in the list\n",
        "    kmeans_sse.append(kmeans.inertia_)\n",
        "    \n",
        "    print('Done with: k =', k)"
      ],
      "execution_count": null,
      "outputs": [
        {
          "output_type": "stream",
          "text": [
            "Done with: k = 1\n",
            "Done with: k = 2\n",
            "Done with: k = 3\n",
            "Done with: k = 4\n",
            "Done with: k = 5\n",
            "Done with: k = 6\n",
            "Done with: k = 7\n",
            "Done with: k = 8\n",
            "Done with: k = 9\n",
            "Done with: k = 10\n",
            "Done with: k = 11\n",
            "Done with: k = 12\n",
            "Done with: k = 13\n",
            "Done with: k = 14\n",
            "Done with: k = 15\n",
            "Done with: k = 16\n",
            "Done with: k = 17\n",
            "Done with: k = 18\n",
            "Done with: k = 19\n",
            "Done with: k = 20\n"
          ],
          "name": "stdout"
        }
      ]
    },
    {
      "cell_type": "markdown",
      "metadata": {
        "id": "TH1EWYUp6ccW"
      },
      "source": [
        "Now let's create the \"elbow\" plot based on the SSE values:"
      ]
    },
    {
      "cell_type": "code",
      "metadata": {
        "id": "ZC_vTR6p4AVy",
        "colab": {
          "base_uri": "https://localhost:8080/",
          "height": 518
        },
        "outputId": "79ef2927-2140-4a6e-9634-5b88ee95bc4f"
      },
      "source": [
        "plt.figure(figsize=(8, 8))\n",
        "\n",
        "plt.title('Elbow plot of the SSE values')\n",
        "plt.ylabel('SSE')\n",
        "plt.xlabel('k')\n",
        "\n",
        "sns.lineplot(\n",
        "    x=range(1, n_k_values + 1),\n",
        "    y=kmeans_sse,\n",
        "    marker='o',\n",
        "    markersize=12,\n",
        ")\n",
        "\n",
        "plt.xticks(range(1, n_k_values + 1))\n",
        "plt.show()"
      ],
      "execution_count": null,
      "outputs": [
        {
          "output_type": "display_data",
          "data": {
            "image/png": "[encoded data removed]",
            "text/plain": [
              "<Figure size 576x576 with 1 Axes>"
            ]
          },
          "metadata": {
            "tags": [],
            "needs_background": "light"
          }
        }
      ]
    },
    {
      "cell_type": "markdown",
      "metadata": {
        "id": "v_4bEAaXPciL"
      },
      "source": [
        "A few things to take away from this plot:\n",
        "- **Theoretically**, the SSE values should be a **non-increasing** function of $k$, such that SSE($k+1$) $\\leq$ SSE($k$)\n",
        "- In practice, due to the **local** solutions, this property sometimes does not hold. However, in the example above, it does hold\n",
        "\n",
        "Therefore we are not interested in the $K$-means solution with the lowest SSE value, as the SSE-value would be 0 if we set $K=N$. But that solution would not lead to any insight!\n",
        "- The art is to \"strike a balance\" between finding usable patterns in the data and the complexity of the solution\n",
        "- This balance occurs at the \"bend\" of the elbow plot\n",
        "\n",
        "In practice, the bend in the elbow plot is not super clear\n",
        "- This is also the case in this example, there are two candidates $K=3$ and $K=5$\n",
        "- When in doubt, apply **Occam's razor**: Choose the simplest solution! In the context of $K$-means that means choose the solution with fewer clusters\n",
        "\n",
        "Using the elbow plot and **Occam's razor**, $K=3$ seems to be the best answer here\n",
        "- Note: You don't have to re-estimate the $K$-means solution, we stored it in the `kmeans_objects` dictionary!\n"
      ]
    },
    {
      "cell_type": "code",
      "metadata": {
        "id": "cUjMSnLI9EUz",
        "colab": {
          "base_uri": "https://localhost:8080/"
        },
        "outputId": "019d7f7e-bc20-4405-f86c-7604e9a87f41"
      },
      "source": [
        "kmeans = kmeans_objects[3]\n",
        "\n",
        "M = kmeans.cluster_centers_\n",
        "M = pd.DataFrame(M, index=np.arange(kmeans.n_clusters) + 1, columns=variable_labels)\n",
        "M.round(2)\n",
        "\n",
        "a = kmeans.labels_ + 1\n",
        "a = pd.Series(a)\n",
        "a"
      ],
      "execution_count": null,
      "outputs": [
        {
          "output_type": "execute_result",
          "data": {
            "text/plain": [
              "0      2\n",
              "1      2\n",
              "2      2\n",
              "3      2\n",
              "4      2\n",
              "      ..\n",
              "145    1\n",
              "146    3\n",
              "147    1\n",
              "148    1\n",
              "149    3\n",
              "Length: 150, dtype: int32"
            ]
          },
          "metadata": {
            "tags": []
          },
          "execution_count": 27
        }
      ]
    },
    {
      "cell_type": "markdown",
      "metadata": {
        "id": "ozHN_YEfqmmH"
      },
      "source": [
        "Size of the clusters:"
      ]
    },
    {
      "cell_type": "code",
      "metadata": {
        "id": "EdLr1lPxvil4",
        "colab": {
          "base_uri": "https://localhost:8080/"
        },
        "outputId": "3f484965-67fd-4ed7-a61e-4827532b431c"
      },
      "source": [
        "a.value_counts()"
      ],
      "execution_count": null,
      "outputs": [
        {
          "output_type": "execute_result",
          "data": {
            "text/plain": [
              "3    53\n",
              "2    50\n",
              "1    47\n",
              "dtype: int64"
            ]
          },
          "metadata": {
            "tags": []
          },
          "execution_count": 28
        }
      ]
    },
    {
      "cell_type": "markdown",
      "metadata": {
        "id": "DIbJvjRgvrEf"
      },
      "source": [
        "And sorted by index:"
      ]
    },
    {
      "cell_type": "code",
      "metadata": {
        "id": "ahyuK7EU9h5p",
        "colab": {
          "base_uri": "https://localhost:8080/"
        },
        "outputId": "08255d6e-6b75-4c42-deec-9ac0fe8f3d9e"
      },
      "source": [
        "a.value_counts().sort_index()"
      ],
      "execution_count": null,
      "outputs": [
        {
          "output_type": "execute_result",
          "data": {
            "text/plain": [
              "1    47\n",
              "2    50\n",
              "3    53\n",
              "dtype: int64"
            ]
          },
          "metadata": {
            "tags": []
          },
          "execution_count": 30
        }
      ]
    },
    {
      "cell_type": "markdown",
      "metadata": {
        "id": "WqF2kmYWqosE"
      },
      "source": [
        "Complete scatter plot:"
      ]
    },
    {
      "cell_type": "code",
      "metadata": {
        "id": "_dZiVH919jcb",
        "colab": {
          "base_uri": "https://localhost:8080/",
          "height": 627
        },
        "outputId": "bd547bdb-2baa-4ff9-c03f-bf2c710aced7"
      },
      "source": [
        "plt.figure(figsize=(10, 10))\n",
        "\n",
        "# variable names\n",
        "x_var = 'petal length (cm)'\n",
        "y_var = 'petal width (cm)'\n",
        "plt.title('Cluster means scatter for ' + x_var + ' and ' + y_var)\n",
        "\n",
        "\n",
        "# create line for the axes\n",
        "plt.axhline(0, alpha=0.5, color='k')\n",
        "plt.axvline(0, alpha=0.5, color='k')\n",
        "\n",
        "\n",
        "# scatterplot for the observations\n",
        "sns.scatterplot(\n",
        "    x=x_var,\n",
        "    y=y_var,\n",
        "    data=X,\n",
        "    s=50,\n",
        "    hue=a,\n",
        "    style=a,\n",
        "    legend='full',\n",
        ")\n",
        "\n",
        "\n",
        "# scatterplot for the cluster means\n",
        "sns.scatterplot(\n",
        "    x=x_var,\n",
        "    y=y_var,\n",
        "    data=M,\n",
        "    s=300,\n",
        "    color='r',\n",
        "    alpha=0.5,\n",
        ")\n",
        "\n",
        "\n",
        "# add a label for each cluster mean\n",
        "for k in range(kmeans.n_clusters):\n",
        "    plt.annotate(\n",
        "        s=k + 1,\n",
        "        xy=M.loc[k + 1, [x_var, y_var]],\n",
        "        fontsize=20\n",
        "    )  \n",
        "\n",
        "plt.axis('equal')\n",
        "plt.show()"
      ],
      "execution_count": null,
      "outputs": [
        {
          "output_type": "display_data",
          "data": {
            "image/png": "[encoded data removed]",
            "text/plain": [
              "<Figure size 720x720 with 1 Axes>"
            ]
          },
          "metadata": {
            "tags": [],
            "needs_background": "light"
          }
        }
      ]
    },
    {
      "cell_type": "markdown",
      "metadata": {
        "id": "PBaGkrK3qtXn"
      },
      "source": [
        "And between another pair of variables:"
      ]
    },
    {
      "cell_type": "code",
      "metadata": {
        "id": "vnTI0zDd9mcY",
        "colab": {
          "base_uri": "https://localhost:8080/",
          "height": 627
        },
        "outputId": "52966aca-fcd8-4050-f7ef-1c4d77edc946"
      },
      "source": [
        "plt.figure(figsize=(10, 10))\n",
        "\n",
        "# variable names\n",
        "x_var = 'sepal length (cm)'\n",
        "y_var = 'sepal width (cm)'\n",
        "plt.title('Cluster means scatter for ' + x_var + ' and ' + y_var)\n",
        "\n",
        "\n",
        "# create line for the axes\n",
        "plt.axhline(0, alpha=0.5, color='k')\n",
        "plt.axvline(0, alpha=0.5, color='k')\n",
        "\n",
        "\n",
        "# scatterplot for the observations\n",
        "sns.scatterplot(\n",
        "    x=x_var,\n",
        "    y=y_var,\n",
        "    data=X,\n",
        "    s=50,\n",
        "    hue=a,\n",
        "    style=a,\n",
        "    legend='full',\n",
        ")\n",
        "\n",
        "\n",
        "# scatterplot for the cluster means\n",
        "sns.scatterplot(\n",
        "    x=x_var,\n",
        "    y=y_var,\n",
        "    data=M,\n",
        "    s=300,\n",
        "    color='r',\n",
        "    alpha=0.5,\n",
        ")\n",
        "\n",
        "\n",
        "# add a label for each cluster mean\n",
        "for k in range(kmeans.n_clusters):\n",
        "    plt.annotate(\n",
        "        s=k + 1,\n",
        "        xy=M.loc[k + 1, [x_var, y_var]],\n",
        "        fontsize=20\n",
        "    )  \n",
        "\n",
        "plt.axis('equal')\n",
        "plt.show()"
      ],
      "execution_count": null,
      "outputs": [
        {
          "output_type": "display_data",
          "data": {
            "image/png": "[encoded data removed]",
            "text/plain": [
              "<Figure size 720x720 with 1 Axes>"
            ]
          },
          "metadata": {
            "tags": [],
            "needs_background": "light"
          }
        }
      ]
    },
    {
      "cell_type": "markdown",
      "metadata": {
        "id": "jE5Wz25Mqza2"
      },
      "source": [
        "There is now a very clear separation between the 3 groups across the 4 variables."
      ]
    },
    {
      "cell_type": "markdown",
      "metadata": {
        "id": "u-kdS9MbqJH-"
      },
      "source": [
        "---\n",
        "# Conclusion\n",
        "\n",
        "We have discussed \n",
        "- How to apply the $K$-Means algorithm to data\n",
        "- How to visualize its results\n",
        "- How to determine the number of clusters $K$ using an elbow plot"
      ]
    }
  ]
}