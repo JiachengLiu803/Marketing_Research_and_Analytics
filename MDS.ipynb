{
  "nbformat": 4,
  "nbformat_minor": 0,
  "metadata": {
    "colab": {
      "name": "Copy of 2021_Spring_BUMK744_MDS.ipynb",
      "provenance": [],
      "collapsed_sections": [],
      "toc_visible": true
    },
    "kernelspec": {
      "name": "python3",
      "display_name": "Python 3"
    }
  },
  "cells": [
    {
      "cell_type": "markdown",
      "metadata": {
        "id": "MMx-3MoKYEMr"
      },
      "source": [
        "# **Multidimensional Scaling (MDS)**\n",
        "\n",
        "\n",
        "**Objectives:**\n",
        "\n",
        "In this notebook we will start using Multidimensional Scaling (MDS) and apply it to the Iris dataset to discover hidden latent constructs.\n",
        "\n",
        "> - [A] Importing MDS functionality from scikit-learn\n",
        "> - [B] Extracting the coordinate matrix $\\mathbf{C}$ and the stress value\n",
        "> - [C] Correlations between $\\mathbf{X}$ and $\\mathbf{C}$\n",
        "> - [D] Visualing the MDS solution\n",
        "> - [E] Initializing the MDS object\n",
        "\n",
        "---"
      ]
    },
    {
      "cell_type": "code",
      "metadata": {
        "id": "L91qy0xNUysm"
      },
      "source": [
        ""
      ],
      "execution_count": null,
      "outputs": []
    },
    {
      "cell_type": "markdown",
      "metadata": {
        "id": "N9fyPyZJsc7j"
      },
      "source": [
        "We import the same packages and data as before:"
      ]
    },
    {
      "cell_type": "code",
      "metadata": {
        "id": "E5rxwtMjsl5l"
      },
      "source": [
        "import numpy as np\n",
        "import pandas as pd\n",
        "\n",
        "import matplotlib.pyplot as plt\n",
        "import seaborn as sns\n",
        "sns.set()\n",
        "\n",
        "from sklearn import datasets\n",
        "\n",
        "\n",
        "def compute_corr_X_Z(df_X, df_Z):\n",
        "    K_X = df_X.shape[1]\n",
        "    corr_X_Z = pd.concat([df_X, df_Z], axis=1).corr().iloc[:K_X, K_X:]\n",
        "    return pd.DataFrame(\n",
        "        corr_X_Z.values,\n",
        "        index=df_X.columns,\n",
        "        columns=df_Z.columns,\n",
        "    )\n",
        "\n",
        "iris = datasets.load_iris()\n",
        "\n",
        "# Load X, y, variable labels for the Iris data set\n",
        "X = iris.data\n",
        "y = iris.target\n",
        "variable_labels = iris.feature_names\n",
        "\n",
        "# Create a dataframe for X\n",
        "X = pd.DataFrame(X, columns=variable_labels)\n",
        "\n",
        "# We apply MDS to standardized data\n",
        "X = X - X.mean()\n",
        "X = X / X.std()"
      ],
      "execution_count": null,
      "outputs": []
    },
    {
      "cell_type": "code",
      "metadata": {
        "id": "8IugWS9cfUK7",
        "colab": {
          "base_uri": "https://localhost:8080/",
          "height": 419
        },
        "outputId": "467e839f-bbec-4d83-a441-022b1a2085a5"
      },
      "source": [
        "X"
      ],
      "execution_count": null,
      "outputs": [
        {
          "output_type": "execute_result",
          "data": {
            "text/html": [
              "<div>\n",
              "<style scoped>\n",
              "    .dataframe tbody tr th:only-of-type {\n",
              "        vertical-align: middle;\n",
              "    }\n",
              "\n",
              "    .dataframe tbody tr th {\n",
              "        vertical-align: top;\n",
              "    }\n",
              "\n",
              "    .dataframe thead th {\n",
              "        text-align: right;\n",
              "    }\n",
              "</style>\n",
              "<table border=\"1\" class=\"dataframe\">\n",
              "  <thead>\n",
              "    <tr style=\"text-align: right;\">\n",
              "      <th></th>\n",
              "      <th>sepal length (cm)</th>\n",
              "      <th>sepal width (cm)</th>\n",
              "      <th>petal length (cm)</th>\n",
              "      <th>petal width (cm)</th>\n",
              "    </tr>\n",
              "  </thead>\n",
              "  <tbody>\n",
              "    <tr>\n",
              "      <th>0</th>\n",
              "      <td>-0.897674</td>\n",
              "      <td>1.015602</td>\n",
              "      <td>-1.335752</td>\n",
              "      <td>-1.311052</td>\n",
              "    </tr>\n",
              "    <tr>\n",
              "      <th>1</th>\n",
              "      <td>-1.139200</td>\n",
              "      <td>-0.131539</td>\n",
              "      <td>-1.335752</td>\n",
              "      <td>-1.311052</td>\n",
              "    </tr>\n",
              "    <tr>\n",
              "      <th>2</th>\n",
              "      <td>-1.380727</td>\n",
              "      <td>0.327318</td>\n",
              "      <td>-1.392399</td>\n",
              "      <td>-1.311052</td>\n",
              "    </tr>\n",
              "    <tr>\n",
              "      <th>3</th>\n",
              "      <td>-1.501490</td>\n",
              "      <td>0.097889</td>\n",
              "      <td>-1.279104</td>\n",
              "      <td>-1.311052</td>\n",
              "    </tr>\n",
              "    <tr>\n",
              "      <th>4</th>\n",
              "      <td>-1.018437</td>\n",
              "      <td>1.245030</td>\n",
              "      <td>-1.335752</td>\n",
              "      <td>-1.311052</td>\n",
              "    </tr>\n",
              "    <tr>\n",
              "      <th>...</th>\n",
              "      <td>...</td>\n",
              "      <td>...</td>\n",
              "      <td>...</td>\n",
              "      <td>...</td>\n",
              "    </tr>\n",
              "    <tr>\n",
              "      <th>145</th>\n",
              "      <td>1.034539</td>\n",
              "      <td>-0.131539</td>\n",
              "      <td>0.816859</td>\n",
              "      <td>1.443994</td>\n",
              "    </tr>\n",
              "    <tr>\n",
              "      <th>146</th>\n",
              "      <td>0.551486</td>\n",
              "      <td>-1.278680</td>\n",
              "      <td>0.703564</td>\n",
              "      <td>0.919223</td>\n",
              "    </tr>\n",
              "    <tr>\n",
              "      <th>147</th>\n",
              "      <td>0.793012</td>\n",
              "      <td>-0.131539</td>\n",
              "      <td>0.816859</td>\n",
              "      <td>1.050416</td>\n",
              "    </tr>\n",
              "    <tr>\n",
              "      <th>148</th>\n",
              "      <td>0.430722</td>\n",
              "      <td>0.786174</td>\n",
              "      <td>0.930154</td>\n",
              "      <td>1.443994</td>\n",
              "    </tr>\n",
              "    <tr>\n",
              "      <th>149</th>\n",
              "      <td>0.068433</td>\n",
              "      <td>-0.131539</td>\n",
              "      <td>0.760211</td>\n",
              "      <td>0.788031</td>\n",
              "    </tr>\n",
              "  </tbody>\n",
              "</table>\n",
              "<p>150 rows × 4 columns</p>\n",
              "</div>"
            ],
            "text/plain": [
              "     sepal length (cm)  sepal width (cm)  petal length (cm)  petal width (cm)\n",
              "0            -0.897674          1.015602          -1.335752         -1.311052\n",
              "1            -1.139200         -0.131539          -1.335752         -1.311052\n",
              "2            -1.380727          0.327318          -1.392399         -1.311052\n",
              "3            -1.501490          0.097889          -1.279104         -1.311052\n",
              "4            -1.018437          1.245030          -1.335752         -1.311052\n",
              "..                 ...               ...                ...               ...\n",
              "145           1.034539         -0.131539           0.816859          1.443994\n",
              "146           0.551486         -1.278680           0.703564          0.919223\n",
              "147           0.793012         -0.131539           0.816859          1.050416\n",
              "148           0.430722          0.786174           0.930154          1.443994\n",
              "149           0.068433         -0.131539           0.760211          0.788031\n",
              "\n",
              "[150 rows x 4 columns]"
            ]
          },
          "metadata": {
            "tags": []
          },
          "execution_count": 2
        }
      ]
    },
    {
      "cell_type": "code",
      "metadata": {
        "id": "U0wjCg3pfU0o"
      },
      "source": [
        ""
      ],
      "execution_count": null,
      "outputs": []
    },
    {
      "cell_type": "markdown",
      "metadata": {
        "id": "rINwtCNULe40"
      },
      "source": [
        "---\n",
        "# [A] Importing MDS functionality from scikit-learn"
      ]
    },
    {
      "cell_type": "markdown",
      "metadata": {
        "id": "ag1zz-j3I8lH"
      },
      "source": [
        "We will use **scikit-learn** to estimate the coordinates **`C`** and the **`stress`** value for an MDS solution.\n",
        "\n",
        "To use the **MDS** functionality from **scikit-learn** we have to **import** it. The MDS functionality can be found in the **`manifold`** subpackage of scikit-learn:"
      ]
    },
    {
      "cell_type": "code",
      "metadata": {
        "id": "9z7tzUegLGEF"
      },
      "source": [
        "from sklearn.manifold import MDS"
      ],
      "execution_count": null,
      "outputs": []
    },
    {
      "cell_type": "markdown",
      "metadata": {
        "id": "f01VvNXPKqCN"
      },
      "source": [
        "As mentioned before, one of the advantages of working with **scikit-learn** is that the structure of working with different methods is made as similar as possible.\n",
        "\n",
        "This means that the general workflow for **`MDS`** is similar to that of **`FactorAnalysis`** and **`PCA`**. This allows you to quickly pick up new methods. That general workflow is as follows:\n",
        "> 1. Initialize a new object: in this case an **`MDS`** object\n",
        "> 2. Call the `fit` method on the object using data to estimate the unknowns (every time when need estimate!!)\n",
        "> 3. Interpret the results\n",
        "\n",
        "Note that the first step, the **initialization** of the object, is **very important** for the behavior of **`MDS`**.\n",
        "\n",
        "However, we will first look at the coordinate matrix **`C`** and the visualization of the MDS solution, before we dive into details about this initialization. Therefore, for the moment we will fit MDS using the default values:\n",
        "\n",
        "- **`Note`**: The default dimensionality is equal to 2, instead of `P` (like in EFA and PCA)"
      ]
    },
    {
      "cell_type": "code",
      "metadata": {
        "id": "XJ16z8DTgxOY",
        "colab": {
          "base_uri": "https://localhost:8080/"
        },
        "outputId": "d4ce4c86-dfae-4d08-f5d0-efbefd283195"
      },
      "source": [
        "# Note: I am setting random_state here to 0, which is not the default value\n",
        "# It will become more clear why I need to do this at the end of the notebook\n",
        "mds = MDS(random_state=0)\n",
        "mds.fit(X)"
      ],
      "execution_count": null,
      "outputs": [
        {
          "output_type": "execute_result",
          "data": {
            "text/plain": [
              "MDS(dissimilarity='euclidean', eps=0.001, max_iter=300, metric=True,\n",
              "    n_components=2, n_init=4, n_jobs=None, random_state=0, verbose=0)"
            ]
          },
          "metadata": {
            "tags": []
          },
          "execution_count": 3
        }
      ]
    },
    {
      "cell_type": "markdown",
      "metadata": {
        "id": "ER_k3ud8LgYD"
      },
      "source": [
        "---\n",
        "# [B] Extracting the coordinate matrix $\\mathbf{C}$ and the stress value"
      ]
    },
    {
      "cell_type": "markdown",
      "metadata": {
        "id": "OshTrIrHLqdN"
      },
      "source": [
        "The estimated $N \\times L$ coordinate matrix **`C`** is stored in the **`embedding_`** attribute of the MDS object:"
      ]
    },
    {
      "cell_type": "code",
      "metadata": {
        "id": "PJ792LzvLcm7"
      },
      "source": [
        "C = mds.embedding_\n",
        "C = pd.DataFrame(\n",
        "    C,\n",
        "    columns=['L1', 'L2'], # named the two dimensions L1 (horizontal) and L2 (vertical)\n",
        ")"
      ],
      "execution_count": null,
      "outputs": []
    },
    {
      "cell_type": "code",
      "metadata": {
        "id": "Hf_gTYKUNrCQ",
        "colab": {
          "base_uri": "https://localhost:8080/",
          "height": 419
        },
        "outputId": "fc16a038-4da5-4228-f93a-91e9b2a6e13b"
      },
      "source": [
        "C.round(2)           # flower that has same feature are placed in the similar area"
      ],
      "execution_count": null,
      "outputs": [
        {
          "output_type": "execute_result",
          "data": {
            "text/html": [
              "<div>\n",
              "<style scoped>\n",
              "    .dataframe tbody tr th:only-of-type {\n",
              "        vertical-align: middle;\n",
              "    }\n",
              "\n",
              "    .dataframe tbody tr th {\n",
              "        vertical-align: top;\n",
              "    }\n",
              "\n",
              "    .dataframe thead th {\n",
              "        text-align: right;\n",
              "    }\n",
              "</style>\n",
              "<table border=\"1\" class=\"dataframe\">\n",
              "  <thead>\n",
              "    <tr style=\"text-align: right;\">\n",
              "      <th></th>\n",
              "      <th>L1</th>\n",
              "      <th>L2</th>\n",
              "    </tr>\n",
              "  </thead>\n",
              "  <tbody>\n",
              "    <tr>\n",
              "      <th>0</th>\n",
              "      <td>0.50</td>\n",
              "      <td>-2.27</td>\n",
              "    </tr>\n",
              "    <tr>\n",
              "      <th>1</th>\n",
              "      <td>1.49</td>\n",
              "      <td>-1.61</td>\n",
              "    </tr>\n",
              "    <tr>\n",
              "      <th>2</th>\n",
              "      <td>1.29</td>\n",
              "      <td>-2.02</td>\n",
              "    </tr>\n",
              "    <tr>\n",
              "      <th>3</th>\n",
              "      <td>1.51</td>\n",
              "      <td>-1.85</td>\n",
              "    </tr>\n",
              "    <tr>\n",
              "      <th>4</th>\n",
              "      <td>0.41</td>\n",
              "      <td>-2.45</td>\n",
              "    </tr>\n",
              "    <tr>\n",
              "      <th>...</th>\n",
              "      <td>...</td>\n",
              "      <td>...</td>\n",
              "    </tr>\n",
              "    <tr>\n",
              "      <th>145</th>\n",
              "      <td>-1.19</td>\n",
              "      <td>1.53</td>\n",
              "    </tr>\n",
              "    <tr>\n",
              "      <th>146</th>\n",
              "      <td>0.20</td>\n",
              "      <td>1.82</td>\n",
              "    </tr>\n",
              "    <tr>\n",
              "      <th>147</th>\n",
              "      <td>-0.89</td>\n",
              "      <td>1.27</td>\n",
              "    </tr>\n",
              "    <tr>\n",
              "      <th>148</th>\n",
              "      <td>-1.78</td>\n",
              "      <td>0.65</td>\n",
              "    </tr>\n",
              "    <tr>\n",
              "      <th>149</th>\n",
              "      <td>-0.38</td>\n",
              "      <td>0.88</td>\n",
              "    </tr>\n",
              "  </tbody>\n",
              "</table>\n",
              "<p>150 rows × 2 columns</p>\n",
              "</div>"
            ],
            "text/plain": [
              "       L1    L2\n",
              "0    0.50 -2.27\n",
              "1    1.49 -1.61\n",
              "2    1.29 -2.02\n",
              "3    1.51 -1.85\n",
              "4    0.41 -2.45\n",
              "..    ...   ...\n",
              "145 -1.19  1.53\n",
              "146  0.20  1.82\n",
              "147 -0.89  1.27\n",
              "148 -1.78  0.65\n",
              "149 -0.38  0.88\n",
              "\n",
              "[150 rows x 2 columns]"
            ]
          },
          "metadata": {
            "tags": []
          },
          "execution_count": 5
        }
      ]
    },
    {
      "cell_type": "markdown",
      "metadata": {
        "id": "v_4bEAaXPciL"
      },
      "source": [
        "Each row of **`C`** returns the MDS coordinates ($L_1$ and $L_2$) $\\mathbf{c}_i$ of an observation $i$.\n",
        "\n",
        "For example, for observation with index 42 (corresponding to row 43):"
      ]
    },
    {
      "cell_type": "code",
      "metadata": {
        "id": "A_1rme29it7J",
        "colab": {
          "base_uri": "https://localhost:8080/"
        },
        "outputId": "39976275-fa4a-4162-b322-2fa66beb0f64"
      },
      "source": [
        "C.loc[42]             # Only use the values to visualize the dataset is enough"
      ],
      "execution_count": null,
      "outputs": [
        {
          "output_type": "execute_result",
          "data": {
            "text/plain": [
              "L1    1.529898\n",
              "L2   -2.145101\n",
              "Name: 42, dtype: float64"
            ]
          },
          "metadata": {
            "tags": []
          },
          "execution_count": 6
        }
      ]
    },
    {
      "cell_type": "markdown",
      "metadata": {
        "id": "iScBLQRci3nm"
      },
      "source": [
        "The other output value we are interested in is the **`stress`** value of the MDS solution.\n",
        "- A low **`stress`** value (close to 0) is preferred\n",
        "- It indicates that the MDS coordinates **`C`** **fit well** to the dissimilarities $\\mathbf{\\Delta}$ in the data\n",
        "\n",
        "The **`stress`** value is stored in the **`stress_`** attribute of the MDS object:\n"
      ]
    },
    {
      "cell_type": "code",
      "metadata": {
        "id": "ppGyxs3TPe6Z",
        "colab": {
          "base_uri": "https://localhost:8080/"
        },
        "outputId": "5c9db4e6-a2df-40a1-ea69-f2cb34c23b83"
      },
      "source": [
        "stress = mds.stress_\n",
        "stress"
      ],
      "execution_count": null,
      "outputs": [
        {
          "output_type": "execute_result",
          "data": {
            "text/plain": [
              "234.37226998248022"
            ]
          },
          "metadata": {
            "tags": []
          },
          "execution_count": 7
        }
      ]
    },
    {
      "cell_type": "markdown",
      "metadata": {
        "id": "ZDy3upVQa29G"
      },
      "source": [
        "**!! IMPORTANT !!**\n",
        "> **`Note`**: Only compare **stress** values between MDS solutions if the dissimilarity matrix is the same!\n",
        "\n",
        "Comparing **stress** values for different dissimilarity matrices does not make any sense!"
      ]
    },
    {
      "cell_type": "markdown",
      "metadata": {
        "id": "nWOFBYGOmzvW"
      },
      "source": [
        "We will look at the **`stress`** value in more detail when we consider the initialization of the MDS object. "
      ]
    },
    {
      "cell_type": "markdown",
      "metadata": {
        "id": "BolHhLEUZyAu"
      },
      "source": [
        "---\n",
        "# [C] Correlations between $\\mathbf{X}$ and $\\mathbf{C}$"
      ]
    },
    {
      "cell_type": "markdown",
      "metadata": {
        "id": "7wOfFqvAICLy"
      },
      "source": [
        "To get a sense what the two dimensions are about in the MDS solution, it is a good idea to inspect the **correlation** matrix between the $P$ variables in the original data matrix $\\mathbf{X}$ and the $L$-dimensional coordinates in $\\mathbf{C}$\n",
        "> We have seen this before when interpreting PCA and EFA loadings"
      ]
    },
    {
      "cell_type": "code",
      "metadata": {
        "id": "Nlk5LwmDIC7k",
        "colab": {
          "base_uri": "https://localhost:8080/",
          "height": 173
        },
        "outputId": "27e47292-adce-416f-aaaa-adb99fda8987"
      },
      "source": [
        "X_C_corr = compute_corr_X_Z(X, C)\n",
        "X_C_corr"
      ],
      "execution_count": null,
      "outputs": [
        {
          "output_type": "execute_result",
          "data": {
            "text/html": [
              "<div>\n",
              "<style scoped>\n",
              "    .dataframe tbody tr th:only-of-type {\n",
              "        vertical-align: middle;\n",
              "    }\n",
              "\n",
              "    .dataframe tbody tr th {\n",
              "        vertical-align: top;\n",
              "    }\n",
              "\n",
              "    .dataframe thead th {\n",
              "        text-align: right;\n",
              "    }\n",
              "</style>\n",
              "<table border=\"1\" class=\"dataframe\">\n",
              "  <thead>\n",
              "    <tr style=\"text-align: right;\">\n",
              "      <th></th>\n",
              "      <th>L1</th>\n",
              "      <th>L2</th>\n",
              "    </tr>\n",
              "  </thead>\n",
              "  <tbody>\n",
              "    <tr>\n",
              "      <th>sepal length (cm)</th>\n",
              "      <td>-0.829379</td>\n",
              "      <td>0.776635</td>\n",
              "    </tr>\n",
              "    <tr>\n",
              "      <th>sepal width (cm)</th>\n",
              "      <td>-0.409043</td>\n",
              "      <td>-0.665707</td>\n",
              "    </tr>\n",
              "    <tr>\n",
              "      <th>petal length (cm)</th>\n",
              "      <td>-0.631025</td>\n",
              "      <td>0.953061</td>\n",
              "    </tr>\n",
              "    <tr>\n",
              "      <th>petal width (cm)</th>\n",
              "      <td>-0.651085</td>\n",
              "      <td>0.913898</td>\n",
              "    </tr>\n",
              "  </tbody>\n",
              "</table>\n",
              "</div>"
            ],
            "text/plain": [
              "                         L1        L2\n",
              "sepal length (cm) -0.829379  0.776635\n",
              "sepal width (cm)  -0.409043 -0.665707\n",
              "petal length (cm) -0.631025  0.953061\n",
              "petal width (cm)  -0.651085  0.913898"
            ]
          },
          "metadata": {
            "tags": []
          },
          "execution_count": 8
        }
      ]
    },
    {
      "cell_type": "markdown",
      "metadata": {
        "id": "0e900SoXcHqY"
      },
      "source": [
        "We will get to the interpretation of these correlations once we start visualizing the MDS solution."
      ]
    },
    {
      "cell_type": "markdown",
      "metadata": {
        "id": "oBhAm3udN3FO"
      },
      "source": [
        "---\n",
        "# [D] Visualizing the MDS solution"
      ]
    },
    {
      "cell_type": "markdown",
      "metadata": {
        "id": "0_vsV4hGN26i"
      },
      "source": [
        "The primary strength of MDS is that it allows you to visualize your (potentially high-dimensional) observations in a lower-dimensional space, by default in 2 dimensions, while keeping in mind how \"dissimilar\" the observations are to each other. \n",
        "\n",
        "> In this lower-dimensional space you can (more easily) identify groups of observations, or relations between certain observations, that may provide additional insights from the data.\n",
        "\n",
        "We start the visualization with a scatter plot, similar to the ones we have seen before:"
      ]
    },
    {
      "cell_type": "code",
      "metadata": {
        "id": "FOSud6ETVZ3-",
        "colab": {
          "base_uri": "https://localhost:8080/",
          "height": 627
        },
        "outputId": "b7e5a9b4-0356-4674-d5cc-244167effd11"
      },
      "source": [
        "plt.figure(figsize=(10, 10))\n",
        "\n",
        "# create line for the axes\n",
        "plt.axhline(0)\n",
        "plt.axvline(0)\n",
        "\n",
        "# create a scatterplot of the MDS coordinates\n",
        "sns.scatterplot(\n",
        "    x='L1',\n",
        "    y='L2',\n",
        "    data=C,\n",
        ")\n",
        "plt.axis('equal')\n",
        "\n",
        "plt.title('MDS: Scatter plot')\n",
        "plt.show()"
      ],
      "execution_count": null,
      "outputs": [
        {
          "output_type": "display_data",
          "data": {
            "image/png": "[encoded data removed]",
            "text/plain": [
              "<Figure size 720x720 with 1 Axes>"
            ]
          },
          "metadata": {
            "tags": [],
            "needs_background": "light"
          }
        }
      ]
    },
    {
      "cell_type": "markdown",
      "metadata": {
        "id": "wYewQ4GFV7uW"
      },
      "source": [
        "A few things to note here:\n",
        "- **The labels on the axes have no direct meaning**: They correspond to the first and second coordinates of the MDS solution\n",
        "\n",
        "- **Distances in the MDS scatter plot are informative**:\n",
        " - Points that are **close** to each other are more **similar**\n",
        " - Points that are **further away** from each other are more **dissimilar**\n",
        "\n",
        "Notice that two groups of observations seem to form in this MDS solution:\n",
        "- Group 1: Observations with a **positive value** for $L_2$, the second (vertical) dimension of the MDS solution\n",
        "- Group 2: Observations with a **negative value** for $L_2$, the second (vertical) dimension of the MDS solution\n",
        "\n",
        "To gain more insight in what these groups actually represent, we can plot the correlations of each of the original $P$ variables in $\\mathbf{X}$ into this scatter plot.\n",
        "- We have stored these correlations in the **`X_C_corr`** variable that we computed before.\n",
        "- Plotting these in the same plot as the MDS coordinates results in a plot that is very similar in interpretation to a **biplot**"
      ]
    },
    {
      "cell_type": "code",
      "metadata": {
        "id": "LGObHmwbXGq5",
        "colab": {
          "base_uri": "https://localhost:8080/",
          "height": 627
        },
        "outputId": "ea38d915-4ebf-4d0e-a416-8174a6321587"
      },
      "source": [
        "fig, ax = plt.subplots(figsize=[10, 10])\n",
        "\n",
        "# create line for the axes\n",
        "plt.axhline(0)\n",
        "plt.axvline(0)\n",
        "\n",
        "# create a scatterplot of the MDS coordinates\n",
        "sns.scatterplot(\n",
        "    x='L1',\n",
        "    y='L2',\n",
        "    data=C,\n",
        ")\n",
        "plt.axis('equal')\n",
        "\n",
        "abs_xlim = 0.9 * np.max(np.abs(C.iloc[:, 0]))\n",
        "abs_ylim = 0.9 * np.max(np.abs(C.iloc[:, 1]))\n",
        "\n",
        "for variable in X_C_corr.index.values:\n",
        "    ax.arrow(\n",
        "        x=0,\n",
        "        y=0,\n",
        "        dx=X_C_corr.loc[variable]['L1'] * abs_xlim,\n",
        "        dy=X_C_corr.loc[variable]['L2'] * abs_ylim,\n",
        "        width=0.01,\n",
        "        color='k'\n",
        "    )\n",
        "\n",
        "    ax.text(\n",
        "        x=1.1*X_C_corr.loc[variable]['L1'] * abs_xlim,\n",
        "        y=1.1*X_C_corr.loc[variable]['L2'] * abs_ylim,\n",
        "        s=variable,\n",
        "        fontsize=18,\n",
        "    )\n",
        "\n",
        "plt.title('MDS: \"Biplot\"')\n",
        "plt.show()"
      ],
      "execution_count": null,
      "outputs": [
        {
          "output_type": "display_data",
          "data": {
            "image/png": "[encoded data removed]",
            "text/plain": [
              "<Figure size 720x720 with 1 Axes>"
            ]
          },
          "metadata": {
            "tags": [],
            "needs_background": "light"
          }
        }
      ]
    },
    {
      "cell_type": "markdown",
      "metadata": {
        "id": "6cgquNi0Z9ur"
      },
      "source": [
        "Let's first focus on Group 2, which corresponds to $L_2 < 0$\n",
        "- Sepal width for this group is expected to be **above** average\n",
        " - Reason: Data points in Group 2 are (somewhat) located in the direction of the arrow for sepal width\n",
        "- Sepal length, petal width, and petal length are expected to be **below** average\n",
        " - Reason: Data points in Group 2 are located in the **opposite** direction of the arrows for sepal length, petal length, petal width\n",
        "\n",
        "To verify this interpretation, we can only select the observations in the data that belong to Group 2 (that is, for which $L_2 < 0$), and compute the mean of the original variables in the data matrix **`X`**."
      ]
    },
    {
      "cell_type": "code",
      "metadata": {
        "id": "VL4awbURaSoq",
        "colab": {
          "base_uri": "https://localhost:8080/"
        },
        "outputId": "9a18b33b-c72e-4416-81c6-728a33a08bb1"
      },
      "source": [
        "G2_selection = C.loc[:, 'L2'] < 0\n",
        "G2_selection"
      ],
      "execution_count": null,
      "outputs": [
        {
          "output_type": "execute_result",
          "data": {
            "text/plain": [
              "0       True\n",
              "1       True\n",
              "2       True\n",
              "3       True\n",
              "4       True\n",
              "       ...  \n",
              "145    False\n",
              "146    False\n",
              "147    False\n",
              "148    False\n",
              "149    False\n",
              "Name: L2, Length: 150, dtype: bool"
            ]
          },
          "metadata": {
            "tags": []
          },
          "execution_count": 11
        }
      ]
    },
    {
      "cell_type": "markdown",
      "metadata": {
        "id": "muD9cAAbafEX"
      },
      "source": [
        "Now, use the `G2_selection` variable to compute the mean of the original variables:"
      ]
    },
    {
      "cell_type": "code",
      "metadata": {
        "id": "pL4jYb5Xamel",
        "colab": {
          "base_uri": "https://localhost:8080/"
        },
        "outputId": "d0d276db-c633-4085-ee6e-f1d8f549e348"
      },
      "source": [
        "X.loc[G2_selection].mean()"
      ],
      "execution_count": null,
      "outputs": [
        {
          "output_type": "execute_result",
          "data": {
            "text/plain": [
              "sepal length (cm)   -0.987654\n",
              "sepal width (cm)     0.849154\n",
              "petal length (cm)   -1.266886\n",
              "petal width (cm)    -1.215873\n",
              "dtype: float64"
            ]
          },
          "metadata": {
            "tags": []
          },
          "execution_count": 12
        }
      ]
    },
    {
      "cell_type": "markdown",
      "metadata": {
        "id": "juKDcXDOfluO"
      },
      "source": [
        "Remember!\n",
        "- The variables in $\\mathbf{X}$ are all standardized!\n",
        "- If an observation is positive, it has an above average value\n",
        "- If an observation is negative, it has a below average value\n",
        "\n",
        "- $L_1$\n",
        " - Strongly **negatively** correlated with sepal length, so a **large positive value** for $L_1$ indicates that this observation will most likely have a **large negative value** for sepal length (and vice versa)\n",
        " - Also relatively strongly **negatively** correlated with the two petal length variables\n",
        " - Combining this: **Large positive scores** for $L_1$ most likely correspond to flowers that have a **below average** sepal length and a **below average** petal length and width. \n",
        "- $L_2$\n",
        " - Strongly positively correlated with sepal length, petal length, and petal width\n",
        " - Combining this: **Large positive scores** for $L_2$ most likely correspond to flowers that have an **above average** sepal length and an **above average** petal length and width.\n",
        "- For this simple Iris dataset $L_1$ and $L_2$ are a bit redundant "
      ]
    },
    {
      "cell_type": "markdown",
      "metadata": {
        "id": "OfXnCZpSaxEm"
      },
      "source": [
        "Similarly, for Group 1, which corresponds to $L_2 > 0$:"
      ]
    },
    {
      "cell_type": "code",
      "metadata": {
        "id": "2R_l5Np1bb_G",
        "colab": {
          "base_uri": "https://localhost:8080/"
        },
        "outputId": "5418e4eb-aaf6-407a-ddde-9c0b576bebe6"
      },
      "source": [
        "G1_selection = C.loc[:, 'L2'] > 0\n",
        "X.loc[G1_selection].mean()"
      ],
      "execution_count": null,
      "outputs": [
        {
          "output_type": "execute_result",
          "data": {
            "text/plain": [
              "sepal length (cm)    0.508792\n",
              "sepal width (cm)    -0.437443\n",
              "petal length (cm)    0.652638\n",
              "petal width (cm)     0.626359\n",
              "dtype: float64"
            ]
          },
          "metadata": {
            "tags": []
          },
          "execution_count": 14
        }
      ]
    },
    {
      "cell_type": "markdown",
      "metadata": {
        "id": "uUYzk7_aXGc0"
      },
      "source": [
        "We do observe a below average mean for sepal width, as was to be expected\n",
        "- However, for the other 3 variables we should probably break up Group 1 in a low $L_1$ score subgroup and a high $L_1$ score subgroup\n",
        "\n",
        "First the low $L_1$ score subgroup, i.e. if $L_1 < 0$:"
      ]
    },
    {
      "cell_type": "code",
      "metadata": {
        "id": "jJKMD7cwYvXY",
        "colab": {
          "base_uri": "https://localhost:8080/"
        },
        "outputId": "db3df3ab-3bdf-4337-cd47-1e9c77170e56"
      },
      "source": [
        "X.loc[G1_selection & (C.loc[:, 'L1'] < 0)].mean()"
      ],
      "execution_count": null,
      "outputs": [
        {
          "output_type": "execute_result",
          "data": {
            "text/plain": [
              "sepal length (cm)    0.974157\n",
              "sepal width (cm)    -0.035944\n",
              "petal length (cm)    0.893333\n",
              "petal width (cm)     0.906104\n",
              "dtype: float64"
            ]
          },
          "metadata": {
            "tags": []
          },
          "execution_count": 16
        }
      ]
    },
    {
      "cell_type": "markdown",
      "metadata": {
        "id": "2J4qcJY_dASk"
      },
      "source": [
        "For this subgroup the variable means are according to expectation:\n",
        "- Sepal width is approximately **orthogonal** to this subgroup, and therefore relatively close to zero\n",
        "- The other values are large and positive, which was to be expected due to the positive correlations of these variables with $L_2$ and the negative correlations with $L_1$ (visualized using the arrows in the plot)"
      ]
    },
    {
      "cell_type": "markdown",
      "metadata": {
        "id": "dNaEeB9RY61L"
      },
      "source": [
        "Next, the high $L_1$ score subgroup, i.e. if $L_1 > 0$:"
      ]
    },
    {
      "cell_type": "code",
      "metadata": {
        "id": "3VuOrO6oY7pN",
        "colab": {
          "base_uri": "https://localhost:8080/"
        },
        "outputId": "dc20cc31-bfc3-4d65-9fc3-5a8c39b1a83e"
      },
      "source": [
        "X.loc[G1_selection & (C.loc[:, 'L1'] > 0)].mean()"
      ],
      "execution_count": null,
      "outputs": [
        {
          "output_type": "execute_result",
          "data": {
            "text/plain": [
              "sepal length (cm)   -0.207156\n",
              "sepal width (cm)    -1.055134\n",
              "petal length (cm)    0.282338\n",
              "petal width (cm)     0.195982\n",
              "dtype: float64"
            ]
          },
          "metadata": {
            "tags": []
          },
          "execution_count": 17
        }
      ]
    },
    {
      "cell_type": "markdown",
      "metadata": {
        "id": "B8k_etWcdUMC"
      },
      "source": [
        "Again the expectations are largely what we expect here, based on the plotted correlations in the plot:\n",
        "- Sepal width is negative, as this subgroup is located in the **opposite** direction of the arrow for sepal width\n",
        "- The other variables are relatively close to zero, because this subgroup is more or less **orthogonal** to these arrows"
      ]
    },
    {
      "cell_type": "markdown",
      "metadata": {
        "id": "dPi4sjhrg0FC"
      },
      "source": [
        "## Using the dependent variable （y） in your plots\n",
        "\n",
        "So far we have worked exclusively using the data matrix **`X`**\n",
        "- However, for many data sets you also have a **`y`** variable available\n",
        "- This variable can be used to provide further insight in your MDS plots\n",
        "\n",
        "The **`y`** variable for the Iris data set is a **Categorical** variable\n",
        "- It identifies to which **known** class (out of 3) each flower in the data set belongs\n",
        "\n",
        "We can use that information to create a pandas Series with the class label for each observation in the data set:"
      ]
    },
    {
      "cell_type": "code",
      "metadata": {
        "id": "jiZU4I-VQ-0K",
        "colab": {
          "base_uri": "https://localhost:8080/"
        },
        "outputId": "a80b2206-c7f8-4608-c378-28c3b836660e"
      },
      "source": [
        "y_group = pd.Series(y) \n",
        "\n",
        "for group_idx, group_name in enumerate(iris.target_names):\n",
        "    y_group[y_group == group_idx] = group_name\n",
        "\n",
        "y_group"
      ],
      "execution_count": null,
      "outputs": [
        {
          "output_type": "execute_result",
          "data": {
            "text/plain": [
              "0         setosa\n",
              "1         setosa\n",
              "2         setosa\n",
              "3         setosa\n",
              "4         setosa\n",
              "         ...    \n",
              "145    virginica\n",
              "146    virginica\n",
              "147    virginica\n",
              "148    virginica\n",
              "149    virginica\n",
              "Length: 150, dtype: object"
            ]
          },
          "metadata": {
            "tags": []
          },
          "execution_count": 18
        }
      ]
    },
    {
      "cell_type": "markdown",
      "metadata": {
        "id": "gLT02xowheSE"
      },
      "source": [
        "Now, we can add the **`y_group`** information to our scatter plot, by setting the **`style`** and **`hue`** arguments in the call to **`sns.scatterplot`** equal to this variable:"
      ]
    },
    {
      "cell_type": "code",
      "metadata": {
        "id": "IboAvqD-ngej",
        "colab": {
          "base_uri": "https://localhost:8080/",
          "height": 627
        },
        "outputId": "5457901d-ae56-4527-e76b-709062ce9ab5"
      },
      "source": [
        "fig, ax = plt.subplots(figsize=[10, 10])\n",
        "\n",
        "# create line for the axes\n",
        "plt.axhline(0)\n",
        "plt.axvline(0)\n",
        "\n",
        "# create a scatterplot of the MDS coordinates\n",
        "sns.scatterplot(\n",
        "    x='L1',\n",
        "    y='L2',\n",
        "    data=C,\n",
        "    # THE 2 LINES BELOW ARE NOW ADDED\n",
        "    style=y_group,\n",
        "    hue=y_group,\n",
        ")\n",
        "plt.axis('equal')\n",
        "\n",
        "abs_xlim = 0.9 * np.max(np.abs(C.iloc[:, 0]))\n",
        "abs_ylim = 0.9 * np.max(np.abs(C.iloc[:, 1]))\n",
        "\n",
        "for variable in X_C_corr.index.values:\n",
        "    ax.arrow(\n",
        "        x=0,\n",
        "        y=0,\n",
        "        dx=X_C_corr.loc[variable]['L1'] * abs_xlim,\n",
        "        dy=X_C_corr.loc[variable]['L2'] * abs_ylim,\n",
        "        width=0.01,\n",
        "        color='k'\n",
        "    )\n",
        "\n",
        "    ax.text(\n",
        "        x=1.1*X_C_corr.loc[variable]['L1'] * abs_xlim,\n",
        "        y=1.1*X_C_corr.loc[variable]['L2'] * abs_ylim,\n",
        "        s=variable,\n",
        "        fontsize=18,\n",
        "    )\n",
        "\n",
        "plt.title('MDS: \"Biplot\"')\n",
        "plt.show()"
      ],
      "execution_count": null,
      "outputs": [
        {
          "output_type": "display_data",
          "data": {
            "image/png": "[encoded data removed]",
            "text/plain": [
              "<Figure size 720x720 with 1 Axes>"
            ]
          },
          "metadata": {
            "tags": [],
            "needs_background": "light"
          }
        }
      ]
    },
    {
      "cell_type": "markdown",
      "metadata": {
        "id": "FtNzQhTGh9xS"
      },
      "source": [
        "Even if your dependent variable **`y`** is not a Categorical variable, you could still use its information to help visualize your data\n",
        "- For example, if **`y`** is a metric variable (interval or ratio), you could create a group for the observations that have an above average **`y`** value and another group for the observations that have a below average **`y`** value\n",
        "- As a researcher you should then explore if including that information in your MDS plot makes it easier to interpret the MDS plot."
      ]
    },
    {
      "cell_type": "markdown",
      "metadata": {
        "id": "wLlThJD7PBgF"
      },
      "source": [
        "---\n",
        "# [E] Initializing the MDS object"
      ]
    },
    {
      "cell_type": "markdown",
      "metadata": {
        "id": "l_d3hzH_yczV"
      },
      "source": [
        "A proper initialization of the **`MDS`** object in scikit-learn is important\n",
        "- Often, we want to initialize the MDS object using parameter values that are **not** equal to their default values\n",
        "- This is in contrast to the other methods in scikit-learn we have seen so far (except for the `n_components` option in EFA)\n",
        "\n",
        "Below we will discuss setting the following options:\n",
        "> - **`random_state`**\n",
        "> - **`n_components`**\n",
        "> - **`dissimilarity`**\n",
        "> - **`n_init`**\n",
        "> - **`max_iter`**\n",
        "\n",
        "All these values will affect the MDS solution returned by scikit-learn, so it is important that you know how to set these variables yourself."
      ]
    },
    {
      "cell_type": "markdown",
      "metadata": {
        "id": "ZJv-S92GzJ4r"
      },
      "source": [
        "## **`random_state`**"
      ]
    },
    {
      "cell_type": "markdown",
      "metadata": {
        "id": "9HtZPXf9zOol"
      },
      "source": [
        "MDS is a method that depends on the **starting values** (the initial values) of the $N \\times L$ coordinate matrix **`C`**\n",
        "- Different starting values will lead to different MDS solutions\n",
        "- Typically these starting values are chosen at **random**\n",
        "- The \"random behavior\" can be controlled using the **`random_state`** parameter of the MDS object\n",
        "\n",
        "Analyzing **`random_state`**:\n",
        "- **`random_state = None`** (default value)\n",
        " - This is the default value for **`random_state`**\n",
        " - This will result in a different MDS solution every time you call MDS\n",
        " - **Do not use this default value**: Your results will not be replicable!\n",
        "- **`random_state = a_non_negative_int`**\n",
        " - You can set **`random_state`** to any non-negative integer value\n",
        " - For example: 0, 1, 2020, 744\n",
        " - Your MDS results will now be reproducible\n",
        " - **You should always (!!!) specify a value for `random_state`**\n",
        "\n",
        "Let's look at this in practice: In the cells below we will create two different MDS objects and find their solutions using the `fit` method:\n"
      ]
    },
    {
      "cell_type": "code",
      "metadata": {
        "id": "xQx6bly61PVY"
      },
      "source": [
        "mds_1 = MDS().fit(X)\n",
        "mds_2 = MDS().fit(X)"
      ],
      "execution_count": null,
      "outputs": []
    },
    {
      "cell_type": "markdown",
      "metadata": {
        "id": "MNNeObQg1bvM"
      },
      "source": [
        "Let's compare the MDS solution between `mds_1` and `mds_2`:"
      ]
    },
    {
      "cell_type": "code",
      "metadata": {
        "id": "KyP0J6bZ1ek0",
        "colab": {
          "base_uri": "https://localhost:8080/"
        },
        "outputId": "30bf3f2c-68ef-4ae9-8547-bed5d15e8a77"
      },
      "source": [
        "print(mds_1.embedding_[0])\n",
        "print(mds_2.embedding_[0])\n",
        "print(np.allclose(mds_1.embedding_, mds_2.embedding_))\n",
        "print(mds_1.stress_)\n",
        "print(mds_2.stress_)"
      ],
      "execution_count": null,
      "outputs": [
        {
          "output_type": "stream",
          "text": [
            "[-0.85265531 -2.15789104]\n",
            "[2.13194965 0.91926311]\n",
            "False\n",
            "233.8011409006825\n",
            "233.6722946819684\n"
          ],
          "name": "stdout"
        }
      ]
    },
    {
      "cell_type": "markdown",
      "metadata": {
        "id": "kaMpDWsZ1lSp"
      },
      "source": [
        "The results between the two MDS objects are different, even though we are using the same data. By setting **`random_state`** in both MDS objects to the same value, we can ensure that the results in both MDS objects will be the same:"
      ]
    },
    {
      "cell_type": "code",
      "metadata": {
        "id": "JznGyP5c133R"
      },
      "source": [
        "mds_3 = MDS(random_state=744).fit(X)    # ramdom_state must be set (quiz考试)\n",
        "mds_4 = MDS(random_state=744).fit(X)"
      ],
      "execution_count": null,
      "outputs": []
    },
    {
      "cell_type": "markdown",
      "metadata": {
        "id": "q_mYFSxN1-Kj"
      },
      "source": [
        "Now let's compare the MDS solution between `mds_3` and `mds_4`:"
      ]
    },
    {
      "cell_type": "code",
      "metadata": {
        "id": "YhXHh21w1-f4",
        "colab": {
          "base_uri": "https://localhost:8080/"
        },
        "outputId": "f7c0fa5b-8c0f-4679-b15b-a3ee114cfd94"
      },
      "source": [
        "print(mds_3.embedding_[0])\n",
        "print(mds_4.embedding_[0])\n",
        "print(np.allclose(mds_3.embedding_, mds_4.embedding_))\n",
        "print(mds_3.stress_)\n",
        "print(mds_4.stress_)"
      ],
      "execution_count": null,
      "outputs": [
        {
          "output_type": "stream",
          "text": [
            "[-1.54268661  1.73519162]\n",
            "[-1.54268661  1.73519162]\n",
            "True\n",
            "233.81918940750143\n",
            "233.81918940750143\n"
          ],
          "name": "stdout"
        }
      ]
    },
    {
      "cell_type": "markdown",
      "metadata": {
        "id": "55iQF1YV2kpC"
      },
      "source": [
        "Similarly, if we set different values for **`random_state`** the results will be different again:"
      ]
    },
    {
      "cell_type": "code",
      "metadata": {
        "id": "nQXxz4hM2okl",
        "colab": {
          "base_uri": "https://localhost:8080/"
        },
        "outputId": "67b27ba9-27dd-457b-c2e2-c7481f5a0ea3"
      },
      "source": [
        "mds_5 = MDS(random_state=12345).fit(X)\n",
        "mds_6 = MDS(random_state=67890).fit(X)\n",
        "\n",
        "print(mds_5.embedding_[0])\n",
        "print(mds_6.embedding_[0])\n",
        "print(np.allclose(mds_5.embedding_, mds_6.embedding_))\n",
        "print(mds_5.stress_)\n",
        "print(mds_6.stress_)"
      ],
      "execution_count": null,
      "outputs": [
        {
          "output_type": "stream",
          "text": [
            "[-1.7647252   1.50766383]\n",
            "[-2.32049033  0.02215332]\n",
            "False\n",
            "234.0071238933445\n",
            "233.74344536412528\n"
          ],
          "name": "stdout"
        }
      ]
    },
    {
      "cell_type": "markdown",
      "metadata": {
        "id": "52QpEdtaseau"
      },
      "source": [
        "To conclude:\n",
        "> **You should always set a value for `random_state`, such that your MDS results are replicable**."
      ]
    },
    {
      "cell_type": "markdown",
      "metadata": {
        "id": "hayLeuim7gDu"
      },
      "source": [
        "## **`n_components`**"
      ]
    },
    {
      "cell_type": "markdown",
      "metadata": {
        "id": "TCbTmRyE3M8q"
      },
      "source": [
        "The MDS coordinates are specified in a lower-dimensional space of dimensionality $L$\n",
        "- The value for $L$ is set using the **`n_components`** parameter of the MDS object.\n",
        "\n",
        "About **`n_components`**:\n",
        "- **`n_components = 2`** (default value)\n",
        " - This will results in 2D coordinates, that can be visualized in a 2D scatter plot\n",
        "- **`n_components = a_positive_int`**\n",
        " - You can set **`random_state`** to any positive integer value\n",
        " - However, MDS is intended for **visualization**. Therefore $L$ is typically set to 2 (the default) or 3\n",
        "\n",
        "For example, if we set this value equal to 3 it will return 3D MDS coordinates:"
      ]
    },
    {
      "cell_type": "code",
      "metadata": {
        "id": "mwh-XOhQ31pH",
        "colab": {
          "base_uri": "https://localhost:8080/"
        },
        "outputId": "34f80355-53fe-417a-d855-7283461e015b"
      },
      "source": [
        "mds_3d = MDS(n_components=3).fit(X)\n",
        "\n",
        "print(mds_3d.embedding_[0])"
      ],
      "execution_count": null,
      "outputs": [
        {
          "output_type": "stream",
          "text": [
            "[ 0.1328985  -1.70698989 -1.55310079]\n"
          ],
          "name": "stdout"
        }
      ]
    },
    {
      "cell_type": "markdown",
      "metadata": {
        "id": "s9Sqsngs4XqX"
      },
      "source": [
        "## **`dissimilarity`**"
      ]
    },
    {
      "cell_type": "markdown",
      "metadata": {
        "id": "mqw9n9iH4Vmm"
      },
      "source": [
        "The MDS functionality in scikit-learn can handle two types of data:\n",
        "- An $N \\times N$ dissimilarity matrix $\\mathbf{\\Delta}$\n",
        "- An $N \\times P$ \"regular\" data matrix $\\mathbf{X}$ with $N$ observations and $P$ variables\n",
        "\n",
        "What type of data you are using can be specified using the **`dissimilarity`** parameter of the MDS object.\n",
        "\n",
        "About **`dissimilarity`**:\n",
        "- **`dissimilarity = 'euclidean'`** (default value)\n",
        " - The MDS object expects a **\"regular\" data** matrix $\\mathbf{X}$ with dimensions $N \\times P$\n",
        " - scikit-learn will automatically compute an $N \\times N$ dissimilarity matrix $\\mathbf{\\Delta}$ based on $\\mathbf{X}$, where $\\delta_{i,j}$ is the **Euclidean distance** between observation $\\mathbf{x}_i$ and observation $\\mathbf{x}_j$\n",
        "- **`dissimilarity = 'precomputed'`**\n",
        " - The MDS object expects a **precomputed dissimilarity** matrix with dimensions $N \\times N$\n",
        " - For example: You could create a dissimilarity matrix that is **not** based on Euclidean distances, but on correlations instead (refer to the lecture slides)\n",
        "\n",
        "Let's verify this. First, find the MDS solution based on the default value **`dissimilarity = 'euclidean'`** using the \"regular\" data matrix:"
      ]
    },
    {
      "cell_type": "code",
      "metadata": {
        "id": "SOntaLH687qR",
        "colab": {
          "base_uri": "https://localhost:8080/"
        },
        "outputId": "c1534889-5244-404f-bc3b-255f68a2ece8"
      },
      "source": [
        "mds_diss_eucl = MDS(random_state=0, dissimilarity='euclidean').fit(X)\n",
        "print(mds_diss_eucl.embedding_[0]) # display first observation"
      ],
      "execution_count": null,
      "outputs": [
        {
          "output_type": "stream",
          "text": [
            "[ 0.49893508 -2.267767  ]\n"
          ],
          "name": "stdout"
        }
      ]
    },
    {
      "cell_type": "markdown",
      "metadata": {
        "id": "puIGgQk69Tlf"
      },
      "source": [
        "Next, we should **precompute** the $N \\times N$ matrix with Euclidean distances. Manually programming this requires some effort, so we can turn to functionality that is already present in scikit-learn:"
      ]
    },
    {
      "cell_type": "code",
      "metadata": {
        "id": "z7jYDQ2Q9UCJ"
      },
      "source": [
        "from sklearn.metrics import euclidean_distances\n",
        "X_euc_dis = euclidean_distances(X)"
      ],
      "execution_count": null,
      "outputs": []
    },
    {
      "cell_type": "markdown",
      "metadata": {
        "id": "LX5jLAel9dQF"
      },
      "source": [
        "**`X_euc_dis`** is now an $N \\times N$ matrix with the Euclidean distances for each pair of observations from the original data matrix.\n",
        "\n",
        "For example, the Euclidean distance of observation 0 to itself should be zero:"
      ]
    },
    {
      "cell_type": "code",
      "metadata": {
        "id": "g0xtkNQm9d0S",
        "colab": {
          "base_uri": "https://localhost:8080/"
        },
        "outputId": "3ea5296d-2243-4f8a-8974-3fdd75dcbd27"
      },
      "source": [
        "X_euc_dis[0, 0]"
      ],
      "execution_count": null,
      "outputs": [
        {
          "output_type": "execute_result",
          "data": {
            "text/plain": [
              "0.0"
            ]
          },
          "metadata": {
            "tags": []
          },
          "execution_count": 29
        }
      ]
    },
    {
      "cell_type": "markdown",
      "metadata": {
        "id": "IfPYqLoF-TFe"
      },
      "source": [
        "The Euclidean distance between observation 0 and 1:"
      ]
    },
    {
      "cell_type": "code",
      "metadata": {
        "id": "QeTg73U_9pFY",
        "colab": {
          "base_uri": "https://localhost:8080/"
        },
        "outputId": "b40e7e51-7fb3-45c6-c5e7-a7d4598970e4"
      },
      "source": [
        "X_euc_dis[0, 1]"
      ],
      "execution_count": null,
      "outputs": [
        {
          "output_type": "execute_result",
          "data": {
            "text/plain": [
              "1.1722913980470522"
            ]
          },
          "metadata": {
            "tags": []
          },
          "execution_count": 30
        }
      ]
    },
    {
      "cell_type": "markdown",
      "metadata": {
        "id": "G0pWGIYc-W0r"
      },
      "source": [
        "Let's verify that this is the same number as if we would have manually computed this Euclidean distance:"
      ]
    },
    {
      "cell_type": "code",
      "metadata": {
        "id": "YyKWOJ7l9hA7",
        "colab": {
          "base_uri": "https://localhost:8080/"
        },
        "outputId": "82217f69-35bd-47e9-ca33-0d0df16848bf"
      },
      "source": [
        "np.sqrt(np.sum((X.iloc[0] - X.iloc[1])**2))"
      ],
      "execution_count": null,
      "outputs": [
        {
          "output_type": "execute_result",
          "data": {
            "text/plain": [
              "1.1722913980470522"
            ]
          },
          "metadata": {
            "tags": []
          },
          "execution_count": 31
        }
      ]
    },
    {
      "cell_type": "markdown",
      "metadata": {
        "id": "07mAZfh0-dro"
      },
      "source": [
        "Now we can initialize the MDS object using **`dissimilarity='precomputed'`** and use **`X_euc_dis`** instead of **`X`**:"
      ]
    },
    {
      "cell_type": "code",
      "metadata": {
        "id": "TJ0lr56J9H-I",
        "colab": {
          "base_uri": "https://localhost:8080/"
        },
        "outputId": "0b905a50-cf63-4487-d635-2ad9cbfa690c"
      },
      "source": [
        "mds_diss_prec = MDS(random_state=0, dissimilarity='precomputed').fit(X_euc_dis)\n",
        "\n",
        "# verify that the results are the same\n",
        "print(np.allclose(mds_diss_eucl.embedding_, mds_diss_prec.embedding_))"
      ],
      "execution_count": null,
      "outputs": [
        {
          "output_type": "stream",
          "text": [
            "True\n"
          ],
          "name": "stdout"
        }
      ]
    },
    {
      "cell_type": "markdown",
      "metadata": {
        "id": "RN_kZv1P-q4p"
      },
      "source": [
        "Indeed, the results that we obtained when manually computing our dissimilarity matrix based on Euclidean distances, are the same as when we let scikit-learn compute the dissimilarity matrix for us.\n",
        "\n",
        "To conclude:\n",
        "> **You should know which value to use for `dissimilarity`, based on the input data available to you**."
      ]
    },
    {
      "cell_type": "markdown",
      "metadata": {
        "id": "tV4TNVEH22HB"
      },
      "source": [
        "## **`n_init`**"
      ]
    },
    {
      "cell_type": "markdown",
      "metadata": {
        "id": "XMdQ9tH3_WqV"
      },
      "source": [
        "As discussed above and in the lecture slides, the MDS solution depends on the **starting values** for the coordinate matrix **`C`**\n",
        "- Some starting values will result in a better MDS solution than others.\n",
        "- Here, better is measured by a lower **`stress`** value of the solution\n",
        "\n",
        "\n",
        "Intuitively, we can increase the probability of finding a good MDS solution by trying **multiple different** starting values for **`C`**, and finding the MDS solution for each of these starting values.\n",
        "\n",
        "- Luckily, you don't have to create a new MDS object if you want to use different starting values for **`C`**\n",
        "- Instead, you can specify this using the **`n_init`** parameter of the MDS object\n",
        "\n",
        "\n",
        "About **`n_init`**:\n",
        "- **`n_init = 4`** (default value)\n",
        " - By default, the MDS object will use 4 different starting values for **`C`**\n",
        " - In other words, it finds 4 different MDS solutions when you call the `fit` method\n",
        " - However, the MDS object **only returns one of those solutions** after calling `fit`. The returned solution is the one that obtained the lowest (best) **`stress`** value\n",
        "- **`n_init = a_positive_integer`**\n",
        " - If you specify any positive integer for **`n_init`**, the MDS object will use that many starting values for **`C`**.\n",
        " - Again, the MDS object only returns one solution after calling `fit`, the one with the lowest **`stress`**\n",
        "\n",
        "Hence, setting **`n_init`** involves a trade-off:\n",
        " - A smaller **`n_init`** value (closer to 1) results in a shorter computation time, but also a lower probability of finding a good solution\n",
        " - A larger **`n_init`** value results in a longer computation time, but also a higher probability of finding a good (or better) solution\n",
        "\n",
        "As a researcher, you have to find the balance between the probability of finding a good MDS solution and the amount of time it takes to find that solution.\n",
        "\n",
        "Some additional remarks:\n",
        "- The fact that MDS in scikit-learn automatically uses 4 starting values is \"hidden\", it will only return the output of the best performing start\n",
        "- One way to make this a little more explicit is by using the **`verbose`** parameter of the MDS object\n",
        "\n",
        "First without setting **`verbose`** (which by default is equal to 0):"
      ]
    },
    {
      "cell_type": "code",
      "metadata": {
        "id": "7zIqgTmbPlFQ"
      },
      "source": [
        "# uses 4 different starting values, but doesn't show the intermediate results\n",
        "mds = MDS(random_state=0).fit(X)"
      ],
      "execution_count": null,
      "outputs": []
    },
    {
      "cell_type": "markdown",
      "metadata": {
        "id": "EA39ZKdrPw3z"
      },
      "source": [
        "Then with specifying **`verbose=1`**:"
      ]
    },
    {
      "cell_type": "code",
      "metadata": {
        "id": "oQBW6JtYPzNl"
      },
      "source": [
        "# same code, now verbose=1\n",
        "mds_verbose = MDS(random_state=0, verbose=1).fit(X)"
      ],
      "execution_count": null,
      "outputs": []
    },
    {
      "cell_type": "markdown",
      "metadata": {
        "id": "iRRmvnWlARk4"
      },
      "source": [
        "Using **`verbose=1`**:\n",
        "- Calling `fit` now prints output related to each starting value, which by default is 4 starting values\n",
        "- For each starting the value two pieces of information are printed:\n",
        " - The number of iterations (think of steps) required to obtain a solution by the MDS algorithm\n",
        " - The stress value corresponding to that solution\n",
        "\n",
        "Remember, only the solution for the starting value with the lowest stress is retained:"
      ]
    },
    {
      "cell_type": "code",
      "metadata": {
        "id": "2pY667phAL6A"
      },
      "source": [
        "mds_verbose.stress_"
      ],
      "execution_count": null,
      "outputs": []
    },
    {
      "cell_type": "markdown",
      "metadata": {
        "id": "XoEIbaSHAXPe"
      },
      "source": [
        "Now if we increase **`n_init`** and we keep **`verbose=1`** we get a better idea of what happens:"
      ]
    },
    {
      "cell_type": "code",
      "metadata": {
        "id": "6WoWY6yTAXoN"
      },
      "source": [
        "# same code, now verbose=1\n",
        "mds_verbose = MDS(random_state=0, verbose=1, n_init=10).fit(X)"
      ],
      "execution_count": null,
      "outputs": []
    },
    {
      "cell_type": "markdown",
      "metadata": {
        "id": "q3FxshihufGO"
      },
      "source": [
        "To conclude:\n",
        "> **You should know what the `n_init` parameter does, and understand the implications it has on the quality of the MDS solution and the required computation time to find that solution**."
      ]
    },
    {
      "cell_type": "markdown",
      "metadata": {
        "id": "OZC8pe8tA-kB"
      },
      "source": [
        "## **`max_iter`**\n",
        "\n",
        "Closely related to the **`n_init`** option is the **`max_iter`** setting of the MDS object. This setting determines, **per starting value**, how many iterations (think: steps) the MDS algorithm can take to find a solution. \n",
        "\n",
        "- A higher number of maximum iterations can potentially increase the quality of the obtained solution (if the algorithm would need more iterations), but also increases the required computation time\n",
        "- Conversely, a lower number of maximum iterations can potentially reduce the quality of the obtained solution and the computation time\n",
        "\n",
        "About **`max_iter`**:\n",
        "- **`max_iter = 300`** (default value)\n",
        " - The default value allows up to 300 iterations per starting value\n",
        "- **`max_iter = a_positive_integer`**\n",
        " - There are now only up to `a_positive_integer` number of iterations allowed per starting value\n",
        "\n",
        "Let's try this out in practice:"
      ]
    },
    {
      "cell_type": "code",
      "metadata": {
        "id": "pqmk8FJWBR3i"
      },
      "source": [
        "mds_max_iter_300 = MDS(random_state=0, verbose=1).fit(X)"
      ],
      "execution_count": null,
      "outputs": []
    },
    {
      "cell_type": "markdown",
      "metadata": {
        "id": "Wh9CBp_TCbLv"
      },
      "source": [
        "Note that the most iterations needed is 171, which is well below the default maximum iteration value of 300. If we reduce **`max_iter`** to 100 iterations:"
      ]
    },
    {
      "cell_type": "code",
      "metadata": {
        "id": "iuheZwfjC9xk"
      },
      "source": [
        "mds_max_iter_100 = MDS(random_state=0, verbose=1, max_iter=100).fit(X)"
      ],
      "execution_count": null,
      "outputs": []
    },
    {
      "cell_type": "markdown",
      "metadata": {
        "id": "huX1ms5bRe58"
      },
      "source": [
        "Note that the MDS algorithm now only finds 3 solutions instead of 4!\n",
        "\n",
        "- This is because the first random starting value needs 171 iterations to find a solution using the MDS solution\n",
        "- However, we now only allow for 100 iterations per random start\n",
        "- Note, the other 3 random starts do not need 100 iterations, so their solutions are returned (and are equivalent to before).\n",
        "\n",
        "To conclude:\n",
        "> **You should know what the `max_iter` parameter controls in the MDS algorithm**.\n",
        "\n",
        "Note that typically configuring **`n_iter`** is more influential for both the quality of the MDS solution and the required computation time to find that solution."
      ]
    },
    {
      "cell_type": "markdown",
      "metadata": {
        "id": "1edO6pd1Bb8g"
      },
      "source": [
        "---\n",
        "# Conclusion\n",
        "\n",
        "After this notebook I know how the MDS functionality in scikit-learn works, how to extract the relevant MDS output, how to visualize that output, and finally how to interpret that output. Finally, we have discussed how to properly initialize an MDS object in scikit-learn, and what the implications are of the different settings.\n",
        "\n"
      ]
    }
  ]
}