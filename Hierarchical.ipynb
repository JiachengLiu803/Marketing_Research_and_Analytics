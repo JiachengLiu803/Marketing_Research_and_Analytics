{
  "nbformat": 4,
  "nbformat_minor": 0,
  "metadata": {
    "colab": {
      "name": "Copy of 2021_Spring_BUMK744_Hierarchical.ipynb",
      "provenance": [],
      "collapsed_sections": [],
      "toc_visible": true
    },
    "kernelspec": {
      "name": "python3",
      "display_name": "Python 3"
    }
  },
  "cells": [
    {
      "cell_type": "markdown",
      "metadata": {
        "id": "MeA9MTo0qb7t"
      },
      "source": [
        "# **Hierarchical Clustering**\n",
        "\n",
        "\n",
        "**Objectives:**\n",
        "- [A] Importing Hierarchical Clustering from scipy\n",
        "- [B] Using the `linkage` function for hierarchical clustering\n",
        "- [C] The columns of **`Z`**\n",
        "- [D] Settings of the **`linkage`** method\n",
        "- [E] Visualizing the cluster hierarchy using a dendrogram\n",
        "\n",
        "---"
      ]
    },
    {
      "cell_type": "markdown",
      "metadata": {
        "id": "paBennrlCDhl"
      },
      "source": [
        "We import the same packages as before:"
      ]
    },
    {
      "cell_type": "code",
      "metadata": {
        "id": "E5rxwtMjsl5l"
      },
      "source": [
        "import numpy as np\n",
        "import pandas as pd\n",
        "\n",
        "import matplotlib.pyplot as plt"
      ],
      "execution_count": null,
      "outputs": []
    },
    {
      "cell_type": "markdown",
      "metadata": {
        "id": "kqJaTKsZCHr1"
      },
      "source": [
        "Loading data:"
      ]
    },
    {
      "cell_type": "code",
      "metadata": {
        "id": "ZyEs2J-i33LK"
      },
      "source": [
        "url = 'https://raw.githubusercontent.com/brunojacobs/BUMK744/master/data/cars.csv'\n",
        "\n",
        "cars = pd.read_csv(url)"
      ],
      "execution_count": null,
      "outputs": []
    },
    {
      "cell_type": "markdown",
      "metadata": {
        "id": "vd68tgEpO5Te"
      },
      "source": [
        "Let us look at the first few rows of the data:"
      ]
    },
    {
      "cell_type": "code",
      "metadata": {
        "id": "jV7-PKeN4edF",
        "colab": {
          "base_uri": "https://localhost:8080/",
          "height": 204
        },
        "outputId": "62cb7cd8-d6fd-44eb-8233-f40edfd80ea4"
      },
      "source": [
        "cars.head()"
      ],
      "execution_count": null,
      "outputs": [
        {
          "output_type": "execute_result",
          "data": {
            "text/html": [
              "<div>\n",
              "<style scoped>\n",
              "    .dataframe tbody tr th:only-of-type {\n",
              "        vertical-align: middle;\n",
              "    }\n",
              "\n",
              "    .dataframe tbody tr th {\n",
              "        vertical-align: top;\n",
              "    }\n",
              "\n",
              "    .dataframe thead th {\n",
              "        text-align: right;\n",
              "    }\n",
              "</style>\n",
              "<table border=\"1\" class=\"dataframe\">\n",
              "  <thead>\n",
              "    <tr style=\"text-align: right;\">\n",
              "      <th></th>\n",
              "      <th>Carname</th>\n",
              "      <th>mpg</th>\n",
              "      <th>disp</th>\n",
              "      <th>hp</th>\n",
              "      <th>drat</th>\n",
              "      <th>wt</th>\n",
              "      <th>qsec</th>\n",
              "    </tr>\n",
              "  </thead>\n",
              "  <tbody>\n",
              "    <tr>\n",
              "      <th>0</th>\n",
              "      <td>Mazda RX4</td>\n",
              "      <td>21.0</td>\n",
              "      <td>160.0</td>\n",
              "      <td>110</td>\n",
              "      <td>3.90</td>\n",
              "      <td>2.620</td>\n",
              "      <td>16.46</td>\n",
              "    </tr>\n",
              "    <tr>\n",
              "      <th>1</th>\n",
              "      <td>Mazda RX4 Wag</td>\n",
              "      <td>21.0</td>\n",
              "      <td>160.0</td>\n",
              "      <td>110</td>\n",
              "      <td>3.90</td>\n",
              "      <td>2.875</td>\n",
              "      <td>17.02</td>\n",
              "    </tr>\n",
              "    <tr>\n",
              "      <th>2</th>\n",
              "      <td>Datsun 710</td>\n",
              "      <td>22.8</td>\n",
              "      <td>108.0</td>\n",
              "      <td>93</td>\n",
              "      <td>3.85</td>\n",
              "      <td>2.320</td>\n",
              "      <td>18.61</td>\n",
              "    </tr>\n",
              "    <tr>\n",
              "      <th>3</th>\n",
              "      <td>Hornet 4 Drive</td>\n",
              "      <td>21.4</td>\n",
              "      <td>258.0</td>\n",
              "      <td>110</td>\n",
              "      <td>3.08</td>\n",
              "      <td>3.215</td>\n",
              "      <td>19.44</td>\n",
              "    </tr>\n",
              "    <tr>\n",
              "      <th>4</th>\n",
              "      <td>Hornet Sportabout</td>\n",
              "      <td>18.7</td>\n",
              "      <td>360.0</td>\n",
              "      <td>175</td>\n",
              "      <td>3.15</td>\n",
              "      <td>3.440</td>\n",
              "      <td>17.02</td>\n",
              "    </tr>\n",
              "  </tbody>\n",
              "</table>\n",
              "</div>"
            ],
            "text/plain": [
              "             Carname   mpg   disp   hp  drat     wt   qsec\n",
              "0          Mazda RX4  21.0  160.0  110  3.90  2.620  16.46\n",
              "1      Mazda RX4 Wag  21.0  160.0  110  3.90  2.875  17.02\n",
              "2         Datsun 710  22.8  108.0   93  3.85  2.320  18.61\n",
              "3     Hornet 4 Drive  21.4  258.0  110  3.08  3.215  19.44\n",
              "4  Hornet Sportabout  18.7  360.0  175  3.15  3.440  17.02"
            ]
          },
          "metadata": {
            "tags": []
          },
          "execution_count": 8
        }
      ]
    },
    {
      "cell_type": "markdown",
      "metadata": {
        "id": "GX3tPzkYzvqi"
      },
      "source": [
        "The data is about cars and the variables in the columns are:\n",
        "- `Carname`: Name of the car\n",
        "- `mpg`: Miles/gallon\n",
        "- `disp`: Displacement\n",
        "- `hp`: Horsepower\n",
        "- `drat`: Rear axle ratio\n",
        "- `wt`: Weight\n",
        "- `qsec`: 1/4 mile time\n"
      ]
    },
    {
      "cell_type": "markdown",
      "metadata": {
        "id": "IytHQPhqOjV1"
      },
      "source": [
        "Note that **`Carname`** is a separate column and that it contains non-numerical data\n",
        "- It is usually a better idea to use these names as the **index** of the rows in the pandas DataFrame\n",
        "- We can use the **`set_index`** method of a pandas DataFrame to do this\n",
        "- This will take a column from the DataFrame and set it as its new index:"
      ]
    },
    {
      "cell_type": "code",
      "metadata": {
        "id": "1v7uoNTuOAwR",
        "colab": {
          "base_uri": "https://localhost:8080/",
          "height": 235
        },
        "outputId": "629f9e68-0840-4653-dd35-92373602e171"
      },
      "source": [
        "cars = cars.set_index('Carname')\n",
        "cars.head()"
      ],
      "execution_count": null,
      "outputs": [
        {
          "output_type": "execute_result",
          "data": {
            "text/html": [
              "<div>\n",
              "<style scoped>\n",
              "    .dataframe tbody tr th:only-of-type {\n",
              "        vertical-align: middle;\n",
              "    }\n",
              "\n",
              "    .dataframe tbody tr th {\n",
              "        vertical-align: top;\n",
              "    }\n",
              "\n",
              "    .dataframe thead th {\n",
              "        text-align: right;\n",
              "    }\n",
              "</style>\n",
              "<table border=\"1\" class=\"dataframe\">\n",
              "  <thead>\n",
              "    <tr style=\"text-align: right;\">\n",
              "      <th></th>\n",
              "      <th>mpg</th>\n",
              "      <th>disp</th>\n",
              "      <th>hp</th>\n",
              "      <th>drat</th>\n",
              "      <th>wt</th>\n",
              "      <th>qsec</th>\n",
              "    </tr>\n",
              "    <tr>\n",
              "      <th>Carname</th>\n",
              "      <th></th>\n",
              "      <th></th>\n",
              "      <th></th>\n",
              "      <th></th>\n",
              "      <th></th>\n",
              "      <th></th>\n",
              "    </tr>\n",
              "  </thead>\n",
              "  <tbody>\n",
              "    <tr>\n",
              "      <th>Mazda RX4</th>\n",
              "      <td>21.0</td>\n",
              "      <td>160.0</td>\n",
              "      <td>110</td>\n",
              "      <td>3.90</td>\n",
              "      <td>2.620</td>\n",
              "      <td>16.46</td>\n",
              "    </tr>\n",
              "    <tr>\n",
              "      <th>Mazda RX4 Wag</th>\n",
              "      <td>21.0</td>\n",
              "      <td>160.0</td>\n",
              "      <td>110</td>\n",
              "      <td>3.90</td>\n",
              "      <td>2.875</td>\n",
              "      <td>17.02</td>\n",
              "    </tr>\n",
              "    <tr>\n",
              "      <th>Datsun 710</th>\n",
              "      <td>22.8</td>\n",
              "      <td>108.0</td>\n",
              "      <td>93</td>\n",
              "      <td>3.85</td>\n",
              "      <td>2.320</td>\n",
              "      <td>18.61</td>\n",
              "    </tr>\n",
              "    <tr>\n",
              "      <th>Hornet 4 Drive</th>\n",
              "      <td>21.4</td>\n",
              "      <td>258.0</td>\n",
              "      <td>110</td>\n",
              "      <td>3.08</td>\n",
              "      <td>3.215</td>\n",
              "      <td>19.44</td>\n",
              "    </tr>\n",
              "    <tr>\n",
              "      <th>Hornet Sportabout</th>\n",
              "      <td>18.7</td>\n",
              "      <td>360.0</td>\n",
              "      <td>175</td>\n",
              "      <td>3.15</td>\n",
              "      <td>3.440</td>\n",
              "      <td>17.02</td>\n",
              "    </tr>\n",
              "  </tbody>\n",
              "</table>\n",
              "</div>"
            ],
            "text/plain": [
              "                    mpg   disp   hp  drat     wt   qsec\n",
              "Carname                                                \n",
              "Mazda RX4          21.0  160.0  110  3.90  2.620  16.46\n",
              "Mazda RX4 Wag      21.0  160.0  110  3.90  2.875  17.02\n",
              "Datsun 710         22.8  108.0   93  3.85  2.320  18.61\n",
              "Hornet 4 Drive     21.4  258.0  110  3.08  3.215  19.44\n",
              "Hornet Sportabout  18.7  360.0  175  3.15  3.440  17.02"
            ]
          },
          "metadata": {
            "tags": []
          },
          "execution_count": 9
        }
      ]
    },
    {
      "cell_type": "markdown",
      "metadata": {
        "id": "HbiSM7oUPBbr"
      },
      "source": [
        "Remember that we can use both the **`loc`** and **`iloc`** attributes to access data from a pandas DataFrame:\n",
        "- **`loc`** is based on labels, for example the names of the cars and variables\n",
        " - Note that **`loc`** does not work with numerical indexes!\n",
        "- **`iloc`** is based on numerical indexes, for example row numbers and column numbers\n",
        " - Note that **`iloc`** does not work with labels!\n",
        "\n",
        " What do you prefer?"
      ]
    },
    {
      "cell_type": "code",
      "metadata": {
        "id": "7vidv1mJSrgQ",
        "colab": {
          "base_uri": "https://localhost:8080/"
        },
        "outputId": "bac339f0-81f2-4b45-e15d-4512a6d981c7"
      },
      "source": [
        "cars.loc['Honda Civic']"
      ],
      "execution_count": null,
      "outputs": [
        {
          "output_type": "execute_result",
          "data": {
            "text/plain": [
              "mpg     30.400\n",
              "disp    75.700\n",
              "hp      52.000\n",
              "drat     4.930\n",
              "wt       1.615\n",
              "qsec    18.520\n",
              "Name: Honda Civic, dtype: float64"
            ]
          },
          "metadata": {
            "tags": []
          },
          "execution_count": 10
        }
      ]
    },
    {
      "cell_type": "code",
      "metadata": {
        "id": "gMXxZPdKSx6p",
        "colab": {
          "base_uri": "https://localhost:8080/"
        },
        "outputId": "6d7e5697-d424-4520-f6a3-b4f382817003"
      },
      "source": [
        "cars.iloc[4]"
      ],
      "execution_count": null,
      "outputs": [
        {
          "output_type": "execute_result",
          "data": {
            "text/plain": [
              "mpg      18.70\n",
              "disp    360.00\n",
              "hp      175.00\n",
              "drat      3.15\n",
              "wt        3.44\n",
              "qsec     17.02\n",
              "Name: Hornet Sportabout, dtype: float64"
            ]
          },
          "metadata": {
            "tags": []
          },
          "execution_count": 11
        }
      ]
    },
    {
      "cell_type": "markdown",
      "metadata": {
        "id": "pD4jWPAxS5Pj"
      },
      "source": [
        "Because hierarchical clustering relies on distances, computed using the **Euclidean distance** metric, it is a good idea to:\n",
        "- Center (demean) your variables\n",
        "- Standardize your variables"
      ]
    },
    {
      "cell_type": "code",
      "metadata": {
        "id": "hhtBruh5S8S8",
        "colab": {
          "base_uri": "https://localhost:8080/",
          "height": 235
        },
        "outputId": "3340759f-c101-454c-e66d-1f0591c7afee"
      },
      "source": [
        "X = cars.copy()\n",
        "X = (X - X.mean()) / X.std()\n",
        "X.head()"
      ],
      "execution_count": null,
      "outputs": [
        {
          "output_type": "execute_result",
          "data": {
            "text/html": [
              "<div>\n",
              "<style scoped>\n",
              "    .dataframe tbody tr th:only-of-type {\n",
              "        vertical-align: middle;\n",
              "    }\n",
              "\n",
              "    .dataframe tbody tr th {\n",
              "        vertical-align: top;\n",
              "    }\n",
              "\n",
              "    .dataframe thead th {\n",
              "        text-align: right;\n",
              "    }\n",
              "</style>\n",
              "<table border=\"1\" class=\"dataframe\">\n",
              "  <thead>\n",
              "    <tr style=\"text-align: right;\">\n",
              "      <th></th>\n",
              "      <th>mpg</th>\n",
              "      <th>disp</th>\n",
              "      <th>hp</th>\n",
              "      <th>drat</th>\n",
              "      <th>wt</th>\n",
              "      <th>qsec</th>\n",
              "    </tr>\n",
              "    <tr>\n",
              "      <th>Carname</th>\n",
              "      <th></th>\n",
              "      <th></th>\n",
              "      <th></th>\n",
              "      <th></th>\n",
              "      <th></th>\n",
              "      <th></th>\n",
              "    </tr>\n",
              "  </thead>\n",
              "  <tbody>\n",
              "    <tr>\n",
              "      <th>Mazda RX4</th>\n",
              "      <td>0.150885</td>\n",
              "      <td>-0.570620</td>\n",
              "      <td>-0.535093</td>\n",
              "      <td>0.567514</td>\n",
              "      <td>-0.610400</td>\n",
              "      <td>-0.777165</td>\n",
              "    </tr>\n",
              "    <tr>\n",
              "      <th>Mazda RX4 Wag</th>\n",
              "      <td>0.150885</td>\n",
              "      <td>-0.570620</td>\n",
              "      <td>-0.535093</td>\n",
              "      <td>0.567514</td>\n",
              "      <td>-0.349785</td>\n",
              "      <td>-0.463781</td>\n",
              "    </tr>\n",
              "    <tr>\n",
              "      <th>Datsun 710</th>\n",
              "      <td>0.449543</td>\n",
              "      <td>-0.990182</td>\n",
              "      <td>-0.783040</td>\n",
              "      <td>0.474000</td>\n",
              "      <td>-0.917005</td>\n",
              "      <td>0.426007</td>\n",
              "    </tr>\n",
              "    <tr>\n",
              "      <th>Hornet 4 Drive</th>\n",
              "      <td>0.217253</td>\n",
              "      <td>0.220094</td>\n",
              "      <td>-0.535093</td>\n",
              "      <td>-0.966118</td>\n",
              "      <td>-0.002300</td>\n",
              "      <td>0.890487</td>\n",
              "    </tr>\n",
              "    <tr>\n",
              "      <th>Hornet Sportabout</th>\n",
              "      <td>-0.230735</td>\n",
              "      <td>1.043081</td>\n",
              "      <td>0.412942</td>\n",
              "      <td>-0.835198</td>\n",
              "      <td>0.227654</td>\n",
              "      <td>-0.463781</td>\n",
              "    </tr>\n",
              "  </tbody>\n",
              "</table>\n",
              "</div>"
            ],
            "text/plain": [
              "                        mpg      disp        hp      drat        wt      qsec\n",
              "Carname                                                                      \n",
              "Mazda RX4          0.150885 -0.570620 -0.535093  0.567514 -0.610400 -0.777165\n",
              "Mazda RX4 Wag      0.150885 -0.570620 -0.535093  0.567514 -0.349785 -0.463781\n",
              "Datsun 710         0.449543 -0.990182 -0.783040  0.474000 -0.917005  0.426007\n",
              "Hornet 4 Drive     0.217253  0.220094 -0.535093 -0.966118 -0.002300  0.890487\n",
              "Hornet Sportabout -0.230735  1.043081  0.412942 -0.835198  0.227654 -0.463781"
            ]
          },
          "metadata": {
            "tags": []
          },
          "execution_count": 12
        }
      ]
    },
    {
      "cell_type": "markdown",
      "metadata": {
        "id": "znb5V0wX2XbU"
      },
      "source": [
        "Finally, let us look at the dimensions of the data:"
      ]
    },
    {
      "cell_type": "code",
      "metadata": {
        "id": "LReGigRh2SE8",
        "colab": {
          "base_uri": "https://localhost:8080/"
        },
        "outputId": "b8a17b6d-a15c-4a45-af95-3740a00aad06"
      },
      "source": [
        "N, P = X.shape\n",
        "print('N:', N, 'P:', P)"
      ],
      "execution_count": null,
      "outputs": [
        {
          "output_type": "stream",
          "text": [
            "N: 32 P: 6\n"
          ],
          "name": "stdout"
        }
      ]
    },
    {
      "cell_type": "markdown",
      "metadata": {
        "id": "AdbU0DVSwdKA"
      },
      "source": [
        "---\n",
        "# [A] Importing Hierarchical Clustering from scipy\n",
        "\n",
        "\n",
        "- We will **not** use scikit-learn to perform hierarchical clustering\n",
        "- Although scikit-learn contains hierarchical clustering functionality, it does not contain functions to visualize a hierarchical cluster\n",
        "- Visualization is essential to drawing insight from a hierarchical clustering analysis.\n",
        "\n",
        "Instead we will use the **`scipy`** library\n",
        "- We will use the hierarchical clustering functionality from **`scipy`**\n",
        "- `scipy` is one of the defacto scientific computing packages in Python, similar to `numpy` and `pandas`\n",
        "- Having some exposure to the functionality in this package is only beneficial!"
      ]
    },
    {
      "cell_type": "markdown",
      "metadata": {
        "id": "-bX6s7E5DXS7"
      },
      "source": [
        "To perform hierarchical clustering, we only need to import two functions from **`scipy`**\n",
        "- Both functions are located in the **`cluster.hierarchy`** subpackage"
      ]
    },
    {
      "cell_type": "code",
      "metadata": {
        "id": "5GrZL6HoxFY3"
      },
      "source": [
        "from scipy.cluster.hierarchy import linkage, dendrogram"
      ],
      "execution_count": null,
      "outputs": []
    },
    {
      "cell_type": "markdown",
      "metadata": {
        "id": "eQXAUtbiLsIH"
      },
      "source": [
        "- **`linkage`**: Performs the hierarchical clustering analysis and returns a solution that consists of a cluster **hierarchy**\n",
        "- **`dendrogram`**: Visualizes the hierarchical clustering solution created using **`linkage`**"
      ]
    },
    {
      "cell_type": "markdown",
      "metadata": {
        "id": "rINwtCNULe40"
      },
      "source": [
        "---\n",
        "# [B] Using the `linkage` function for hierarchical clustering"
      ]
    },
    {
      "cell_type": "markdown",
      "metadata": {
        "id": "ag1zz-j3I8lH"
      },
      "source": [
        "The **`linkage`** function performs hierarchical clustering on an $N \\times P$ data matrix **`X`**:\n",
        "- `N` is the number of observations\n",
        "- `P` is the number of variables"
      ]
    },
    {
      "cell_type": "code",
      "metadata": {
        "id": "TxOiIvjazxPe"
      },
      "source": [
        "numpy_Z = linkage(X)"
      ],
      "execution_count": null,
      "outputs": []
    },
    {
      "cell_type": "markdown",
      "metadata": {
        "id": "koG0m5cQ6fQr"
      },
      "source": [
        "The **`linkage`** function returns:\n",
        "- An $(N - 1) \\times 4$ numpy array **`numpy_Z`** \n",
        "- **`numpy_Z`** contains the output of the agglomerative hierarchical clustering algorithm\n",
        "- Contrast this against the typical output of scikit-learn, which returns objects with different attributes (such as `fit`, `components_`, ...) from which we have to extract information\n",
        "\n",
        "We can check the output of **`numpy_Z`**:"
      ]
    },
    {
      "cell_type": "code",
      "metadata": {
        "id": "MSBH59-16ZlJ",
        "colab": {
          "base_uri": "https://localhost:8080/"
        },
        "outputId": "920f6b69-b84e-4c41-b40f-3e7524fd3e73"
      },
      "source": [
        "numpy_Z"
      ],
      "execution_count": null,
      "outputs": [
        {
          "output_type": "execute_result",
          "data": {
            "text/plain": [
              "array([[14.        , 15.        ,  0.29568247,  2.        ],\n",
              "       [11.        , 12.        ,  0.39442658,  2.        ],\n",
              "       [ 0.        ,  1.        ,  0.40758993,  2.        ],\n",
              "       [ 9.        , 10.        ,  0.40828841,  2.        ],\n",
              "       [13.        , 33.        ,  0.41728323,  3.        ],\n",
              "       [ 4.        , 24.        ,  0.54753328,  2.        ],\n",
              "       [17.        , 19.        ,  0.5757917 ,  2.        ],\n",
              "       [22.        , 36.        ,  0.71140923,  4.        ],\n",
              "       [ 2.        , 31.        ,  0.75956033,  2.        ],\n",
              "       [21.        , 39.        ,  0.78276938,  5.        ],\n",
              "       [37.        , 41.        ,  0.83602059,  7.        ],\n",
              "       [20.        , 40.        ,  0.87973657,  3.        ],\n",
              "       [16.        , 32.        ,  0.90807482,  3.        ],\n",
              "       [25.        , 38.        ,  0.94401228,  3.        ],\n",
              "       [35.        , 43.        ,  0.96216586,  5.        ],\n",
              "       [34.        , 46.        ,  0.98835184,  7.        ],\n",
              "       [ 3.        ,  5.        ,  0.9936969 ,  2.        ],\n",
              "       [ 7.        , 47.        ,  1.0428738 ,  8.        ],\n",
              "       [ 6.        , 23.        ,  1.05543226,  2.        ],\n",
              "       [45.        , 49.        ,  1.06466504, 11.        ],\n",
              "       [29.        , 51.        ,  1.24350365, 12.        ],\n",
              "       [28.        , 50.        ,  1.34796136,  3.        ],\n",
              "       [42.        , 53.        ,  1.42886024, 10.        ],\n",
              "       [26.        , 52.        ,  1.45221152, 13.        ],\n",
              "       [30.        , 54.        ,  1.53845588, 11.        ],\n",
              "       [27.        , 55.        ,  1.58939969, 14.        ],\n",
              "       [18.        , 57.        ,  1.66878467, 15.        ],\n",
              "       [48.        , 56.        ,  1.69216195, 13.        ],\n",
              "       [58.        , 59.        ,  1.71603947, 28.        ],\n",
              "       [ 8.        , 60.        ,  1.76772871, 29.        ],\n",
              "       [44.        , 61.        ,  1.94342068, 32.        ]])"
            ]
          },
          "metadata": {
            "tags": []
          },
          "execution_count": 16
        }
      ]
    },
    {
      "cell_type": "markdown",
      "metadata": {
        "id": "ZuJFO0Cc1fGx"
      },
      "source": [
        "However, it is more convenient to work with the output as a pandas DataFrame:"
      ]
    },
    {
      "cell_type": "code",
      "metadata": {
        "id": "K-i5Gmpl1JYT",
        "colab": {
          "base_uri": "https://localhost:8080/",
          "height": 204
        },
        "outputId": "c8d9b5d3-850b-4a33-b231-1273db8b6f82"
      },
      "source": [
        "# Important that you understand what this code does!\n",
        "\n",
        "Z = pd.DataFrame(\n",
        "    numpy_Z,\n",
        "    columns=['cluster_A', 'cluster_B', 'distance', 'size_new_cluster']\n",
        ")\n",
        "\n",
        "Z['cluster_A'] = Z['cluster_A'].astype(int)\n",
        "Z['cluster_B'] = Z['cluster_B'].astype(int)\n",
        "Z['size_new_cluster'] = Z['size_new_cluster'].astype(int)\n",
        "\n",
        "Z.head()"
      ],
      "execution_count": null,
      "outputs": [
        {
          "output_type": "execute_result",
          "data": {
            "text/html": [
              "<div>\n",
              "<style scoped>\n",
              "    .dataframe tbody tr th:only-of-type {\n",
              "        vertical-align: middle;\n",
              "    }\n",
              "\n",
              "    .dataframe tbody tr th {\n",
              "        vertical-align: top;\n",
              "    }\n",
              "\n",
              "    .dataframe thead th {\n",
              "        text-align: right;\n",
              "    }\n",
              "</style>\n",
              "<table border=\"1\" class=\"dataframe\">\n",
              "  <thead>\n",
              "    <tr style=\"text-align: right;\">\n",
              "      <th></th>\n",
              "      <th>cluster_A</th>\n",
              "      <th>cluster_B</th>\n",
              "      <th>distance</th>\n",
              "      <th>size_new_cluster</th>\n",
              "    </tr>\n",
              "  </thead>\n",
              "  <tbody>\n",
              "    <tr>\n",
              "      <th>0</th>\n",
              "      <td>14</td>\n",
              "      <td>15</td>\n",
              "      <td>0.295682</td>\n",
              "      <td>2</td>\n",
              "    </tr>\n",
              "    <tr>\n",
              "      <th>1</th>\n",
              "      <td>11</td>\n",
              "      <td>12</td>\n",
              "      <td>0.394427</td>\n",
              "      <td>2</td>\n",
              "    </tr>\n",
              "    <tr>\n",
              "      <th>2</th>\n",
              "      <td>0</td>\n",
              "      <td>1</td>\n",
              "      <td>0.407590</td>\n",
              "      <td>2</td>\n",
              "    </tr>\n",
              "    <tr>\n",
              "      <th>3</th>\n",
              "      <td>9</td>\n",
              "      <td>10</td>\n",
              "      <td>0.408288</td>\n",
              "      <td>2</td>\n",
              "    </tr>\n",
              "    <tr>\n",
              "      <th>4</th>\n",
              "      <td>13</td>\n",
              "      <td>33</td>\n",
              "      <td>0.417283</td>\n",
              "      <td>3</td>\n",
              "    </tr>\n",
              "  </tbody>\n",
              "</table>\n",
              "</div>"
            ],
            "text/plain": [
              "   cluster_A  cluster_B  distance  size_new_cluster\n",
              "0         14         15  0.295682                 2\n",
              "1         11         12  0.394427                 2\n",
              "2          0          1  0.407590                 2\n",
              "3          9         10  0.408288                 2\n",
              "4         13         33  0.417283                 3"
            ]
          },
          "metadata": {
            "tags": []
          },
          "execution_count": 17
        }
      ]
    },
    {
      "cell_type": "markdown",
      "metadata": {
        "id": "KpOBKBjr628u"
      },
      "source": [
        "Each row in **`Z`** describes a **step** (iteration) in the agglomerative clustering algorithm.\n",
        "\n",
        "In **agglomerative** clustering:\n",
        "- Start: **`N`** clusters, where each cluster contains exactly **1** observation\n",
        "- End: **1** cluster, containing all **`N`** observations\n",
        "- To go from **`N`** clusters to **1** cluster, an agglomerative clustering algorithm performs $N-1$ **cluster merges**\n",
        "- Each **row** of **`Z`** describes such a **cluster merge**\n",
        "- This is why **`Z`** has $N - 1$ rows"
      ]
    },
    {
      "cell_type": "code",
      "metadata": {
        "id": "qYtsD5vd5JzF",
        "colab": {
          "base_uri": "https://localhost:8080/"
        },
        "outputId": "57e46f70-404a-4b3f-b4e4-1496a5ee11b8"
      },
      "source": [
        "print(Z.shape)\n",
        "assert Z.shape[0] == (N - 1)"
      ],
      "execution_count": null,
      "outputs": [
        {
          "output_type": "stream",
          "text": [
            "(31, 4)\n"
          ],
          "name": "stdout"
        }
      ]
    },
    {
      "cell_type": "markdown",
      "metadata": {
        "id": "x1oPBeO-Lm8S"
      },
      "source": [
        "The $m$-th row of **`Z`**, i.e. **`Z.iloc[m]`**, describes the information corresponding to the $m$-th cluster merge in the hierarchical clustering algorithm:\n",
        "- For example, information about the **first** cluster merge performed by the hierarchical clustering algorithm is given by the **first** row of **`Z`**:"
      ]
    },
    {
      "cell_type": "code",
      "metadata": {
        "id": "Sv8lQEex6IkE",
        "colab": {
          "base_uri": "https://localhost:8080/"
        },
        "outputId": "beb0aad2-932b-4fff-f554-44f0a05e2761"
      },
      "source": [
        "Z.iloc[0]"
      ],
      "execution_count": null,
      "outputs": [
        {
          "output_type": "execute_result",
          "data": {
            "text/plain": [
              "cluster_A           14.000000\n",
              "cluster_B           15.000000\n",
              "distance             0.295682\n",
              "size_new_cluster     2.000000\n",
              "Name: 0, dtype: float64"
            ]
          },
          "metadata": {
            "tags": []
          },
          "execution_count": 19
        }
      ]
    },
    {
      "cell_type": "markdown",
      "metadata": {
        "id": "M0Fwvno_L3y5"
      },
      "source": [
        "As you can see, each row in **`Z`** has 4 values. We will discuss each of these values in more detail below."
      ]
    },
    {
      "cell_type": "markdown",
      "metadata": {
        "id": "EHrr6pGWL_03"
      },
      "source": [
        "---\n",
        "# [C] The columns of **`Z`**"
      ]
    },
    {
      "cell_type": "markdown",
      "metadata": {
        "id": "PEuOCDlFMFmj"
      },
      "source": [
        "The first 2 values in a row of **`Z`** indicate the two cluster **numbers** (indexes) that are merged during that iteration of the clustering algorithm. Let us examine the first cluster merge:"
      ]
    },
    {
      "cell_type": "code",
      "metadata": {
        "id": "2WJvKN9e6MDX",
        "colab": {
          "base_uri": "https://localhost:8080/"
        },
        "outputId": "62b54656-1ced-4188-8553-7eaafc215d86"
      },
      "source": [
        "Z.iloc[0]"
      ],
      "execution_count": null,
      "outputs": [
        {
          "output_type": "execute_result",
          "data": {
            "text/plain": [
              "cluster_A           14.000000\n",
              "cluster_B           15.000000\n",
              "distance             0.295682\n",
              "size_new_cluster     2.000000\n",
              "Name: 0, dtype: float64"
            ]
          },
          "metadata": {
            "tags": []
          },
          "execution_count": 20
        }
      ]
    },
    {
      "cell_type": "markdown",
      "metadata": {
        "id": "a47Dz-S_3HG_"
      },
      "source": [
        "For this cluster merge we see the numbers **`14`** and **`15`** listed in the first two columns\n",
        "- Remember, at the start of the agglomerative clustering algorithm each observation is placed in a separate cluster.\n",
        "\n",
        "The initial clustering is designed such that:\n",
        "- Cluster 14 contains observation 14, i.e. **`X.iloc[14]`**\n",
        "- Cluster 15 contains observation 15, i.e. **`X.iloc[15]`**\n",
        "\n",
        "We can extract the rows corresponding to these two observations from our data **`X`**:"
      ]
    },
    {
      "cell_type": "code",
      "metadata": {
        "id": "xJfKf5-c5rHY",
        "colab": {
          "base_uri": "https://localhost:8080/",
          "height": 142
        },
        "outputId": "37943532-6c0c-434e-b8e5-cd5ee24c6eda"
      },
      "source": [
        "X.iloc[[14, 15]]"
      ],
      "execution_count": null,
      "outputs": [
        {
          "output_type": "execute_result",
          "data": {
            "text/html": [
              "<div>\n",
              "<style scoped>\n",
              "    .dataframe tbody tr th:only-of-type {\n",
              "        vertical-align: middle;\n",
              "    }\n",
              "\n",
              "    .dataframe tbody tr th {\n",
              "        vertical-align: top;\n",
              "    }\n",
              "\n",
              "    .dataframe thead th {\n",
              "        text-align: right;\n",
              "    }\n",
              "</style>\n",
              "<table border=\"1\" class=\"dataframe\">\n",
              "  <thead>\n",
              "    <tr style=\"text-align: right;\">\n",
              "      <th></th>\n",
              "      <th>mpg</th>\n",
              "      <th>disp</th>\n",
              "      <th>hp</th>\n",
              "      <th>drat</th>\n",
              "      <th>wt</th>\n",
              "      <th>qsec</th>\n",
              "    </tr>\n",
              "    <tr>\n",
              "      <th>Carname</th>\n",
              "      <th></th>\n",
              "      <th></th>\n",
              "      <th></th>\n",
              "      <th></th>\n",
              "      <th></th>\n",
              "      <th></th>\n",
              "    </tr>\n",
              "  </thead>\n",
              "  <tbody>\n",
              "    <tr>\n",
              "      <th>Cadillac Fleetwood</th>\n",
              "      <td>-1.607883</td>\n",
              "      <td>1.946754</td>\n",
              "      <td>0.850497</td>\n",
              "      <td>-1.24666</td>\n",
              "      <td>2.077505</td>\n",
              "      <td>0.073449</td>\n",
              "    </tr>\n",
              "    <tr>\n",
              "      <th>Lincoln Continental</th>\n",
              "      <td>-1.607883</td>\n",
              "      <td>1.849932</td>\n",
              "      <td>0.996348</td>\n",
              "      <td>-1.11574</td>\n",
              "      <td>2.255336</td>\n",
              "      <td>-0.016089</td>\n",
              "    </tr>\n",
              "  </tbody>\n",
              "</table>\n",
              "</div>"
            ],
            "text/plain": [
              "                          mpg      disp        hp     drat        wt      qsec\n",
              "Carname                                                                       \n",
              "Cadillac Fleetwood  -1.607883  1.946754  0.850497 -1.24666  2.077505  0.073449\n",
              "Lincoln Continental -1.607883  1.849932  0.996348 -1.11574  2.255336 -0.016089"
            ]
          },
          "metadata": {
            "tags": []
          },
          "execution_count": 21
        }
      ]
    },
    {
      "cell_type": "markdown",
      "metadata": {
        "id": "SVpRpxct6TA9"
      },
      "source": [
        "Intuitively this cluster merge seems reasonable:\n",
        "- Clusters are merged together based on their similarity (smallest distance)\n",
        "- These two cars, based on their $P$ variables, seem to be quite similar\n",
        "- It makes sense that they are placed together in a new cluster."
      ]
    },
    {
      "cell_type": "markdown",
      "metadata": {
        "id": "9V6vpHsVFsso"
      },
      "source": [
        "One more thing about the **cluster numbers**:\n",
        "- We have **N** (32) cars (i.e. observations) in the data\n",
        "- Initially, we have **N** clusters: These cluster numbers range from 0, 1, 2, ..., **N-1**\n",
        "- By performing the first **cluster merge**, we have created a **new** cluster\n",
        "- This **new cluster** receives number **N** (32), which is one higher then the current largest cluster number **N-1**\n",
        "- In the next cluster merge, that new resulting cluster would receive number **N+1**, and so on and so forth"
      ]
    },
    {
      "cell_type": "markdown",
      "metadata": {
        "id": "RMWM3VapF7AA"
      },
      "source": [
        "The above leads to the following implications:\n",
        "- Cluster numbers that range from 0 to **N - 1** correspond to the original **N** clusters\n",
        "    - These clusters are called **singleton**: They only contain 1 observation\n",
        "- Cluster numbers that are **N** or larger correspond to merged clusters created during the clustering algorithm\n",
        "    - These clusters always contain **multiple observations**"
      ]
    },
    {
      "cell_type": "markdown",
      "metadata": {
        "id": "jk7r-WbS7hbq"
      },
      "source": [
        "Let's return to the first row of **`Z`** and consider the third column:"
      ]
    },
    {
      "cell_type": "code",
      "metadata": {
        "id": "GXeCmjsI7a2R",
        "colab": {
          "base_uri": "https://localhost:8080/"
        },
        "outputId": "cd353b70-2b25-42f7-a33b-11b6a7b09c6a"
      },
      "source": [
        "Z.iloc[0]"
      ],
      "execution_count": null,
      "outputs": [
        {
          "output_type": "execute_result",
          "data": {
            "text/plain": [
              "cluster_A           14.000000\n",
              "cluster_B           15.000000\n",
              "distance             0.295682\n",
              "size_new_cluster     2.000000\n",
              "Name: 0, dtype: float64"
            ]
          },
          "metadata": {
            "tags": []
          },
          "execution_count": 22
        }
      ]
    },
    {
      "cell_type": "markdown",
      "metadata": {
        "id": "e-lJvDSL7oEK"
      },
      "source": [
        "The **third column** gives the **distance between the two merged clusters**\n",
        "- For **singleton** clusters that just contain a single observation, this distance is defined as the Euclidean distance\n",
        "- Because clusters 14 and 15 got merged, that means that there was no other pair of clusters with a smaller distance.\n",
        "\n",
        "We can verify this number by calculating the distance between the two merged cars:"
      ]
    },
    {
      "cell_type": "code",
      "metadata": {
        "id": "UBZe-X5C7br3",
        "colab": {
          "base_uri": "https://localhost:8080/"
        },
        "outputId": "e8b89557-f6bf-4990-fa8e-42c64bf3a274"
      },
      "source": [
        "np.sqrt(np.sum((X.iloc[14] - X.iloc[15])**2))"
      ],
      "execution_count": null,
      "outputs": [
        {
          "output_type": "execute_result",
          "data": {
            "text/plain": [
              "0.2956824707552585"
            ]
          },
          "metadata": {
            "tags": []
          },
          "execution_count": 23
        }
      ]
    },
    {
      "cell_type": "markdown",
      "metadata": {
        "id": "C5QGMRuA8Tyb"
      },
      "source": [
        "The **fourth column** gives the **number of observations** in the merged clusters, i.e. the sum of the number of observations in the two merged clusters\n",
        "- For the first merge, that number will always be equal to 2 (1 + 1)\n",
        "\n",
        "Let us consider what happens in the first 5 iterations of the agglomerative clustering algorithm:"
      ]
    },
    {
      "cell_type": "code",
      "metadata": {
        "id": "L0tFJQhC73ue",
        "colab": {
          "base_uri": "https://localhost:8080/",
          "height": 204
        },
        "outputId": "4837b4f6-0c2c-44ba-f718-b8652f7ffa58"
      },
      "source": [
        "Z.iloc[0:5]"
      ],
      "execution_count": null,
      "outputs": [
        {
          "output_type": "execute_result",
          "data": {
            "text/html": [
              "<div>\n",
              "<style scoped>\n",
              "    .dataframe tbody tr th:only-of-type {\n",
              "        vertical-align: middle;\n",
              "    }\n",
              "\n",
              "    .dataframe tbody tr th {\n",
              "        vertical-align: top;\n",
              "    }\n",
              "\n",
              "    .dataframe thead th {\n",
              "        text-align: right;\n",
              "    }\n",
              "</style>\n",
              "<table border=\"1\" class=\"dataframe\">\n",
              "  <thead>\n",
              "    <tr style=\"text-align: right;\">\n",
              "      <th></th>\n",
              "      <th>cluster_A</th>\n",
              "      <th>cluster_B</th>\n",
              "      <th>distance</th>\n",
              "      <th>size_new_cluster</th>\n",
              "    </tr>\n",
              "  </thead>\n",
              "  <tbody>\n",
              "    <tr>\n",
              "      <th>0</th>\n",
              "      <td>14</td>\n",
              "      <td>15</td>\n",
              "      <td>0.295682</td>\n",
              "      <td>2</td>\n",
              "    </tr>\n",
              "    <tr>\n",
              "      <th>1</th>\n",
              "      <td>11</td>\n",
              "      <td>12</td>\n",
              "      <td>0.394427</td>\n",
              "      <td>2</td>\n",
              "    </tr>\n",
              "    <tr>\n",
              "      <th>2</th>\n",
              "      <td>0</td>\n",
              "      <td>1</td>\n",
              "      <td>0.407590</td>\n",
              "      <td>2</td>\n",
              "    </tr>\n",
              "    <tr>\n",
              "      <th>3</th>\n",
              "      <td>9</td>\n",
              "      <td>10</td>\n",
              "      <td>0.408288</td>\n",
              "      <td>2</td>\n",
              "    </tr>\n",
              "    <tr>\n",
              "      <th>4</th>\n",
              "      <td>13</td>\n",
              "      <td>33</td>\n",
              "      <td>0.417283</td>\n",
              "      <td>3</td>\n",
              "    </tr>\n",
              "  </tbody>\n",
              "</table>\n",
              "</div>"
            ],
            "text/plain": [
              "   cluster_A  cluster_B  distance  size_new_cluster\n",
              "0         14         15  0.295682                 2\n",
              "1         11         12  0.394427                 2\n",
              "2          0          1  0.407590                 2\n",
              "3          9         10  0.408288                 2\n",
              "4         13         33  0.417283                 3"
            ]
          },
          "metadata": {
            "tags": []
          },
          "execution_count": 24
        }
      ]
    },
    {
      "cell_type": "markdown",
      "metadata": {
        "id": "skvG8k9q8w5P"
      },
      "source": [
        "In the fifth iteration we observe something interesting:\n",
        "- Clusters 13 and 33 are merged, resulting in a new cluster that consists of 3 observations\n",
        "- Note that 33 is the cluster that got created in the second iteration of the clustering algorithm\n",
        "- To make this more clear we can add a new  column to **`Z`** with the cluster numbers for the merges:"
      ]
    },
    {
      "cell_type": "code",
      "metadata": {
        "id": "e4UpgINy87eL",
        "colab": {
          "base_uri": "https://localhost:8080/",
          "height": 204
        },
        "outputId": "9ab3f532-da5e-470b-b1bf-70d938e38d79"
      },
      "source": [
        "Z['cluster_number'] = N + np.arange(N - 1)\n",
        "Z.head()"
      ],
      "execution_count": null,
      "outputs": [
        {
          "output_type": "execute_result",
          "data": {
            "text/html": [
              "<div>\n",
              "<style scoped>\n",
              "    .dataframe tbody tr th:only-of-type {\n",
              "        vertical-align: middle;\n",
              "    }\n",
              "\n",
              "    .dataframe tbody tr th {\n",
              "        vertical-align: top;\n",
              "    }\n",
              "\n",
              "    .dataframe thead th {\n",
              "        text-align: right;\n",
              "    }\n",
              "</style>\n",
              "<table border=\"1\" class=\"dataframe\">\n",
              "  <thead>\n",
              "    <tr style=\"text-align: right;\">\n",
              "      <th></th>\n",
              "      <th>cluster_A</th>\n",
              "      <th>cluster_B</th>\n",
              "      <th>distance</th>\n",
              "      <th>size_new_cluster</th>\n",
              "      <th>cluster_number</th>\n",
              "    </tr>\n",
              "  </thead>\n",
              "  <tbody>\n",
              "    <tr>\n",
              "      <th>0</th>\n",
              "      <td>14</td>\n",
              "      <td>15</td>\n",
              "      <td>0.295682</td>\n",
              "      <td>2</td>\n",
              "      <td>32</td>\n",
              "    </tr>\n",
              "    <tr>\n",
              "      <th>1</th>\n",
              "      <td>11</td>\n",
              "      <td>12</td>\n",
              "      <td>0.394427</td>\n",
              "      <td>2</td>\n",
              "      <td>33</td>\n",
              "    </tr>\n",
              "    <tr>\n",
              "      <th>2</th>\n",
              "      <td>0</td>\n",
              "      <td>1</td>\n",
              "      <td>0.407590</td>\n",
              "      <td>2</td>\n",
              "      <td>34</td>\n",
              "    </tr>\n",
              "    <tr>\n",
              "      <th>3</th>\n",
              "      <td>9</td>\n",
              "      <td>10</td>\n",
              "      <td>0.408288</td>\n",
              "      <td>2</td>\n",
              "      <td>35</td>\n",
              "    </tr>\n",
              "    <tr>\n",
              "      <th>4</th>\n",
              "      <td>13</td>\n",
              "      <td>33</td>\n",
              "      <td>0.417283</td>\n",
              "      <td>3</td>\n",
              "      <td>36</td>\n",
              "    </tr>\n",
              "  </tbody>\n",
              "</table>\n",
              "</div>"
            ],
            "text/plain": [
              "   cluster_A  cluster_B  distance  size_new_cluster  cluster_number\n",
              "0         14         15  0.295682                 2              32\n",
              "1         11         12  0.394427                 2              33\n",
              "2          0          1  0.407590                 2              34\n",
              "3          9         10  0.408288                 2              35\n",
              "4         13         33  0.417283                 3              36"
            ]
          },
          "metadata": {
            "tags": []
          },
          "execution_count": 25
        }
      ]
    },
    {
      "cell_type": "markdown",
      "metadata": {
        "id": "cVHXqeMT9iRI"
      },
      "source": [
        "**Question:**\n",
        "> - What cars are contained in cluster number 36?"
      ]
    },
    {
      "cell_type": "code",
      "metadata": {
        "colab": {
          "base_uri": "https://localhost:8080/",
          "height": 111
        },
        "id": "1rB8gBdXiQys",
        "outputId": "1bbe4bf7-ddce-42c4-b7d2-b8a2eac304ba"
      },
      "source": [
        "X.iloc[[13]]"
      ],
      "execution_count": null,
      "outputs": [
        {
          "output_type": "execute_result",
          "data": {
            "text/html": [
              "<div>\n",
              "<style scoped>\n",
              "    .dataframe tbody tr th:only-of-type {\n",
              "        vertical-align: middle;\n",
              "    }\n",
              "\n",
              "    .dataframe tbody tr th {\n",
              "        vertical-align: top;\n",
              "    }\n",
              "\n",
              "    .dataframe thead th {\n",
              "        text-align: right;\n",
              "    }\n",
              "</style>\n",
              "<table border=\"1\" class=\"dataframe\">\n",
              "  <thead>\n",
              "    <tr style=\"text-align: right;\">\n",
              "      <th></th>\n",
              "      <th>mpg</th>\n",
              "      <th>disp</th>\n",
              "      <th>hp</th>\n",
              "      <th>drat</th>\n",
              "      <th>wt</th>\n",
              "      <th>qsec</th>\n",
              "    </tr>\n",
              "    <tr>\n",
              "      <th>Carname</th>\n",
              "      <th></th>\n",
              "      <th></th>\n",
              "      <th></th>\n",
              "      <th></th>\n",
              "      <th></th>\n",
              "      <th></th>\n",
              "    </tr>\n",
              "  </thead>\n",
              "  <tbody>\n",
              "    <tr>\n",
              "      <th>Merc 450SLC</th>\n",
              "      <td>-0.81146</td>\n",
              "      <td>0.363713</td>\n",
              "      <td>0.485868</td>\n",
              "      <td>-0.98482</td>\n",
              "      <td>0.57514</td>\n",
              "      <td>0.084642</td>\n",
              "    </tr>\n",
              "  </tbody>\n",
              "</table>\n",
              "</div>"
            ],
            "text/plain": [
              "                 mpg      disp        hp     drat       wt      qsec\n",
              "Carname                                                             \n",
              "Merc 450SLC -0.81146  0.363713  0.485868 -0.98482  0.57514  0.084642"
            ]
          },
          "metadata": {
            "tags": []
          },
          "execution_count": 32
        }
      ]
    },
    {
      "cell_type": "markdown",
      "metadata": {
        "id": "qy1MNXgIGdB7"
      },
      "source": [
        "Examining these cars:"
      ]
    },
    {
      "cell_type": "code",
      "metadata": {
        "id": "FQAkbJB692Iv",
        "colab": {
          "base_uri": "https://localhost:8080/",
          "height": 173
        },
        "outputId": "f643af98-6d0a-4a84-a774-320082c2d41c"
      },
      "source": [
        "X.iloc[[11, 12, 13]]"
      ],
      "execution_count": null,
      "outputs": [
        {
          "output_type": "execute_result",
          "data": {
            "text/html": [
              "<div>\n",
              "<style scoped>\n",
              "    .dataframe tbody tr th:only-of-type {\n",
              "        vertical-align: middle;\n",
              "    }\n",
              "\n",
              "    .dataframe tbody tr th {\n",
              "        vertical-align: top;\n",
              "    }\n",
              "\n",
              "    .dataframe thead th {\n",
              "        text-align: right;\n",
              "    }\n",
              "</style>\n",
              "<table border=\"1\" class=\"dataframe\">\n",
              "  <thead>\n",
              "    <tr style=\"text-align: right;\">\n",
              "      <th></th>\n",
              "      <th>mpg</th>\n",
              "      <th>disp</th>\n",
              "      <th>hp</th>\n",
              "      <th>drat</th>\n",
              "      <th>wt</th>\n",
              "      <th>qsec</th>\n",
              "    </tr>\n",
              "    <tr>\n",
              "      <th>Carname</th>\n",
              "      <th></th>\n",
              "      <th></th>\n",
              "      <th></th>\n",
              "      <th></th>\n",
              "      <th></th>\n",
              "      <th></th>\n",
              "    </tr>\n",
              "  </thead>\n",
              "  <tbody>\n",
              "    <tr>\n",
              "      <th>Merc 450SE</th>\n",
              "      <td>-0.612354</td>\n",
              "      <td>0.363713</td>\n",
              "      <td>0.485868</td>\n",
              "      <td>-0.98482</td>\n",
              "      <td>0.871525</td>\n",
              "      <td>-0.251127</td>\n",
              "    </tr>\n",
              "    <tr>\n",
              "      <th>Merc 450SL</th>\n",
              "      <td>-0.463025</td>\n",
              "      <td>0.363713</td>\n",
              "      <td>0.485868</td>\n",
              "      <td>-0.98482</td>\n",
              "      <td>0.524039</td>\n",
              "      <td>-0.139204</td>\n",
              "    </tr>\n",
              "    <tr>\n",
              "      <th>Merc 450SLC</th>\n",
              "      <td>-0.811460</td>\n",
              "      <td>0.363713</td>\n",
              "      <td>0.485868</td>\n",
              "      <td>-0.98482</td>\n",
              "      <td>0.575140</td>\n",
              "      <td>0.084642</td>\n",
              "    </tr>\n",
              "  </tbody>\n",
              "</table>\n",
              "</div>"
            ],
            "text/plain": [
              "                  mpg      disp        hp     drat        wt      qsec\n",
              "Carname                                                               \n",
              "Merc 450SE  -0.612354  0.363713  0.485868 -0.98482  0.871525 -0.251127\n",
              "Merc 450SL  -0.463025  0.363713  0.485868 -0.98482  0.524039 -0.139204\n",
              "Merc 450SLC -0.811460  0.363713  0.485868 -0.98482  0.575140  0.084642"
            ]
          },
          "metadata": {
            "tags": []
          },
          "execution_count": 33
        }
      ]
    },
    {
      "cell_type": "markdown",
      "metadata": {
        "id": "3Yrg1n3s9pev"
      },
      "source": [
        "- Turns out that these cars are all of the same make and that their characteristics are very similar\n",
        "- It makes sense that these cars are merged together in a cluster.\n",
        "\n",
        "Now that we have a cluster that contains more than 2 observations, let us return to the **cluster distance** that is given by the third column:"
      ]
    },
    {
      "cell_type": "code",
      "metadata": {
        "id": "6J-m-u8R-OZ-",
        "colab": {
          "base_uri": "https://localhost:8080/"
        },
        "outputId": "4f5d04b3-e7af-42a5-f66c-4eea36140792"
      },
      "source": [
        "Z.iloc[4]['distance']"
      ],
      "execution_count": null,
      "outputs": [
        {
          "output_type": "execute_result",
          "data": {
            "text/plain": [
              "0.41728323021826447"
            ]
          },
          "metadata": {
            "tags": []
          },
          "execution_count": 34
        }
      ]
    },
    {
      "cell_type": "markdown",
      "metadata": {
        "id": "oSN4BE9s_U_f"
      },
      "source": [
        "What **linkage** method was used to compute the distance between two non-singleton clusters?\n",
        "- The default **linkage method** used by the **`linkage`** function is the **single linkage** method\n",
        "- This linkage method defines the distance between two clusters as the **minimum distance** between any pair of observations across the two clusters\n",
        "\n",
        "Let us verify this:\n",
        "- We have cluster 13, containing observation 13\n",
        "- We have cluster 33, containing observations 11 and 12\n",
        "- We can compute the Euclidean distance between observation 13 and 11, and between observation 13 and 12:"
      ]
    },
    {
      "cell_type": "code",
      "metadata": {
        "id": "rBaPrApL-X5f",
        "colab": {
          "base_uri": "https://localhost:8080/"
        },
        "outputId": "ca7cd573-9d91-4f7c-8db8-05f88680c92a"
      },
      "source": [
        "print('Eucl. dist. (13, 11):', np.sqrt(np.sum((X.iloc[13] - X.iloc[11])**2)))\n",
        "print('Eucl. dist. (13, 12):', np.sqrt(np.sum((X.iloc[13] - X.iloc[12])**2)))"
      ],
      "execution_count": null,
      "outputs": [
        {
          "output_type": "stream",
          "text": [
            "Eucl. dist. (13, 11): 0.49013046057397136\n",
            "Eucl. dist. (13, 12): 0.41728323021826447\n"
          ],
          "name": "stdout"
        }
      ]
    },
    {
      "cell_type": "markdown",
      "metadata": {
        "id": "HpL6ZBKw-h6l"
      },
      "source": [
        "Indeed!\n",
        "\n",
        "- The smallest distance between cluster 13 and cluster 33 is found between observation 13 and observation 12\n",
        "- This distance is equal to the reported cluster distance, which is equal to 0.417283."
      ]
    },
    {
      "cell_type": "markdown",
      "metadata": {
        "id": "0pIPWKD8XqVJ"
      },
      "source": [
        "---\n",
        "# [D] Settings of the **`linkage`** method"
      ]
    },
    {
      "cell_type": "markdown",
      "metadata": {
        "id": "e6ZWalAYC8Pj"
      },
      "source": [
        "The linkage method allows you to specify a few different parameters, but the one we are interested in in this course is the **`method`** parameter:\n",
        "- **`method`** allows you to control the **linkage method** you will be using\n",
        "- The linkage method determines how **distance between clusters** is defined\n",
        "- In turn, this will affect the results of the agglomerative hierarchical clustering algorithm\n",
        "\n",
        "By default **`method='single'`**, the most commonly used options for **`method`** are:\n",
        "- **`'single'`**\n",
        "- **`'complete'`**\n",
        "- **`'average'`**\n",
        "- **`'ward'`**\n",
        "\n",
        "These methods result in a hierarchy of clusters with a monotonic non-decreasing distance\n",
        "- A brief description for each of these values is given in the lecture slides.\n",
        "\n",
        "Typically:\n",
        "- The first few merges are the same/similar between the different linkage methods\n",
        "- During later iterations in the agglomerative clustering algorithm the output can be significantly different\n",
        "\n",
        "For example, let us compare the **`'single'`** and **`'complete'`** linkage methods:"
      ]
    },
    {
      "cell_type": "code",
      "metadata": {
        "id": "jBHEgqXJCFBn"
      },
      "source": [
        "# Single linkage solution\n",
        "numpy_Z_single = linkage(X, method='single')\n",
        "\n",
        "Z_single = pd.DataFrame(\n",
        "    numpy_Z_single,\n",
        "    columns=['cluster_A', 'cluster_B', 'distance', 'size_new_cluster']\n",
        ")\n",
        "\n",
        "Z_single['cluster_A'] = Z_single['cluster_A'].astype(int)\n",
        "Z_single['cluster_B'] = Z_single['cluster_B'].astype(int)\n",
        "Z_single['size_new_cluster'] = Z_single['size_new_cluster'].astype(int)\n",
        "\n",
        "# Complete linkage solution\n",
        "numpy_Z_complete = linkage(X, method='complete')\n",
        "\n",
        "Z_complete = pd.DataFrame(\n",
        "    numpy_Z_complete,\n",
        "    columns=['cluster_A', 'cluster_B', 'distance', 'size_new_cluster']\n",
        ")\n",
        "\n",
        "Z_complete['cluster_A'] = Z_complete['cluster_A'].astype(int)\n",
        "Z_complete['cluster_B'] = Z_complete['cluster_B'].astype(int)\n",
        "Z_complete['size_new_cluster'] = Z_complete['size_new_cluster'].astype(int)"
      ],
      "execution_count": null,
      "outputs": []
    },
    {
      "cell_type": "markdown",
      "metadata": {
        "id": "-OAegoXsG4H-"
      },
      "source": [
        "First 5 merges:"
      ]
    },
    {
      "cell_type": "code",
      "metadata": {
        "id": "H7y_UMC4E_Jp",
        "colab": {
          "base_uri": "https://localhost:8080/",
          "height": 204
        },
        "outputId": "b4c6b3dc-4f67-4881-94f5-36659cab3f35"
      },
      "source": [
        "Z_single.head()"
      ],
      "execution_count": null,
      "outputs": [
        {
          "output_type": "execute_result",
          "data": {
            "text/html": [
              "<div>\n",
              "<style scoped>\n",
              "    .dataframe tbody tr th:only-of-type {\n",
              "        vertical-align: middle;\n",
              "    }\n",
              "\n",
              "    .dataframe tbody tr th {\n",
              "        vertical-align: top;\n",
              "    }\n",
              "\n",
              "    .dataframe thead th {\n",
              "        text-align: right;\n",
              "    }\n",
              "</style>\n",
              "<table border=\"1\" class=\"dataframe\">\n",
              "  <thead>\n",
              "    <tr style=\"text-align: right;\">\n",
              "      <th></th>\n",
              "      <th>cluster_A</th>\n",
              "      <th>cluster_B</th>\n",
              "      <th>distance</th>\n",
              "      <th>size_new_cluster</th>\n",
              "    </tr>\n",
              "  </thead>\n",
              "  <tbody>\n",
              "    <tr>\n",
              "      <th>0</th>\n",
              "      <td>14</td>\n",
              "      <td>15</td>\n",
              "      <td>0.295682</td>\n",
              "      <td>2</td>\n",
              "    </tr>\n",
              "    <tr>\n",
              "      <th>1</th>\n",
              "      <td>11</td>\n",
              "      <td>12</td>\n",
              "      <td>0.394427</td>\n",
              "      <td>2</td>\n",
              "    </tr>\n",
              "    <tr>\n",
              "      <th>2</th>\n",
              "      <td>0</td>\n",
              "      <td>1</td>\n",
              "      <td>0.407590</td>\n",
              "      <td>2</td>\n",
              "    </tr>\n",
              "    <tr>\n",
              "      <th>3</th>\n",
              "      <td>9</td>\n",
              "      <td>10</td>\n",
              "      <td>0.408288</td>\n",
              "      <td>2</td>\n",
              "    </tr>\n",
              "    <tr>\n",
              "      <th>4</th>\n",
              "      <td>13</td>\n",
              "      <td>33</td>\n",
              "      <td>0.417283</td>\n",
              "      <td>3</td>\n",
              "    </tr>\n",
              "  </tbody>\n",
              "</table>\n",
              "</div>"
            ],
            "text/plain": [
              "   cluster_A  cluster_B  distance  size_new_cluster\n",
              "0         14         15  0.295682                 2\n",
              "1         11         12  0.394427                 2\n",
              "2          0          1  0.407590                 2\n",
              "3          9         10  0.408288                 2\n",
              "4         13         33  0.417283                 3"
            ]
          },
          "metadata": {
            "tags": []
          },
          "execution_count": 41
        }
      ]
    },
    {
      "cell_type": "code",
      "metadata": {
        "id": "3mKjm1zcFBKG",
        "colab": {
          "base_uri": "https://localhost:8080/",
          "height": 204
        },
        "outputId": "ea7b3153-f0f1-4662-ec96-49745d21f221"
      },
      "source": [
        "Z_complete.head()"
      ],
      "execution_count": null,
      "outputs": [
        {
          "output_type": "execute_result",
          "data": {
            "text/html": [
              "<div>\n",
              "<style scoped>\n",
              "    .dataframe tbody tr th:only-of-type {\n",
              "        vertical-align: middle;\n",
              "    }\n",
              "\n",
              "    .dataframe tbody tr th {\n",
              "        vertical-align: top;\n",
              "    }\n",
              "\n",
              "    .dataframe thead th {\n",
              "        text-align: right;\n",
              "    }\n",
              "</style>\n",
              "<table border=\"1\" class=\"dataframe\">\n",
              "  <thead>\n",
              "    <tr style=\"text-align: right;\">\n",
              "      <th></th>\n",
              "      <th>cluster_A</th>\n",
              "      <th>cluster_B</th>\n",
              "      <th>distance</th>\n",
              "      <th>size_new_cluster</th>\n",
              "    </tr>\n",
              "  </thead>\n",
              "  <tbody>\n",
              "    <tr>\n",
              "      <th>0</th>\n",
              "      <td>14</td>\n",
              "      <td>15</td>\n",
              "      <td>0.295682</td>\n",
              "      <td>2</td>\n",
              "    </tr>\n",
              "    <tr>\n",
              "      <th>1</th>\n",
              "      <td>11</td>\n",
              "      <td>12</td>\n",
              "      <td>0.394427</td>\n",
              "      <td>2</td>\n",
              "    </tr>\n",
              "    <tr>\n",
              "      <th>2</th>\n",
              "      <td>0</td>\n",
              "      <td>1</td>\n",
              "      <td>0.407590</td>\n",
              "      <td>2</td>\n",
              "    </tr>\n",
              "    <tr>\n",
              "      <th>3</th>\n",
              "      <td>9</td>\n",
              "      <td>10</td>\n",
              "      <td>0.408288</td>\n",
              "      <td>2</td>\n",
              "    </tr>\n",
              "    <tr>\n",
              "      <th>4</th>\n",
              "      <td>13</td>\n",
              "      <td>33</td>\n",
              "      <td>0.490130</td>\n",
              "      <td>3</td>\n",
              "    </tr>\n",
              "  </tbody>\n",
              "</table>\n",
              "</div>"
            ],
            "text/plain": [
              "   cluster_A  cluster_B  distance  size_new_cluster\n",
              "0         14         15  0.295682                 2\n",
              "1         11         12  0.394427                 2\n",
              "2          0          1  0.407590                 2\n",
              "3          9         10  0.408288                 2\n",
              "4         13         33  0.490130                 3"
            ]
          },
          "metadata": {
            "tags": []
          },
          "execution_count": 42
        }
      ]
    },
    {
      "cell_type": "markdown",
      "metadata": {
        "id": "PFAODAfIG6Ec"
      },
      "source": [
        "Note:\n",
        "- The same clusters are merged (although the distance for the fifth merge is different!)\n",
        "\n",
        "Next, let us consider the last 5 merges:"
      ]
    },
    {
      "cell_type": "code",
      "metadata": {
        "id": "zfS7rEXyGqFb",
        "colab": {
          "base_uri": "https://localhost:8080/",
          "height": 204
        },
        "outputId": "2c3aa8ad-e04d-4e2e-cac8-1e3e14c28c8a"
      },
      "source": [
        "Z_single.tail()"
      ],
      "execution_count": null,
      "outputs": [
        {
          "output_type": "execute_result",
          "data": {
            "text/html": [
              "<div>\n",
              "<style scoped>\n",
              "    .dataframe tbody tr th:only-of-type {\n",
              "        vertical-align: middle;\n",
              "    }\n",
              "\n",
              "    .dataframe tbody tr th {\n",
              "        vertical-align: top;\n",
              "    }\n",
              "\n",
              "    .dataframe thead th {\n",
              "        text-align: right;\n",
              "    }\n",
              "</style>\n",
              "<table border=\"1\" class=\"dataframe\">\n",
              "  <thead>\n",
              "    <tr style=\"text-align: right;\">\n",
              "      <th></th>\n",
              "      <th>cluster_A</th>\n",
              "      <th>cluster_B</th>\n",
              "      <th>distance</th>\n",
              "      <th>size_new_cluster</th>\n",
              "    </tr>\n",
              "  </thead>\n",
              "  <tbody>\n",
              "    <tr>\n",
              "      <th>26</th>\n",
              "      <td>18</td>\n",
              "      <td>57</td>\n",
              "      <td>1.668785</td>\n",
              "      <td>15</td>\n",
              "    </tr>\n",
              "    <tr>\n",
              "      <th>27</th>\n",
              "      <td>48</td>\n",
              "      <td>56</td>\n",
              "      <td>1.692162</td>\n",
              "      <td>13</td>\n",
              "    </tr>\n",
              "    <tr>\n",
              "      <th>28</th>\n",
              "      <td>58</td>\n",
              "      <td>59</td>\n",
              "      <td>1.716039</td>\n",
              "      <td>28</td>\n",
              "    </tr>\n",
              "    <tr>\n",
              "      <th>29</th>\n",
              "      <td>8</td>\n",
              "      <td>60</td>\n",
              "      <td>1.767729</td>\n",
              "      <td>29</td>\n",
              "    </tr>\n",
              "    <tr>\n",
              "      <th>30</th>\n",
              "      <td>44</td>\n",
              "      <td>61</td>\n",
              "      <td>1.943421</td>\n",
              "      <td>32</td>\n",
              "    </tr>\n",
              "  </tbody>\n",
              "</table>\n",
              "</div>"
            ],
            "text/plain": [
              "    cluster_A  cluster_B  distance  size_new_cluster\n",
              "26         18         57  1.668785                15\n",
              "27         48         56  1.692162                13\n",
              "28         58         59  1.716039                28\n",
              "29          8         60  1.767729                29\n",
              "30         44         61  1.943421                32"
            ]
          },
          "metadata": {
            "tags": []
          },
          "execution_count": 43
        }
      ]
    },
    {
      "cell_type": "code",
      "metadata": {
        "id": "CMH00Oy5GsKd",
        "colab": {
          "base_uri": "https://localhost:8080/",
          "height": 204
        },
        "outputId": "33610e4e-3ab6-4fe9-b6f5-6e3a0406a012"
      },
      "source": [
        "Z_complete.tail()"
      ],
      "execution_count": null,
      "outputs": [
        {
          "output_type": "execute_result",
          "data": {
            "text/html": [
              "<div>\n",
              "<style scoped>\n",
              "    .dataframe tbody tr th:only-of-type {\n",
              "        vertical-align: middle;\n",
              "    }\n",
              "\n",
              "    .dataframe tbody tr th {\n",
              "        vertical-align: top;\n",
              "    }\n",
              "\n",
              "    .dataframe thead th {\n",
              "        text-align: right;\n",
              "    }\n",
              "</style>\n",
              "<table border=\"1\" class=\"dataframe\">\n",
              "  <thead>\n",
              "    <tr style=\"text-align: right;\">\n",
              "      <th></th>\n",
              "      <th>cluster_A</th>\n",
              "      <th>cluster_B</th>\n",
              "      <th>distance</th>\n",
              "      <th>size_new_cluster</th>\n",
              "    </tr>\n",
              "  </thead>\n",
              "  <tbody>\n",
              "    <tr>\n",
              "      <th>26</th>\n",
              "      <td>8</td>\n",
              "      <td>55</td>\n",
              "      <td>2.854379</td>\n",
              "      <td>7</td>\n",
              "    </tr>\n",
              "    <tr>\n",
              "      <th>27</th>\n",
              "      <td>53</td>\n",
              "      <td>57</td>\n",
              "      <td>4.077863</td>\n",
              "      <td>14</td>\n",
              "    </tr>\n",
              "    <tr>\n",
              "      <th>28</th>\n",
              "      <td>54</td>\n",
              "      <td>56</td>\n",
              "      <td>4.115260</td>\n",
              "      <td>11</td>\n",
              "    </tr>\n",
              "    <tr>\n",
              "      <th>29</th>\n",
              "      <td>58</td>\n",
              "      <td>60</td>\n",
              "      <td>5.210165</td>\n",
              "      <td>18</td>\n",
              "    </tr>\n",
              "    <tr>\n",
              "      <th>30</th>\n",
              "      <td>59</td>\n",
              "      <td>61</td>\n",
              "      <td>7.390249</td>\n",
              "      <td>32</td>\n",
              "    </tr>\n",
              "  </tbody>\n",
              "</table>\n",
              "</div>"
            ],
            "text/plain": [
              "    cluster_A  cluster_B  distance  size_new_cluster\n",
              "26          8         55  2.854379                 7\n",
              "27         53         57  4.077863                14\n",
              "28         54         56  4.115260                11\n",
              "29         58         60  5.210165                18\n",
              "30         59         61  7.390249                32"
            ]
          },
          "metadata": {
            "tags": []
          },
          "execution_count": 44
        }
      ]
    },
    {
      "cell_type": "markdown",
      "metadata": {
        "id": "h3h3UCVIHKTg"
      },
      "source": [
        "Now the cluster merges are very different!"
      ]
    },
    {
      "cell_type": "markdown",
      "metadata": {
        "id": "NMT4OBeaHXpI"
      },
      "source": [
        "---\n",
        "# [E] Visualizing the cluster hierarchy using a dendrogram"
      ]
    },
    {
      "cell_type": "markdown",
      "metadata": {
        "id": "SHGQPJ42HdSB"
      },
      "source": [
        "Instead of analyzing the cluster hierarchy in **`Z`** directly, it is a better idea to create a so-called **dendrogram**.\n",
        "- A dendrogram is a tree-like structure that can be used to efficiently visualize the cluster hierarchy\n",
        "- We can create a dendrogram using the **`dendrogram`** function that we imported from **`scipy`**"
      ]
    },
    {
      "cell_type": "code",
      "metadata": {
        "id": "pY_X9xPWI8Sw",
        "colab": {
          "base_uri": "https://localhost:8080/",
          "height": 595
        },
        "outputId": "c83d8d5d-4bc9-4135-e059-346631aa2b27"
      },
      "source": [
        "# initialize a new figure\n",
        "fig = plt.figure(figsize=(15, 10))\n",
        "\n",
        "# create the dendrogram\n",
        "dn = dendrogram(\n",
        "    linkage(X, method='single'),\n",
        ")\n",
        "\n",
        "# show the figure\n",
        "plt.show()"
      ],
      "execution_count": null,
      "outputs": [
        {
          "output_type": "display_data",
          "data": {
            "image/png": "[encoded data removed]",
            "text/plain": [
              "<Figure size 1080x720 with 1 Axes>"
            ]
          },
          "metadata": {
            "tags": [],
            "needs_background": "light"
          }
        }
      ]
    },
    {
      "cell_type": "markdown",
      "metadata": {
        "id": "BmpRFdbLJAIW"
      },
      "source": [
        "Typically, it is more convenient to flip the orientation of the dendrogram\n",
        "- This can be achieved by specifying the **`orientation`** argument in the **`dendrogram`** function\n",
        "- We will use **`orientation='right'`**"
      ]
    },
    {
      "cell_type": "code",
      "metadata": {
        "id": "8r_aQhE8CbXN",
        "colab": {
          "base_uri": "https://localhost:8080/",
          "height": 592
        },
        "outputId": "178fbe61-0db9-48e2-fb59-c8f66ca65239"
      },
      "source": [
        "# initialize a new figure\n",
        "fig = plt.figure(figsize=(15, 10))\n",
        "\n",
        "# create the dendrogram\n",
        "dn = dendrogram(\n",
        "    linkage(X, method='single'),\n",
        "    orientation='right',\n",
        ")\n",
        "\n",
        "# show the figure\n",
        "plt.show()"
      ],
      "execution_count": null,
      "outputs": [
        {
          "output_type": "display_data",
          "data": {
            "image/png": "[encoded data removed]",
            "text/plain": [
              "<Figure size 1080x720 with 1 Axes>"
            ]
          },
          "metadata": {
            "tags": [],
            "needs_background": "light"
          }
        }
      ]
    },
    {
      "cell_type": "markdown",
      "metadata": {
        "id": "pKzuGtyUJQ_p"
      },
      "source": [
        "If you have labels for the observations in the data, the interpretability of a dendrogram can be improved significantly by including those labels\n",
        "- In our dataset we have these labels, the name of each car\n",
        "\n",
        "We can add this information specifying the **`labels`** argument in the **`dendrogram`** function. We will use the **`index`** from our data **`X`** as labels:"
      ]
    },
    {
      "cell_type": "code",
      "metadata": {
        "id": "_JTA5ekzCqFl",
        "colab": {
          "base_uri": "https://localhost:8080/",
          "height": 592
        },
        "outputId": "a7914065-6e3e-4464-e46e-c2ca01224b25"
      },
      "source": [
        "# initialize a new figure\n",
        "fig = plt.figure(figsize=(15, 10))\n",
        "\n",
        "# create the dendrogram\n",
        "dn = dendrogram(\n",
        "    linkage(X, method='single'),\n",
        "    orientation='right',\n",
        "    labels=X.index,\n",
        ")\n",
        "\n",
        "# show the figure\n",
        "plt.show()"
      ],
      "execution_count": null,
      "outputs": [
        {
          "output_type": "display_data",
          "data": {
            "image/png": "[encoded data removed]",
            "text/plain": [
              "<Figure size 1080x720 with 1 Axes>"
            ]
          },
          "metadata": {
            "tags": [],
            "needs_background": "light"
          }
        }
      ]
    },
    {
      "cell_type": "markdown",
      "metadata": {
        "id": "PIt-VlaiKALR"
      },
      "source": [
        "Finally, before we start interpreting the dendrogram, you should know that on the horizontal axis (if **`orientation='right'`**), the **distance between clusters** is displayed.\n",
        "\n",
        "Let us add this information to the plot, together with a title:"
      ]
    },
    {
      "cell_type": "code",
      "metadata": {
        "id": "N84TJVVkJ4ag",
        "colab": {
          "base_uri": "https://localhost:8080/",
          "height": 621
        },
        "outputId": "2414f49d-db1f-43f1-bbbc-68f4813957db"
      },
      "source": [
        "# initialize a new figure\n",
        "fig = plt.figure(figsize=(15, 10))\n",
        "\n",
        "# create the dendrogram\n",
        "dn = dendrogram(\n",
        "    linkage(X, method='single'),\n",
        "    orientation='right',\n",
        "    labels=X.index,\n",
        ")\n",
        "\n",
        "# Add title and x-axis label\n",
        "plt.title('Dendrogram of the cars data - Single linkage')\n",
        "plt.xlabel('Cluster distance')\n",
        "\n",
        "# show the figure\n",
        "plt.show()"
      ],
      "execution_count": null,
      "outputs": [
        {
          "output_type": "display_data",
          "data": {
            "image/png": "[encoded data removed]",
            "text/plain": [
              "<Figure size 1080x720 with 1 Axes>"
            ]
          },
          "metadata": {
            "tags": [],
            "needs_background": "light"
          }
        }
      ]
    },
    {
      "cell_type": "markdown",
      "metadata": {
        "id": "eIWY70l5X0E0"
      },
      "source": [
        "Now let us discuss the dendrogram step by step\n",
        "\n",
        "First, about the colors:\n",
        "- The **colors in the dendrogram have no substantive meaning**!!\n",
        "- They are created by the **`dendrogram`** function to make the figure easier to interpret\n",
        "- However, the colors are not part of the output of the hierarchical cluster.\n",
        "\n",
        "Second, about the horizontal distances:\n",
        "- Each observation is represented by a **horizontal** line\n",
        "- A **cluster merge** is visualized by two horizontal lines being connected by a **vertical line**\n",
        "- The position of this vertical line on the horizontal axis indicates the **cluster distance** between the two merged clusters\n",
        "- Cluster merges that have a **larger cluster distance**, occur at a **later iteration** in the agglomerative clustering algorithm\n",
        "\n",
        "Therefore:\n",
        "- The horizontal location of a cluster merge says something about how different the two merged clusters are\n",
        "- The larger the cluster distance, the more dissimilar the merged clusters\n",
        "\n",
        "For example:\n",
        "- At the bottom of the dendrogram we observe that the the Chrysler Imperial is merged to the first created cluster, which contains the Cadillac Fleetwood and the Lincoln Continental\n",
        "- We can inspect those three observations in the data"
      ]
    },
    {
      "cell_type": "code",
      "metadata": {
        "id": "9z7tzUegLGEF",
        "colab": {
          "base_uri": "https://localhost:8080/",
          "height": 173
        },
        "outputId": "9bd25706-f8bd-4e93-bfa9-3f53b74d3abf"
      },
      "source": [
        "X.loc[['Lincoln Continental', 'Cadillac Fleetwood', 'Chrysler Imperial']]"
      ],
      "execution_count": null,
      "outputs": [
        {
          "output_type": "execute_result",
          "data": {
            "text/html": [
              "<div>\n",
              "<style scoped>\n",
              "    .dataframe tbody tr th:only-of-type {\n",
              "        vertical-align: middle;\n",
              "    }\n",
              "\n",
              "    .dataframe tbody tr th {\n",
              "        vertical-align: top;\n",
              "    }\n",
              "\n",
              "    .dataframe thead th {\n",
              "        text-align: right;\n",
              "    }\n",
              "</style>\n",
              "<table border=\"1\" class=\"dataframe\">\n",
              "  <thead>\n",
              "    <tr style=\"text-align: right;\">\n",
              "      <th></th>\n",
              "      <th>mpg</th>\n",
              "      <th>disp</th>\n",
              "      <th>hp</th>\n",
              "      <th>drat</th>\n",
              "      <th>wt</th>\n",
              "      <th>qsec</th>\n",
              "    </tr>\n",
              "    <tr>\n",
              "      <th>Carname</th>\n",
              "      <th></th>\n",
              "      <th></th>\n",
              "      <th></th>\n",
              "      <th></th>\n",
              "      <th></th>\n",
              "      <th></th>\n",
              "    </tr>\n",
              "  </thead>\n",
              "  <tbody>\n",
              "    <tr>\n",
              "      <th>Lincoln Continental</th>\n",
              "      <td>-1.607883</td>\n",
              "      <td>1.849932</td>\n",
              "      <td>0.996348</td>\n",
              "      <td>-1.115740</td>\n",
              "      <td>2.255336</td>\n",
              "      <td>-0.016089</td>\n",
              "    </tr>\n",
              "    <tr>\n",
              "      <th>Cadillac Fleetwood</th>\n",
              "      <td>-1.607883</td>\n",
              "      <td>1.946754</td>\n",
              "      <td>0.850497</td>\n",
              "      <td>-1.246660</td>\n",
              "      <td>2.077505</td>\n",
              "      <td>0.073449</td>\n",
              "    </tr>\n",
              "    <tr>\n",
              "      <th>Chrysler Imperial</th>\n",
              "      <td>-0.894420</td>\n",
              "      <td>1.688562</td>\n",
              "      <td>1.215126</td>\n",
              "      <td>-0.685575</td>\n",
              "      <td>2.174596</td>\n",
              "      <td>-0.239935</td>\n",
              "    </tr>\n",
              "  </tbody>\n",
              "</table>\n",
              "</div>"
            ],
            "text/plain": [
              "                          mpg      disp        hp      drat        wt      qsec\n",
              "Carname                                                                        \n",
              "Lincoln Continental -1.607883  1.849932  0.996348 -1.115740  2.255336 -0.016089\n",
              "Cadillac Fleetwood  -1.607883  1.946754  0.850497 -1.246660  2.077505  0.073449\n",
              "Chrysler Imperial   -0.894420  1.688562  1.215126 -0.685575  2.174596 -0.239935"
            ]
          },
          "metadata": {
            "tags": []
          },
          "execution_count": 49
        }
      ]
    },
    {
      "cell_type": "markdown",
      "metadata": {
        "id": "UYcl7Q6DYJx7"
      },
      "source": [
        "Indeed we observe some similiarties, for example between `disp` and `wt`, but other variables are quite different, like `mpg` and `qsec`"
      ]
    },
    {
      "cell_type": "markdown",
      "metadata": {
        "id": "iuFow221OmxL"
      },
      "source": [
        "Now that we know how to create a dendrogram and how to interpret it, it becomes easier to compare solutions of different **linkage methods**\n",
        "\n",
        "For example, this is the dendrogram corresponding to the **Ward linkage** method:"
      ]
    },
    {
      "cell_type": "code",
      "metadata": {
        "id": "QsAmPaBcNavK",
        "colab": {
          "base_uri": "https://localhost:8080/",
          "height": 621
        },
        "outputId": "344a67cd-3347-4070-db84-01d6fea0a6ef"
      },
      "source": [
        "# initialize a new figure\n",
        "fig = plt.figure(figsize=(15, 10))\n",
        "\n",
        "# create the dendrogram\n",
        "dn = dendrogram(\n",
        "    linkage(X, method='ward'), # change this from 'single' to 'ward'\n",
        "    orientation='right',\n",
        "    labels=X.index,\n",
        ")\n",
        "\n",
        "# Add title and x-axis label\n",
        "plt.title('Dendrogram of the cars data - Ward linkage') # don't forget to change your title!\n",
        "plt.xlabel('Cluster distance')\n",
        "\n",
        "# show the figure\n",
        "plt.show()"
      ],
      "execution_count": null,
      "outputs": [
        {
          "output_type": "display_data",
          "data": {
            "image/png": "[encoded data removed]",
            "text/plain": [
              "<Figure size 1080x720 with 1 Axes>"
            ]
          },
          "metadata": {
            "tags": [],
            "needs_background": "light"
          }
        }
      ]
    },
    {
      "cell_type": "markdown",
      "metadata": {
        "id": "f01VvNXPKqCN"
      },
      "source": [
        "\n",
        "For the last cluster merge we observe a big \"jump\" in cluster distance\n",
        "- Think of this jump as the distance that needs to be overcome before the clusters can be merged\n",
        "- The larger the distance that needs to be overcome to merge clusters, the more dissimilar the clusters are\n",
        "- In other words, these clusters are not similar at all!\n",
        "\n",
        "To provide further interpretation to the Ward solution:\n",
        "- Its dendrogram seems to hint at a solution of 2 clusters, as the jump in cluster distance to go from 2 clusters to just 1 is large.\n",
        "- There is also a relatively large \"jump\" in cluster distance if we move from 5 clusters (achieved at a cluster distance of approximately 4) to a solution with 4 clusters (achieved at a cluster distance of approximately 5.5)\n",
        "- **You could use this information to help you better determine the number of clusters in $K$-means!**"
      ]
    }
  ]
}