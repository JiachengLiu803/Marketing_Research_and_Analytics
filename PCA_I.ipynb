{
  "nbformat": 4,
  "nbformat_minor": 0,
  "metadata": {
    "colab": {
      "name": "Copy of 2021_Spring_BUMK744_PCA_I.ipynb",
      "provenance": [],
      "collapsed_sections": [],
      "toc_visible": true
    },
    "kernelspec": {
      "name": "python3",
      "display_name": "Python 3"
    }
  },
  "cells": [
    {
      "cell_type": "markdown",
      "metadata": {
        "id": "MeA9MTo0qb7t"
      },
      "source": [
        "# **Principal Component Analysis (PCA) - I**\n",
        "\n",
        "\n",
        "**objectives:**\n",
        "\n",
        "In this Jupyter Notebook we will start working with **Principal Component Analysis (PCA)**. The general  goal is twofold:\n",
        "\n",
        "1. To understand the intuition behind PCA\n",
        "2. To become familiar with the PCA functionality in scikit-learn.\n",
        "\n",
        "> - [A] Importing\n",
        "> - [A] Loading the Iris dataset from scikit-learn\n",
        "> - [C] Descriptive statistics\n",
        "> - [D] PCA in 2D: intuition\n",
        "> - [E] PCA in 2D: scikit-learn\n",
        "> - [F] Linear algebra in Python\n",
        "> - [G] Rotating with PCA\n",
        "\n"
      ]
    },
    {
      "cell_type": "markdown",
      "metadata": {
        "id": "kROvkX_4SGiY"
      },
      "source": [
        "---\n",
        "## **[A] Importing**"
      ]
    },
    {
      "cell_type": "markdown",
      "metadata": {
        "id": "N9fyPyZJsc7j"
      },
      "source": [
        "We will import several packages:\n",
        "- We have worked with the first two packages, **`numpy`** and **`pandas`**\n",
        "- The third subpackage **`matplotlib.pyplot`** is the default plotting package for Python, which we will import under the alias **`plt`**\n",
        "- The fourth package **`seaborn`** is a package for statistical data visualization, that we will import under the alias **`sns`**"
      ]
    },
    {
      "cell_type": "code",
      "metadata": {
        "id": "E5rxwtMjsl5l"
      },
      "source": [
        "import numpy as np\n",
        "import pandas as pd\n",
        "\n",
        "import matplotlib.pyplot as plt\n",
        "import seaborn as sns"
      ],
      "execution_count": null,
      "outputs": []
    },
    {
      "cell_type": "markdown",
      "metadata": {
        "id": "WLJP23etELum"
      },
      "source": [
        "In addition, we will work with **scikit-learn**, a large Python library that contains many different machine learning methods. \n",
        "\n",
        "Remember:\n",
        "> - The package name of scikit-learn is **`sklearn`** and it is **not** scikit-learn!!\n",
        "> - Because scikit-learn is a large library, it is designed in such a way that you can import smaller parts of it, instead of everything at once"
      ]
    },
    {
      "cell_type": "markdown",
      "metadata": {
        "id": "njgjlcLKsZK3"
      },
      "source": [
        "---\n",
        "## **[B] Loading the Iris dataset from scikit-learn**"
      ]
    },
    {
      "cell_type": "markdown",
      "metadata": {
        "id": "2HO15dK9Xkzo"
      },
      "source": [
        "We will start working with PCA using the **Iris** dataset. This is a small well-known dataset that can help us understand and visualize PCA.\n",
        "\n",
        "First, we load in the `datasets` submodule:"
      ]
    },
    {
      "cell_type": "code",
      "metadata": {
        "id": "Ni5yYc6xEnuh"
      },
      "source": [
        "from sklearn import datasets"
      ],
      "execution_count": null,
      "outputs": []
    },
    {
      "cell_type": "markdown",
      "metadata": {
        "id": "trpHwysmFULb"
      },
      "source": [
        "We will now load the **Iris** data set, which contains information about flowers:"
      ]
    },
    {
      "cell_type": "code",
      "metadata": {
        "id": "b86faQbTEp6-"
      },
      "source": [
        "iris = datasets.load_iris()\n",
        "\n",
        "# Load X, y, variable labels for the Iris data set\n",
        "X = iris.data\n",
        "y = iris.target\n",
        "variable_labels = iris.feature_names\n",
        "\n",
        "# Create a dataframe for X\n",
        "X = pd.DataFrame(X, columns=variable_labels)"
      ],
      "execution_count": null,
      "outputs": []
    },
    {
      "cell_type": "code",
      "metadata": {
        "id": "FVZljekl1DsM",
        "colab": {
          "base_uri": "https://localhost:8080/",
          "height": 419
        },
        "outputId": "e5e3ac4c-60c0-496b-8bc2-199525dd54fe"
      },
      "source": [
        "X"
      ],
      "execution_count": null,
      "outputs": [
        {
          "output_type": "execute_result",
          "data": {
            "text/html": [
              "<div>\n",
              "<style scoped>\n",
              "    .dataframe tbody tr th:only-of-type {\n",
              "        vertical-align: middle;\n",
              "    }\n",
              "\n",
              "    .dataframe tbody tr th {\n",
              "        vertical-align: top;\n",
              "    }\n",
              "\n",
              "    .dataframe thead th {\n",
              "        text-align: right;\n",
              "    }\n",
              "</style>\n",
              "<table border=\"1\" class=\"dataframe\">\n",
              "  <thead>\n",
              "    <tr style=\"text-align: right;\">\n",
              "      <th></th>\n",
              "      <th>sepal length (cm)</th>\n",
              "      <th>sepal width (cm)</th>\n",
              "      <th>petal length (cm)</th>\n",
              "      <th>petal width (cm)</th>\n",
              "    </tr>\n",
              "  </thead>\n",
              "  <tbody>\n",
              "    <tr>\n",
              "      <th>0</th>\n",
              "      <td>5.1</td>\n",
              "      <td>3.5</td>\n",
              "      <td>1.4</td>\n",
              "      <td>0.2</td>\n",
              "    </tr>\n",
              "    <tr>\n",
              "      <th>1</th>\n",
              "      <td>4.9</td>\n",
              "      <td>3.0</td>\n",
              "      <td>1.4</td>\n",
              "      <td>0.2</td>\n",
              "    </tr>\n",
              "    <tr>\n",
              "      <th>2</th>\n",
              "      <td>4.7</td>\n",
              "      <td>3.2</td>\n",
              "      <td>1.3</td>\n",
              "      <td>0.2</td>\n",
              "    </tr>\n",
              "    <tr>\n",
              "      <th>3</th>\n",
              "      <td>4.6</td>\n",
              "      <td>3.1</td>\n",
              "      <td>1.5</td>\n",
              "      <td>0.2</td>\n",
              "    </tr>\n",
              "    <tr>\n",
              "      <th>4</th>\n",
              "      <td>5.0</td>\n",
              "      <td>3.6</td>\n",
              "      <td>1.4</td>\n",
              "      <td>0.2</td>\n",
              "    </tr>\n",
              "    <tr>\n",
              "      <th>...</th>\n",
              "      <td>...</td>\n",
              "      <td>...</td>\n",
              "      <td>...</td>\n",
              "      <td>...</td>\n",
              "    </tr>\n",
              "    <tr>\n",
              "      <th>145</th>\n",
              "      <td>6.7</td>\n",
              "      <td>3.0</td>\n",
              "      <td>5.2</td>\n",
              "      <td>2.3</td>\n",
              "    </tr>\n",
              "    <tr>\n",
              "      <th>146</th>\n",
              "      <td>6.3</td>\n",
              "      <td>2.5</td>\n",
              "      <td>5.0</td>\n",
              "      <td>1.9</td>\n",
              "    </tr>\n",
              "    <tr>\n",
              "      <th>147</th>\n",
              "      <td>6.5</td>\n",
              "      <td>3.0</td>\n",
              "      <td>5.2</td>\n",
              "      <td>2.0</td>\n",
              "    </tr>\n",
              "    <tr>\n",
              "      <th>148</th>\n",
              "      <td>6.2</td>\n",
              "      <td>3.4</td>\n",
              "      <td>5.4</td>\n",
              "      <td>2.3</td>\n",
              "    </tr>\n",
              "    <tr>\n",
              "      <th>149</th>\n",
              "      <td>5.9</td>\n",
              "      <td>3.0</td>\n",
              "      <td>5.1</td>\n",
              "      <td>1.8</td>\n",
              "    </tr>\n",
              "  </tbody>\n",
              "</table>\n",
              "<p>150 rows × 4 columns</p>\n",
              "</div>"
            ],
            "text/plain": [
              "     sepal length (cm)  sepal width (cm)  petal length (cm)  petal width (cm)\n",
              "0                  5.1               3.5                1.4               0.2\n",
              "1                  4.9               3.0                1.4               0.2\n",
              "2                  4.7               3.2                1.3               0.2\n",
              "3                  4.6               3.1                1.5               0.2\n",
              "4                  5.0               3.6                1.4               0.2\n",
              "..                 ...               ...                ...               ...\n",
              "145                6.7               3.0                5.2               2.3\n",
              "146                6.3               2.5                5.0               1.9\n",
              "147                6.5               3.0                5.2               2.0\n",
              "148                6.2               3.4                5.4               2.3\n",
              "149                5.9               3.0                5.1               1.8\n",
              "\n",
              "[150 rows x 4 columns]"
            ]
          },
          "metadata": {
            "tags": []
          },
          "execution_count": 4
        }
      ]
    },
    {
      "cell_type": "markdown",
      "metadata": {
        "id": "FUbvSCKXspiY"
      },
      "source": [
        "- The 150 records (rows) relate to different flowers\n",
        "- The 4 variables are about the length and width (in centimeters) of the sepals and petals of these flowers\n",
        "![sepal_petal](https://www.wpclipart.com/plants/diagrams/plant_parts/petal_sepal_label.png)"
      ]
    },
    {
      "cell_type": "markdown",
      "metadata": {
        "id": "qTzxEFjFhFyz"
      },
      "source": [
        "---\n",
        "## [C] Descriptive statistics"
      ]
    },
    {
      "cell_type": "markdown",
      "metadata": {
        "id": "m3cBD2JQhLGG"
      },
      "source": [
        "Before applying any statistical method to data, your first step should always be to look at some **descriptive statistics** of the dataset."
      ]
    },
    {
      "cell_type": "markdown",
      "metadata": {
        "id": "Z-f9hV4Fy6m2"
      },
      "source": [
        "The **sample mean** of the data **`X`** can be computed using the **`mean`** method of a pandas DataFrame:"
      ]
    },
    {
      "cell_type": "code",
      "metadata": {
        "id": "osOv3ZKPy_BJ",
        "colab": {
          "base_uri": "https://localhost:8080/"
        },
        "outputId": "697b0d04-61ff-4ffa-a721-4d34fd0f5f95"
      },
      "source": [
        "X.mean()"
      ],
      "execution_count": null,
      "outputs": [
        {
          "output_type": "execute_result",
          "data": {
            "text/plain": [
              "sepal length (cm)    5.843333\n",
              "sepal width (cm)     3.057333\n",
              "petal length (cm)    3.758000\n",
              "petal width (cm)     1.199333\n",
              "dtype: float64"
            ]
          },
          "metadata": {
            "tags": []
          },
          "execution_count": 5
        }
      ]
    },
    {
      "cell_type": "markdown",
      "metadata": {
        "id": "G15v2Ml_zWvl"
      },
      "source": [
        "**Note**: The **difference in scale** between the 4 variables\n",
        "- Sepal length has a mean of approximately 5.84, while petal width only has a mean of approximately 1.20"
      ]
    },
    {
      "cell_type": "markdown",
      "metadata": {
        "id": "4QDd8lZBw2Uj"
      },
      "source": [
        "The **sample variance** of the data **`X`** can be computed is the **`var`** method of a pandas DataFrame:"
      ]
    },
    {
      "cell_type": "code",
      "metadata": {
        "id": "hwyOwxoLw22_",
        "colab": {
          "base_uri": "https://localhost:8080/"
        },
        "outputId": "18ad0e46-ef0b-4aaf-f1ad-5bd8dd2cd530"
      },
      "source": [
        "X.var()"
      ],
      "execution_count": null,
      "outputs": [
        {
          "output_type": "execute_result",
          "data": {
            "text/plain": [
              "sepal length (cm)    0.685694\n",
              "sepal width (cm)     0.189979\n",
              "petal length (cm)    3.116278\n",
              "petal width (cm)     0.581006\n",
              "dtype: float64"
            ]
          },
          "metadata": {
            "tags": []
          },
          "execution_count": 7
        }
      ]
    },
    {
      "cell_type": "markdown",
      "metadata": {
        "id": "mKN5aI28xFCj"
      },
      "source": [
        "**Note**: The **difference in variance** between variables\n",
        "- Petal length has a variance of approximately 3.11, while sepal width only has a variance of approximately 0.19\n",
        "- The relative magnitude of the variance of a variable is important for the PCA solution!"
      ]
    },
    {
      "cell_type": "markdown",
      "metadata": {
        "id": "BP-tE5iEH25j"
      },
      "source": [
        "To learn about the relations between variables we can compute the **covariance matrix** of the data **`X`** using the **`cov`** method of a pandas DataFrame:"
      ]
    },
    {
      "cell_type": "code",
      "metadata": {
        "id": "aRG8zI5rH9rC",
        "colab": {
          "base_uri": "https://localhost:8080/",
          "height": 173
        },
        "outputId": "ba921c32-b47f-463e-e8ec-2371d49be6ca"
      },
      "source": [
        "X.cov()  # Hard to interpret, use corr."
      ],
      "execution_count": null,
      "outputs": [
        {
          "output_type": "execute_result",
          "data": {
            "text/html": [
              "<div>\n",
              "<style scoped>\n",
              "    .dataframe tbody tr th:only-of-type {\n",
              "        vertical-align: middle;\n",
              "    }\n",
              "\n",
              "    .dataframe tbody tr th {\n",
              "        vertical-align: top;\n",
              "    }\n",
              "\n",
              "    .dataframe thead th {\n",
              "        text-align: right;\n",
              "    }\n",
              "</style>\n",
              "<table border=\"1\" class=\"dataframe\">\n",
              "  <thead>\n",
              "    <tr style=\"text-align: right;\">\n",
              "      <th></th>\n",
              "      <th>sepal length (cm)</th>\n",
              "      <th>sepal width (cm)</th>\n",
              "      <th>petal length (cm)</th>\n",
              "      <th>petal width (cm)</th>\n",
              "    </tr>\n",
              "  </thead>\n",
              "  <tbody>\n",
              "    <tr>\n",
              "      <th>sepal length (cm)</th>\n",
              "      <td>0.685694</td>\n",
              "      <td>-0.042434</td>\n",
              "      <td>1.274315</td>\n",
              "      <td>0.516271</td>\n",
              "    </tr>\n",
              "    <tr>\n",
              "      <th>sepal width (cm)</th>\n",
              "      <td>-0.042434</td>\n",
              "      <td>0.189979</td>\n",
              "      <td>-0.329656</td>\n",
              "      <td>-0.121639</td>\n",
              "    </tr>\n",
              "    <tr>\n",
              "      <th>petal length (cm)</th>\n",
              "      <td>1.274315</td>\n",
              "      <td>-0.329656</td>\n",
              "      <td>3.116278</td>\n",
              "      <td>1.295609</td>\n",
              "    </tr>\n",
              "    <tr>\n",
              "      <th>petal width (cm)</th>\n",
              "      <td>0.516271</td>\n",
              "      <td>-0.121639</td>\n",
              "      <td>1.295609</td>\n",
              "      <td>0.581006</td>\n",
              "    </tr>\n",
              "  </tbody>\n",
              "</table>\n",
              "</div>"
            ],
            "text/plain": [
              "                   sepal length (cm)  ...  petal width (cm)\n",
              "sepal length (cm)           0.685694  ...          0.516271\n",
              "sepal width (cm)           -0.042434  ...         -0.121639\n",
              "petal length (cm)           1.274315  ...          1.295609\n",
              "petal width (cm)            0.516271  ...          0.581006\n",
              "\n",
              "[4 rows x 4 columns]"
            ]
          },
          "metadata": {
            "tags": []
          },
          "execution_count": 8
        }
      ]
    },
    {
      "cell_type": "markdown",
      "metadata": {
        "id": "8SpeITzTILEj"
      },
      "source": [
        "In general, a **correlation matrix** is easier to interpret than a covariance matrix. To compete a **correlation matrix** using pandas, you can use the **`corr`** method of a pandas DataFrame:"
      ]
    },
    {
      "cell_type": "code",
      "metadata": {
        "id": "3gcvXorqIigK",
        "colab": {
          "base_uri": "https://localhost:8080/",
          "height": 173
        },
        "outputId": "d5f9b671-6809-462d-806c-474e866d05db"
      },
      "source": [
        "X.corr()"
      ],
      "execution_count": null,
      "outputs": [
        {
          "output_type": "execute_result",
          "data": {
            "text/html": [
              "<div>\n",
              "<style scoped>\n",
              "    .dataframe tbody tr th:only-of-type {\n",
              "        vertical-align: middle;\n",
              "    }\n",
              "\n",
              "    .dataframe tbody tr th {\n",
              "        vertical-align: top;\n",
              "    }\n",
              "\n",
              "    .dataframe thead th {\n",
              "        text-align: right;\n",
              "    }\n",
              "</style>\n",
              "<table border=\"1\" class=\"dataframe\">\n",
              "  <thead>\n",
              "    <tr style=\"text-align: right;\">\n",
              "      <th></th>\n",
              "      <th>sepal length (cm)</th>\n",
              "      <th>sepal width (cm)</th>\n",
              "      <th>petal length (cm)</th>\n",
              "      <th>petal width (cm)</th>\n",
              "    </tr>\n",
              "  </thead>\n",
              "  <tbody>\n",
              "    <tr>\n",
              "      <th>sepal length (cm)</th>\n",
              "      <td>1.000000</td>\n",
              "      <td>-0.117570</td>\n",
              "      <td>0.871754</td>\n",
              "      <td>0.817941</td>\n",
              "    </tr>\n",
              "    <tr>\n",
              "      <th>sepal width (cm)</th>\n",
              "      <td>-0.117570</td>\n",
              "      <td>1.000000</td>\n",
              "      <td>-0.428440</td>\n",
              "      <td>-0.366126</td>\n",
              "    </tr>\n",
              "    <tr>\n",
              "      <th>petal length (cm)</th>\n",
              "      <td>0.871754</td>\n",
              "      <td>-0.428440</td>\n",
              "      <td>1.000000</td>\n",
              "      <td>0.962865</td>\n",
              "    </tr>\n",
              "    <tr>\n",
              "      <th>petal width (cm)</th>\n",
              "      <td>0.817941</td>\n",
              "      <td>-0.366126</td>\n",
              "      <td>0.962865</td>\n",
              "      <td>1.000000</td>\n",
              "    </tr>\n",
              "  </tbody>\n",
              "</table>\n",
              "</div>"
            ],
            "text/plain": [
              "                   sepal length (cm)  ...  petal width (cm)\n",
              "sepal length (cm)           1.000000  ...          0.817941\n",
              "sepal width (cm)           -0.117570  ...         -0.366126\n",
              "petal length (cm)           0.871754  ...          0.962865\n",
              "petal width (cm)            0.817941  ...          1.000000\n",
              "\n",
              "[4 rows x 4 columns]"
            ]
          },
          "metadata": {
            "tags": []
          },
          "execution_count": 9
        }
      ]
    },
    {
      "cell_type": "markdown",
      "metadata": {
        "id": "3L7xf6gX10gA"
      },
      "source": [
        "**Note**: The **very strong correlation** between some of the 4 variables:\n",
        "> - Petal length and petal width have a correlation of 0.96!\n",
        "> - In other words, if you know a flower's petal width, you can make a very accurate guess about it's petal length\n",
        "> - Because this is a correlation, this relation also holds the other way around\n",
        "> - On the other hand, sepal length and sepal width don't seem to be strongly correlated (-0.12)"
      ]
    },
    {
      "cell_type": "markdown",
      "metadata": {
        "id": "XbcB2MQK3DHq"
      },
      "source": [
        "For more insight we can use the **`pairplot`** function from the **`seaborn`** plotting package (which we have imported as **`sns`**).\n",
        "\n",
        "The **`pairplot`** function creates a scatterplot matrix between every variable in the data.\n",
        "- Each **off-diagonal** subplot corresponds to a scatterplot between two distinct variables\n",
        "- Each **diagonal** subplot provides a histogram of a single variable\n",
        "\n",
        "**Note**: Do not use the **`pairplot`** function if you have many different variables (if $P$ is large)"
      ]
    },
    {
      "cell_type": "code",
      "metadata": {
        "id": "Eh2y-txR0SQE",
        "colab": {
          "base_uri": "https://localhost:8080/",
          "height": 726
        },
        "outputId": "4dda1f83-7cac-4149-ac9b-f9c97b506c73"
      },
      "source": [
        "g = sns.pairplot(data=X)\n",
        "# we can found correations in the dot graph, but some dots still hard tp identify, so we will use PCA"
      ],
      "execution_count": null,
      "outputs": [
        {
          "output_type": "display_data",
          "data": {
            "image/png": "[encoded data removed]",
            "text/plain": [
              "<Figure size 720x720 with 20 Axes>"
            ]
          },
          "metadata": {
            "tags": [],
            "needs_background": "light"
          }
        }
      ]
    },
    {
      "cell_type": "markdown",
      "metadata": {
        "id": "h-zhA21P271o"
      },
      "source": [
        "First, consider the scatterplot between petal width and petal length:\n",
        "> - These two variables have a very strong positive correlation of about 0.96\n",
        "> - As a result, the points in their scatterplot are situated **close to a single straight line**\n",
        "\n",
        "Second, consider the scatterplot between sepal width and sepal length:\n",
        "> - These two variables have a weak negative correlation of about -0.11\n",
        "> - As a result, the points in their scatterplot are spread out and **cannot be captured by a single straight line**"
      ]
    },
    {
      "cell_type": "markdown",
      "metadata": {
        "id": "_UGgUeUmfhJF"
      },
      "source": [
        "---\n",
        "## **[D] PCA in 2D: intuition**"
      ]
    },
    {
      "cell_type": "markdown",
      "metadata": {
        "id": "fb3VDdUKSp7K"
      },
      "source": [
        "The reason that we are so focused on the covariances (and correlations) between the variables in the dataset **`X`** is because that is the information in the data PCA focuses on.\n",
        "\n",
        "In a nutshell, what PCA achieves:\n",
        "1. PCA creates a **set of new variables**\n",
        "2. Each of these new variables is a **linear combination** of the $P$ original variables in the dataset **`X`**\n",
        "3. These linear combinations describe **directions in the data**\n",
        "4. The directions are **sorted in descending order by the amount of variance they describe**\n",
        " - The first direction describes the most variance\n",
        " - The second direction describes the second-most variance\n",
        " - And so and so forth\n",
        "5. That is why the directions are also called **principal directions** that describe the **principal components** of the data\n",
        "6. The original data points $\\mathbf{x}_i$ can be described in terms of these **principal components** in place of the $P$ original variables in the dataset **`X`**\n",
        "\n",
        "Because the **principal components** are sorted, the fundamental idea of PCA is that we can summarize information about all $P$ original variables in the dataset **`X`** by only considering a **small number** of **principal directions**.\n",
        "\n",
        "Below we will explore the intuition behind PCA in just two dimensions\n",
        "- The ideas discussed will carry over to datasets with many variables (next lecture)"
      ]
    },
    {
      "cell_type": "markdown",
      "metadata": {
        "id": "FszUOVnF1JC8"
      },
      "source": [
        "Because it is easy to visualize two-dimensional records (2D vectors) we will initially focus on just 2 of the 4 variables in the Iris data set, that relate to length:\n",
        "> - sepal length (first variable)\n",
        "> - petal length (third variable)"
      ]
    },
    {
      "cell_type": "code",
      "metadata": {
        "id": "boTO0_Ef1Sru",
        "colab": {
          "base_uri": "https://localhost:8080/",
          "height": 419
        },
        "outputId": "070dbe9e-80db-418f-ac38-7c853be9572e"
      },
      "source": [
        "X_only_length = X.loc[:, ['sepal length (cm)', 'petal length (cm)']]\n",
        "X_only_length"
      ],
      "execution_count": null,
      "outputs": [
        {
          "output_type": "execute_result",
          "data": {
            "text/html": [
              "<div>\n",
              "<style scoped>\n",
              "    .dataframe tbody tr th:only-of-type {\n",
              "        vertical-align: middle;\n",
              "    }\n",
              "\n",
              "    .dataframe tbody tr th {\n",
              "        vertical-align: top;\n",
              "    }\n",
              "\n",
              "    .dataframe thead th {\n",
              "        text-align: right;\n",
              "    }\n",
              "</style>\n",
              "<table border=\"1\" class=\"dataframe\">\n",
              "  <thead>\n",
              "    <tr style=\"text-align: right;\">\n",
              "      <th></th>\n",
              "      <th>sepal length (cm)</th>\n",
              "      <th>petal length (cm)</th>\n",
              "    </tr>\n",
              "  </thead>\n",
              "  <tbody>\n",
              "    <tr>\n",
              "      <th>0</th>\n",
              "      <td>5.1</td>\n",
              "      <td>1.4</td>\n",
              "    </tr>\n",
              "    <tr>\n",
              "      <th>1</th>\n",
              "      <td>4.9</td>\n",
              "      <td>1.4</td>\n",
              "    </tr>\n",
              "    <tr>\n",
              "      <th>2</th>\n",
              "      <td>4.7</td>\n",
              "      <td>1.3</td>\n",
              "    </tr>\n",
              "    <tr>\n",
              "      <th>3</th>\n",
              "      <td>4.6</td>\n",
              "      <td>1.5</td>\n",
              "    </tr>\n",
              "    <tr>\n",
              "      <th>4</th>\n",
              "      <td>5.0</td>\n",
              "      <td>1.4</td>\n",
              "    </tr>\n",
              "    <tr>\n",
              "      <th>...</th>\n",
              "      <td>...</td>\n",
              "      <td>...</td>\n",
              "    </tr>\n",
              "    <tr>\n",
              "      <th>145</th>\n",
              "      <td>6.7</td>\n",
              "      <td>5.2</td>\n",
              "    </tr>\n",
              "    <tr>\n",
              "      <th>146</th>\n",
              "      <td>6.3</td>\n",
              "      <td>5.0</td>\n",
              "    </tr>\n",
              "    <tr>\n",
              "      <th>147</th>\n",
              "      <td>6.5</td>\n",
              "      <td>5.2</td>\n",
              "    </tr>\n",
              "    <tr>\n",
              "      <th>148</th>\n",
              "      <td>6.2</td>\n",
              "      <td>5.4</td>\n",
              "    </tr>\n",
              "    <tr>\n",
              "      <th>149</th>\n",
              "      <td>5.9</td>\n",
              "      <td>5.1</td>\n",
              "    </tr>\n",
              "  </tbody>\n",
              "</table>\n",
              "<p>150 rows × 2 columns</p>\n",
              "</div>"
            ],
            "text/plain": [
              "     sepal length (cm)  petal length (cm)\n",
              "0                  5.1                1.4\n",
              "1                  4.9                1.4\n",
              "2                  4.7                1.3\n",
              "3                  4.6                1.5\n",
              "4                  5.0                1.4\n",
              "..                 ...                ...\n",
              "145                6.7                5.2\n",
              "146                6.3                5.0\n",
              "147                6.5                5.2\n",
              "148                6.2                5.4\n",
              "149                5.9                5.1\n",
              "\n",
              "[150 rows x 2 columns]"
            ]
          },
          "metadata": {
            "tags": []
          },
          "execution_count": 11
        }
      ]
    },
    {
      "cell_type": "markdown",
      "metadata": {
        "id": "cQtlbIltyc9W"
      },
      "source": [
        "### Scatterplot\n",
        "\n",
        "We can create a scatterplot for these two variables using the **`scatterplot`** function in **seaborn**:"
      ]
    },
    {
      "cell_type": "code",
      "metadata": {
        "id": "Wp7qiezZYgPY",
        "colab": {
          "base_uri": "https://localhost:8080/",
          "height": 606
        },
        "outputId": "e1c68208-23a9-471a-fec2-0e4db45d7146"
      },
      "source": [
        "fig = plt.figure(figsize=[10, 10])\n",
        "\n",
        "#\n",
        "# NEW CODE - START\n",
        "#\n",
        "\n",
        "plt.xlabel('sepal length (cm)')\n",
        "plt.ylabel('petal length (cm)')\n",
        "\n",
        "# Scatterplot between sepal length (x) and petal length (y)\n",
        "g = sns.scatterplot(\n",
        "    x=X_only_length.loc[:, 'sepal length (cm)'],\n",
        "    y=X_only_length.loc[:, 'petal length (cm)'],\n",
        ")\n",
        "\n",
        "g.axis('equal')\n",
        "\n",
        "#\n",
        "# NEW CODE - STOP\n",
        "#\n",
        "\n",
        "plt.show()"
      ],
      "execution_count": null,
      "outputs": [
        {
          "output_type": "display_data",
          "data": {
            "image/png": "[encoded data removed]",
            "text/plain": [
              "<Figure size 720x720 with 1 Axes>"
            ]
          },
          "metadata": {
            "tags": [],
            "needs_background": "light"
          }
        }
      ]
    },
    {
      "cell_type": "markdown",
      "metadata": {
        "id": "1WeusGKQy9YT"
      },
      "source": [
        "By looking at this scatterplot we get a few important take-aways:\n",
        "- Both variables show some variance\n",
        "- The variability of the petal length (**vertical axis**) is much larger than the sepal length (**horizontal axis**)\n",
        "    - Petal length ranges between approximately 1cm and 7cm\n",
        "    - Sepal length ranges between approximately 4cm and 8cm\n",
        "We can verify this intuition by looking at the sample variance:"
      ]
    },
    {
      "cell_type": "code",
      "metadata": {
        "colab": {
          "base_uri": "https://localhost:8080/"
        },
        "id": "scACDQJb1SGB",
        "outputId": "1e05b8aa-078c-4715-c8d5-d4146745d108"
      },
      "source": [
        "X_only_length.var()"
      ],
      "execution_count": null,
      "outputs": [
        {
          "output_type": "execute_result",
          "data": {
            "text/plain": [
              "sepal length (cm)    0.685694\n",
              "petal length (cm)    3.116278\n",
              "dtype: float64"
            ]
          },
          "metadata": {
            "tags": []
          },
          "execution_count": 14
        }
      ]
    },
    {
      "cell_type": "markdown",
      "metadata": {
        "id": "c9t_x0sRzk-f"
      },
      "source": [
        "This is the idea underlying PCA:\n",
        "> PCA will find the **coefficients** that describe the direction of maximal variance"
      ]
    },
    {
      "cell_type": "markdown",
      "metadata": {
        "id": "pFAA1mnAm35j"
      },
      "source": [
        "---\n",
        "## **[E] PCA in 2D: scikit-learn**"
      ]
    },
    {
      "cell_type": "markdown",
      "metadata": {
        "id": "H_CrgXwWyrlO"
      },
      "source": [
        "Before we can use the PCA functionality from **scikit-learn** we need to import it.\n",
        "\n",
        "The PCA functionality is called **`PCA`** and can be found in the **`decomposition`** subpackage of scikit-learn:"
      ]
    },
    {
      "cell_type": "code",
      "metadata": {
        "id": "JazB6T1GSaCk"
      },
      "source": [
        "from sklearn.decomposition import PCA"
      ],
      "execution_count": null,
      "outputs": []
    },
    {
      "cell_type": "markdown",
      "metadata": {
        "id": "lqRVU-zOSeU9"
      },
      "source": [
        "After importing `PCA` we have to **initialize a PCA object** by calling the imported **`PCA`** function:\n",
        "- Note: By default we do not have to provide arguments to the `PCA` function"
      ]
    },
    {
      "cell_type": "code",
      "metadata": {
        "id": "x4Pyu2fWSj1z"
      },
      "source": [
        "our_1st_PCA = PCA()"
      ],
      "execution_count": null,
      "outputs": []
    },
    {
      "cell_type": "markdown",
      "metadata": {
        "id": "VnYO8s6WSjiN"
      },
      "source": [
        "### `fit` method\n",
        "\n",
        "We can find the **principal directions** (or **principal axes**) for the data matrix by using the **`fit`** method from the PCA object.\n",
        "\n",
        "A few **important remarks** regarding the `fit` method:\n",
        "1. The `fit` method automatically **demeans** the data matrix for you, **you do not have to demean the data yourself**. Hence, if you decide to demean the data, it will not change your results\n",
        "2. After calling the `fit` method some configuration settings will be displayed. These are the (default) settings of the PCA object"
      ]
    },
    {
      "cell_type": "code",
      "metadata": {
        "id": "KZP2tMwyTF8J",
        "colab": {
          "base_uri": "https://localhost:8080/"
        },
        "outputId": "178eafa8-915b-4c28-9a61-691debfdd5c9"
      },
      "source": [
        "our_1st_PCA.fit(X=X_only_length)"
      ],
      "execution_count": null,
      "outputs": [
        {
          "output_type": "execute_result",
          "data": {
            "text/plain": [
              "PCA(copy=True, iterated_power='auto', n_components=None, random_state=None,\n",
              "    svd_solver='auto', tol=0.0, whiten=False)"
            ]
          },
          "metadata": {
            "tags": []
          },
          "execution_count": 17
        }
      ]
    },
    {
      "cell_type": "markdown",
      "metadata": {
        "id": "TXEa2Q5VUL9v"
      },
      "source": [
        "### `components_` attribute\n",
        "After calling **`fit`** on our PCA object, we can now access the estimated **principal directions** of the data.\n",
        "\n",
        "Synonyms for a principal direction are:\n",
        "- **principal axis**\n",
        "- **eigenvector** (from the StatQuest video)\n",
        "\n",
        "The PCA object stores the estimated **principal directions** in the **`components_`** attribute\n",
        "- Note the trailing underscore, the attribute is `components_` and not `components`!\n"
      ]
    },
    {
      "cell_type": "code",
      "metadata": {
        "id": "upldCV86UVy9",
        "colab": {
          "base_uri": "https://localhost:8080/"
        },
        "outputId": "abdfe342-cb6e-4f3a-9147-c7a9aa5c2acd"
      },
      "source": [
        "# Store the principal directions in a variable called directions\n",
        "directions = our_1st_PCA.components_\n",
        "directions"
      ],
      "execution_count": null,
      "outputs": [
        {
          "output_type": "execute_result",
          "data": {
            "text/plain": [
              "array([[ 0.39360585,  0.9192793 ],\n",
              "       [-0.9192793 ,  0.39360585]])"
            ]
          },
          "metadata": {
            "tags": []
          },
          "execution_count": 18
        }
      ]
    },
    {
      "cell_type": "markdown",
      "metadata": {
        "id": "1iWkgLWubqeT"
      },
      "source": [
        "About **`components_`**:\n",
        "1. It is an $L \\times P$ matrix (stored as a numpy array)\n",
        " - $L$ is the number of *requested* principal components\n",
        " - $P$ is the number of variables (columns) in **`X`**\n",
        " - In scikit-learn, $L = P$ by default. In the next notebook we will learn how to change that value\n",
        "2. The $k$th **row** describes the **direction** corresponding to the $k$th principal component\n",
        " - A direction is described by a set of **coefficients** for each of the $P$ variables\n",
        "3. In PCA the principal **directions are sorted in descending order of explained variance**\n",
        " - Variance here corresponds to the variance in the dataset **`X`**\n",
        " - The 1st principal component, corresponding to the 1st row in `components_`, explains the most variance in the data\n",
        " - The 2nd principal component, corresponding to the 2nd row in `components_`, explains the second-most variance in the data\n",
        " - And so on and so forth (if we have more than 2 components)\n",
        "\n",
        "Using the above, we can store the principal directions in a pandas DataFrame and label the rows and columns:"
      ]
    },
    {
      "cell_type": "code",
      "metadata": {
        "colab": {
          "base_uri": "https://localhost:8080/",
          "height": 111
        },
        "id": "SMsCA8MSFyS8",
        "outputId": "009f5db9-4371-40de-b08b-e7dc64b4cd19"
      },
      "source": [
        "directions = pd.DataFrame(\n",
        "    our_1st_PCA.components_,\n",
        "    index=['PC1', 'PC2'],\n",
        "    columns=X_only_length.columns,\n",
        ")\n",
        "directions"
      ],
      "execution_count": null,
      "outputs": [
        {
          "output_type": "execute_result",
          "data": {
            "text/html": [
              "<div>\n",
              "<style scoped>\n",
              "    .dataframe tbody tr th:only-of-type {\n",
              "        vertical-align: middle;\n",
              "    }\n",
              "\n",
              "    .dataframe tbody tr th {\n",
              "        vertical-align: top;\n",
              "    }\n",
              "\n",
              "    .dataframe thead th {\n",
              "        text-align: right;\n",
              "    }\n",
              "</style>\n",
              "<table border=\"1\" class=\"dataframe\">\n",
              "  <thead>\n",
              "    <tr style=\"text-align: right;\">\n",
              "      <th></th>\n",
              "      <th>sepal length (cm)</th>\n",
              "      <th>petal length (cm)</th>\n",
              "    </tr>\n",
              "  </thead>\n",
              "  <tbody>\n",
              "    <tr>\n",
              "      <th>PC1</th>\n",
              "      <td>0.393606</td>\n",
              "      <td>0.919279</td>\n",
              "    </tr>\n",
              "    <tr>\n",
              "      <th>PC2</th>\n",
              "      <td>-0.919279</td>\n",
              "      <td>0.393606</td>\n",
              "    </tr>\n",
              "  </tbody>\n",
              "</table>\n",
              "</div>"
            ],
            "text/plain": [
              "     sepal length (cm)  petal length (cm)\n",
              "PC1           0.393606           0.919279\n",
              "PC2          -0.919279           0.393606"
            ]
          },
          "metadata": {
            "tags": []
          },
          "execution_count": 19
        }
      ]
    },
    {
      "cell_type": "markdown",
      "metadata": {
        "id": "hU5aB1Sf79W0"
      },
      "source": [
        "### `components_` interpretation\n",
        "\n",
        "How do we interpret the numbers in `components_`?\n",
        "\n",
        "Let's first focus on the 1st principal direction:\n",
        "- The 1st row in `components_` gives the **coefficients** of the 1st principal direction\n",
        "- These coefficients describe the **slope** of the **straight line** in the data that **maximizes variance**\n",
        "- Each principal direction is described by a **unique** combination of coefficients\n",
        "\n",
        "Remember:\n",
        "- Earlier in the notebook, we tried to find this direction using intuition.\n",
        "- Now with PCA, we actually have the **exact solution** for the 1st principal direction.\n",
        "\n",
        "In the plot below, we visualize the 1st principal direction using two red arrows:"
      ]
    },
    {
      "cell_type": "code",
      "metadata": {
        "colab": {
          "base_uri": "https://localhost:8080/",
          "height": 606
        },
        "id": "sSK1vM_C5R1T",
        "outputId": "291eca82-62bd-4301-adee-6417fd104c64"
      },
      "source": [
        "fig = plt.figure(figsize=[10, 10])\n",
        "\n",
        "plt.xlabel('sepal length (cm)')\n",
        "plt.ylabel('petal length (cm)')\n",
        "\n",
        "# Scatterplot between sepal length (x) and petal length (y)\n",
        "g = sns.scatterplot(\n",
        "    x=X_only_length.loc[:, 'sepal length (cm)'],\n",
        "    y=X_only_length.loc[:, 'petal length (cm)'],\n",
        ")\n",
        "\n",
        "g.axis('equal')\n",
        "\n",
        "#\n",
        "# NEW CODE - START\n",
        "#\n",
        "\n",
        "# Add a black dot that corresponds to the mean of the data\n",
        "plt.scatter(*X_only_length.mean().values, s=100, c='black', zorder=10)\n",
        "\n",
        "# Draw the 1st principal direction\n",
        "# - Remember: This corresponds to the maximal variance in the data!\n",
        "# - Note: You don't have to know how to draw this\n",
        "plt.quiver(\n",
        "    *X_only_length.mean().values,\n",
        "    *directions.iloc[0],\n",
        "    scale=3,\n",
        "    color='r'\n",
        ")\n",
        "plt.quiver(\n",
        "    *X_only_length.mean().values,\n",
        "    *-directions.iloc[0],\n",
        "    scale=3,\n",
        "    color='r',\n",
        ")\n",
        "\n",
        "#\n",
        "# NEW CODE - STOP\n",
        "#\n",
        "\n",
        "plt.show()"
      ],
      "execution_count": null,
      "outputs": [
        {
          "output_type": "display_data",
          "data": {
            "image/png": "[encoded data removed]",
            "text/plain": [
              "<Figure size 720x720 with 1 Axes>"
            ]
          },
          "metadata": {
            "tags": [],
            "needs_background": "light"
          }
        }
      ]
    },
    {
      "cell_type": "markdown",
      "metadata": {
        "id": "hVk88LM39wZ4"
      },
      "source": [
        "In the same way, we can visualize the 2nd principal direction using two blue arrows:"
      ]
    },
    {
      "cell_type": "code",
      "metadata": {
        "colab": {
          "base_uri": "https://localhost:8080/",
          "height": 606
        },
        "id": "sDmJR7F192lZ",
        "outputId": "78a64319-c039-4cb3-ce1a-2ea2bd67d765"
      },
      "source": [
        "fig = plt.figure(figsize=[10, 10])\n",
        "\n",
        "plt.xlabel('sepal length (cm)')\n",
        "plt.ylabel('petal length (cm)')\n",
        "\n",
        "# Scatterplot between sepal length (x) and petal length (y)\n",
        "g = sns.scatterplot(\n",
        "    x=X_only_length.loc[:, 'sepal length (cm)'],\n",
        "    y=X_only_length.loc[:, 'petal length (cm)'],\n",
        ")\n",
        "\n",
        "g.axis('equal')\n",
        "\n",
        "# Add a black dot that corresponds to the mean of the data\n",
        "plt.scatter(*X_only_length.mean().values, s=100, c='black', zorder=10)\n",
        "\n",
        "# Draw the 1st principal direction\n",
        "# - Remember: This corresponds to the maximal variance in the data!\n",
        "# - Note: You don't have to know how to draw this\n",
        "plt.quiver(\n",
        "    *X_only_length.mean().values,\n",
        "    *directions.iloc[0],\n",
        "    scale=3,\n",
        "    color='r'\n",
        ")\n",
        "plt.quiver(\n",
        "    *X_only_length.mean().values,\n",
        "    *-directions.iloc[0],\n",
        "    scale=3,\n",
        "    color='r',\n",
        ")\n",
        "\n",
        "#\n",
        "# NEW CODE - START\n",
        "#\n",
        "\n",
        "# Draw the 2nd principal direction\n",
        "# - Note: You don't have to know how to draw this\n",
        "plt.quiver(\n",
        "    *X_only_length.mean().values,\n",
        "    *directions.iloc[1],\n",
        "    scale=6,\n",
        "    color='b'\n",
        ")\n",
        "plt.quiver(\n",
        "    *X_only_length.mean().values,\n",
        "    *-directions.iloc[1],\n",
        "    scale=6,\n",
        "    color='b',\n",
        ")\n",
        "\n",
        "#\n",
        "# NEW CODE - STOP\n",
        "#\n",
        "\n",
        "plt.show()"
      ],
      "execution_count": null,
      "outputs": [
        {
          "output_type": "display_data",
          "data": {
            "image/png": "[encoded data removed]",
            "text/plain": [
              "<Figure size 720x720 with 1 Axes>"
            ]
          },
          "metadata": {
            "tags": [],
            "needs_background": "light"
          }
        }
      ]
    },
    {
      "cell_type": "markdown",
      "metadata": {
        "id": "Y7Fisv_y-gFr"
      },
      "source": [
        "Note:\n",
        "- The principal directions are **perpendicular** (90 degree angle)\n",
        "- Another way to say this is that the two principal directions are **orthogonal**\n",
        "- This is not by accident, but by design of PCA\n",
        "\n",
        "In essence, what the output of PCA gives us is a **new way** to look at our data:\n",
        "- Instead of interpreting the data in terms of sepal length and sepal width, the original variables in the data, we will interpret the data in terms of the 1st principal direction and the 2nd principal direction\n",
        "- For this we need to perform a **rotation** "
      ]
    },
    {
      "cell_type": "markdown",
      "metadata": {
        "id": "raT3Wh_WDBgn"
      },
      "source": [
        "## [F] Linear algebra in Python\n",
        "\n"
      ]
    },
    {
      "cell_type": "markdown",
      "metadata": {
        "id": "YUOZuGyzEBiS"
      },
      "source": [
        "Using **linear algebra** we can create a **rotation** by using a **matrix-matrix multiplication**\n",
        "- To perform a **matrix-matrix multiplication** in Python we use the **`@`** operator\n",
        "- To **transpose** a **matrix** in Python we use the **`.T`** attribute on the matrix\n",
        " - Note: Transposing works on both a numpy array and a pandas DataFrame\n"
      ]
    },
    {
      "cell_type": "markdown",
      "metadata": {
        "id": "om3-ge8LKZxN"
      },
      "source": [
        "Let's try this with a $2 \\times 2$ matrix `A`:"
      ]
    },
    {
      "cell_type": "code",
      "metadata": {
        "colab": {
          "base_uri": "https://localhost:8080/"
        },
        "id": "UGM5k0_7KLQB",
        "outputId": "21fc9424-8ffa-41b0-9780-f993a6b12a50"
      },
      "source": [
        "A = np.array([\n",
        "    [1, 2],\n",
        "    [3, 4]\n",
        "])\n",
        "A"
      ],
      "execution_count": null,
      "outputs": [
        {
          "output_type": "execute_result",
          "data": {
            "text/plain": [
              "array([[1, 2],\n",
              "       [3, 4]])"
            ]
          },
          "metadata": {
            "tags": []
          },
          "execution_count": 22
        }
      ]
    },
    {
      "cell_type": "markdown",
      "metadata": {
        "id": "NcKa_x0bKW0Z"
      },
      "source": [
        "The **transpose** of `A` is given by `A.T`:"
      ]
    },
    {
      "cell_type": "code",
      "metadata": {
        "colab": {
          "base_uri": "https://localhost:8080/"
        },
        "id": "MS9jUExVKVnn",
        "outputId": "2e22969c-902f-447f-964c-74971e915b84"
      },
      "source": [
        "A.T"
      ],
      "execution_count": null,
      "outputs": [
        {
          "output_type": "execute_result",
          "data": {
            "text/plain": [
              "array([[1, 3],\n",
              "       [2, 4]])"
            ]
          },
          "metadata": {
            "tags": []
          },
          "execution_count": 23
        }
      ]
    },
    {
      "cell_type": "markdown",
      "metadata": {
        "id": "bEU3U6oSKekS"
      },
      "source": [
        "The **matrix multiplication** between `A` and `A.T`:"
      ]
    },
    {
      "cell_type": "code",
      "metadata": {
        "colab": {
          "base_uri": "https://localhost:8080/"
        },
        "id": "N-1z03s8KiN5",
        "outputId": "5642abee-5225-4784-aff9-ca4f8145a09b"
      },
      "source": [
        "A @ A.T"
      ],
      "execution_count": null,
      "outputs": [
        {
          "output_type": "execute_result",
          "data": {
            "text/plain": [
              "array([[ 5, 11],\n",
              "       [11, 25]])"
            ]
          },
          "metadata": {
            "tags": []
          },
          "execution_count": 24
        }
      ]
    },
    {
      "cell_type": "markdown",
      "metadata": {
        "id": "kFMrWQq1Klge"
      },
      "source": [
        "Note: This is **not** the same as the matrix multiplication between `A.T` and `A`, **order matters** when multiplying matrices:"
      ]
    },
    {
      "cell_type": "code",
      "metadata": {
        "colab": {
          "base_uri": "https://localhost:8080/"
        },
        "id": "SiNzavy5KjsJ",
        "outputId": "c12067c1-19d3-4e98-ef5f-4de04e12d5a8"
      },
      "source": [
        "A.T @ A"
      ],
      "execution_count": null,
      "outputs": [
        {
          "output_type": "execute_result",
          "data": {
            "text/plain": [
              "array([[10, 14],\n",
              "       [14, 20]])"
            ]
          },
          "metadata": {
            "tags": []
          },
          "execution_count": 23
        }
      ]
    },
    {
      "cell_type": "markdown",
      "metadata": {
        "id": "HPkRUgJNKLlb"
      },
      "source": [
        "## [G] Rotating with PCA"
      ]
    },
    {
      "cell_type": "markdown",
      "metadata": {
        "id": "4FRxks3FNq5l"
      },
      "source": [
        "### Rotating the principal directions\n",
        "\n",
        "By **rotating** the principal directions we can have that:\n",
        "- The 1st principal component becomes equal to the x-axis\n",
        "- The 2nd principal component becomes equal to the y-axis\n",
        "\n",
        "To rotate the principal directions using linear algebra we need to multiply them with a matrix, so we need to perform a **matrix-matrix multiplication**:\n",
        "- The first matrix is the matrix with the **principal directions**: the **`directions`** variable\n",
        "- The second matrix is the matrix with the **transpose** of the principal directions: the **`directions.T`** variable\n",
        "\n",
        "So, to perform the rotation we have:"
      ]
    },
    {
      "cell_type": "code",
      "metadata": {
        "colab": {
          "base_uri": "https://localhost:8080/",
          "height": 112
        },
        "id": "aYtjmOASECw4",
        "outputId": "47e0b3de-0749-4ce7-a360-827856cc5675"
      },
      "source": [
        "rotated_directions = pd.DataFrame(\n",
        "    directions.values @ directions.values.T,\n",
        "    index=['PC1', 'PC2'],\n",
        "    columns=['X', 'Y'],\n",
        ")\n",
        "pd.DataFrame(rotated_directions).round(4)"
      ],
      "execution_count": null,
      "outputs": [
        {
          "output_type": "execute_result",
          "data": {
            "text/html": [
              "<div>\n",
              "<style scoped>\n",
              "    .dataframe tbody tr th:only-of-type {\n",
              "        vertical-align: middle;\n",
              "    }\n",
              "\n",
              "    .dataframe tbody tr th {\n",
              "        vertical-align: top;\n",
              "    }\n",
              "\n",
              "    .dataframe thead th {\n",
              "        text-align: right;\n",
              "    }\n",
              "</style>\n",
              "<table border=\"1\" class=\"dataframe\">\n",
              "  <thead>\n",
              "    <tr style=\"text-align: right;\">\n",
              "      <th></th>\n",
              "      <th>X</th>\n",
              "      <th>Y</th>\n",
              "    </tr>\n",
              "  </thead>\n",
              "  <tbody>\n",
              "    <tr>\n",
              "      <th>PC1</th>\n",
              "      <td>1.0</td>\n",
              "      <td>0.0</td>\n",
              "    </tr>\n",
              "    <tr>\n",
              "      <th>PC2</th>\n",
              "      <td>0.0</td>\n",
              "      <td>1.0</td>\n",
              "    </tr>\n",
              "  </tbody>\n",
              "</table>\n",
              "</div>"
            ],
            "text/plain": [
              "       X    Y\n",
              "PC1  1.0  0.0\n",
              "PC2  0.0  1.0"
            ]
          },
          "metadata": {
            "tags": []
          },
          "execution_count": 24
        }
      ]
    },
    {
      "cell_type": "markdown",
      "metadata": {
        "id": "7qkwUDo0HQR9"
      },
      "source": [
        "We can now plot these rotated directions using the arrows as before:\n",
        "- Note, we redefine the origin (the point (0, 0)) as the intersection between the two axes"
      ]
    },
    {
      "cell_type": "code",
      "metadata": {
        "colab": {
          "base_uri": "https://localhost:8080/",
          "height": 606
        },
        "id": "T8rDh-U-HV6c",
        "outputId": "a1180e4c-b418-42be-9175-79a6f18afd7b"
      },
      "source": [
        "fig = plt.figure(figsize=[10, 10])\n",
        "\n",
        "plt.xlabel('PC1')\n",
        "plt.ylabel('PC2')\n",
        "\n",
        "# Add a black dot that corresponds to the mean of the data\n",
        "plt.scatter(*[0, 0], s=100, c='black', zorder=10)\n",
        "\n",
        "# Draw the 1st principal direction\n",
        "# - Remember: This corresponds to the maximal variance in the data!\n",
        "# - Note: You don't have to know how to draw this\n",
        "plt.quiver(\n",
        "    *[0, 0],\n",
        "    *rotated_directions.iloc[0],\n",
        "    scale=3,\n",
        "    color='r'\n",
        ")\n",
        "plt.quiver(\n",
        "    *[0, 0],\n",
        "    *-rotated_directions.iloc[0],\n",
        "    scale=3,\n",
        "    color='r',\n",
        ")\n",
        "\n",
        "# Draw the 2nd principal direction\n",
        "# - Note: You don't have to know how to draw this\n",
        "plt.quiver(\n",
        "    *[0, 0],\n",
        "    *rotated_directions.iloc[1],\n",
        "    scale=6,\n",
        "    color='b'\n",
        ")\n",
        "plt.quiver(\n",
        "    *[0, 0],\n",
        "    *-rotated_directions.iloc[1],\n",
        "    scale=6,\n",
        "    color='b',\n",
        ")\n",
        "\n",
        "plt.show()"
      ],
      "execution_count": null,
      "outputs": [
        {
          "output_type": "display_data",
          "data": {
            "image/png": "[encoded data removed]",
            "text/plain": [
              "<Figure size 720x720 with 1 Axes>"
            ]
          },
          "metadata": {
            "tags": [],
            "needs_background": "light"
          }
        }
      ]
    },
    {
      "cell_type": "markdown",
      "metadata": {
        "id": "Go8tvlhtHVC8"
      },
      "source": [
        "### Rotating the data into principal component scores\n",
        "\n",
        "The next step is to rotate the data, such that the data is not described in terms of the original $P$ variables, but in terms of scores on the $L$ principal components.\n",
        "\n",
        "This involves two steps:\n",
        "1. **Demeaning the data**, as we want the data to be centered around the origin (0, 0)\n",
        "2. Performing a matrix-matrix multiplication between the **demeaned data matrix** and the **transposed principal directions**"
      ]
    },
    {
      "cell_type": "code",
      "metadata": {
        "id": "utTcgzTLNzWz",
        "colab": {
          "base_uri": "https://localhost:8080/",
          "height": 424
        },
        "outputId": "9c9fbb3d-9ad2-4575-9f9e-fa4112edb22b"
      },
      "source": [
        "rotated_X_only_length = pd.DataFrame(\n",
        "    (X_only_length - X_only_length.mean()) @ directions.T\n",
        ")\n",
        "\n",
        "rotated_X_only_length.round(4)"
      ],
      "execution_count": null,
      "outputs": [
        {
          "output_type": "execute_result",
          "data": {
            "text/html": [
              "<div>\n",
              "<style scoped>\n",
              "    .dataframe tbody tr th:only-of-type {\n",
              "        vertical-align: middle;\n",
              "    }\n",
              "\n",
              "    .dataframe tbody tr th {\n",
              "        vertical-align: top;\n",
              "    }\n",
              "\n",
              "    .dataframe thead th {\n",
              "        text-align: right;\n",
              "    }\n",
              "</style>\n",
              "<table border=\"1\" class=\"dataframe\">\n",
              "  <thead>\n",
              "    <tr style=\"text-align: right;\">\n",
              "      <th></th>\n",
              "      <th>PC1</th>\n",
              "      <th>PC2</th>\n",
              "    </tr>\n",
              "  </thead>\n",
              "  <tbody>\n",
              "    <tr>\n",
              "      <th>0</th>\n",
              "      <td>-2.4602</td>\n",
              "      <td>-0.2448</td>\n",
              "    </tr>\n",
              "    <tr>\n",
              "      <th>1</th>\n",
              "      <td>-2.5390</td>\n",
              "      <td>-0.0609</td>\n",
              "    </tr>\n",
              "    <tr>\n",
              "      <th>2</th>\n",
              "      <td>-2.7096</td>\n",
              "      <td>0.0836</td>\n",
              "    </tr>\n",
              "    <tr>\n",
              "      <th>3</th>\n",
              "      <td>-2.5651</td>\n",
              "      <td>0.2542</td>\n",
              "    </tr>\n",
              "    <tr>\n",
              "      <th>4</th>\n",
              "      <td>-2.4996</td>\n",
              "      <td>-0.1529</td>\n",
              "    </tr>\n",
              "    <tr>\n",
              "      <th>...</th>\n",
              "      <td>...</td>\n",
              "      <td>...</td>\n",
              "    </tr>\n",
              "    <tr>\n",
              "      <th>145</th>\n",
              "      <td>1.6628</td>\n",
              "      <td>-0.2199</td>\n",
              "    </tr>\n",
              "    <tr>\n",
              "      <th>146</th>\n",
              "      <td>1.3215</td>\n",
              "      <td>0.0691</td>\n",
              "    </tr>\n",
              "    <tr>\n",
              "      <th>147</th>\n",
              "      <td>1.5841</td>\n",
              "      <td>-0.0361</td>\n",
              "    </tr>\n",
              "    <tr>\n",
              "      <th>148</th>\n",
              "      <td>1.6498</td>\n",
              "      <td>0.3184</td>\n",
              "    </tr>\n",
              "    <tr>\n",
              "      <th>149</th>\n",
              "      <td>1.2560</td>\n",
              "      <td>0.4761</td>\n",
              "    </tr>\n",
              "  </tbody>\n",
              "</table>\n",
              "<p>150 rows × 2 columns</p>\n",
              "</div>"
            ],
            "text/plain": [
              "        PC1     PC2\n",
              "0   -2.4602 -0.2448\n",
              "1   -2.5390 -0.0609\n",
              "2   -2.7096  0.0836\n",
              "3   -2.5651  0.2542\n",
              "4   -2.4996 -0.1529\n",
              "..      ...     ...\n",
              "145  1.6628 -0.2199\n",
              "146  1.3215  0.0691\n",
              "147  1.5841 -0.0361\n",
              "148  1.6498  0.3184\n",
              "149  1.2560  0.4761\n",
              "\n",
              "[150 rows x 2 columns]"
            ]
          },
          "metadata": {
            "tags": []
          },
          "execution_count": 26
        }
      ]
    },
    {
      "cell_type": "markdown",
      "metadata": {
        "id": "s2lYAy9yYqIv"
      },
      "source": [
        "The 10th row (for example) of `rotated_X_only_length` now contains the scores of the 11th observation on the two principal components:"
      ]
    },
    {
      "cell_type": "code",
      "metadata": {
        "colab": {
          "base_uri": "https://localhost:8080/"
        },
        "id": "tAcIZHFfY3ja",
        "outputId": "700e7d50-0da0-4d02-b8e3-0247fc97d5bd"
      },
      "source": [
        "rotated_X_only_length.iloc[10]"
      ],
      "execution_count": null,
      "outputs": [
        {
          "output_type": "execute_result",
          "data": {
            "text/plain": [
              "PC1   -2.250231\n",
              "PC2   -0.481215\n",
              "Name: 10, dtype: float64"
            ]
          },
          "metadata": {
            "tags": []
          },
          "execution_count": 27
        }
      ]
    },
    {
      "cell_type": "markdown",
      "metadata": {
        "id": "iNLvPvt_Y8uw"
      },
      "source": [
        "Which is very different from the observations for the two variables:"
      ]
    },
    {
      "cell_type": "code",
      "metadata": {
        "colab": {
          "base_uri": "https://localhost:8080/"
        },
        "id": "0RyBPTYyZAmH",
        "outputId": "0b234bf1-8e90-4ca4-b5c8-f560dfcf04db"
      },
      "source": [
        "X_only_length.iloc[10]"
      ],
      "execution_count": null,
      "outputs": [
        {
          "output_type": "execute_result",
          "data": {
            "text/plain": [
              "sepal length (cm)    5.4\n",
              "petal length (cm)    1.5\n",
              "Name: 10, dtype: float64"
            ]
          },
          "metadata": {
            "tags": []
          },
          "execution_count": 28
        }
      ]
    },
    {
      "cell_type": "markdown",
      "metadata": {
        "id": "c1mxvP7YZG4J"
      },
      "source": [
        "We can plot the `rotated_X_only_length` values:"
      ]
    },
    {
      "cell_type": "code",
      "metadata": {
        "colab": {
          "base_uri": "https://localhost:8080/",
          "height": 606
        },
        "id": "IG52MOTXIu1l",
        "outputId": "a6f494d6-8f46-4e71-b0a3-418b78fafd00"
      },
      "source": [
        "fig = plt.figure(figsize=[10, 10])\n",
        "\n",
        "plt.xlabel('PC1')\n",
        "plt.ylabel('PC2')\n",
        "\n",
        "# Scatterplot between sepal length (x) and petal length (y)\n",
        "g = sns.scatterplot(\n",
        "    x=rotated_X_only_length.loc[:, 'PC1'],\n",
        "    y=rotated_X_only_length.loc[:, 'PC2'],\n",
        ")\n",
        "g.axis('equal')\n",
        "\n",
        "# Add a black dot that corresponds to the mean of the data\n",
        "plt.scatter(*[0, 0], s=100, c='black', zorder=10)\n",
        "\n",
        "# Draw the 1st principal direction\n",
        "# - Remember: This corresponds to the maximal variance in the data!\n",
        "# - Note: You don't have to know how to draw this\n",
        "plt.quiver(\n",
        "    *[0, 0],\n",
        "    *rotated_directions.iloc[0],\n",
        "    scale=3,\n",
        "    color='r'\n",
        ")\n",
        "plt.quiver(\n",
        "    *[0, 0],\n",
        "    *-rotated_directions.iloc[0],\n",
        "    scale=3,\n",
        "    color='r',\n",
        ")\n",
        "\n",
        "# Draw the 2nd principal direction\n",
        "# - Note: You don't have to know how to draw this\n",
        "plt.quiver(\n",
        "    *[0, 0],\n",
        "    *rotated_directions.iloc[1],\n",
        "    scale=6,\n",
        "    color='b'\n",
        ")\n",
        "plt.quiver(\n",
        "    *[0, 0],\n",
        "    *-rotated_directions.iloc[1],\n",
        "    scale=6,\n",
        "    color='b',\n",
        ")\n",
        "\n",
        "plt.show()"
      ],
      "execution_count": null,
      "outputs": [
        {
          "output_type": "display_data",
          "data": {
            "image/png": "[encoded data removed]",
            "text/plain": [
              "<Figure size 720x720 with 1 Axes>"
            ]
          },
          "metadata": {
            "tags": [],
            "needs_background": "light"
          }
        }
      ]
    },
    {
      "cell_type": "markdown",
      "metadata": {
        "id": "dfNjJncID-c6"
      },
      "source": [
        "Compare that against the plot with petal length and sepal length on the axes:"
      ]
    },
    {
      "cell_type": "code",
      "metadata": {
        "colab": {
          "base_uri": "https://localhost:8080/",
          "height": 606
        },
        "id": "OV4zthq-Cvzg",
        "outputId": "a310e269-6e8b-478b-965f-d313333c96c3"
      },
      "source": [
        "fig = plt.figure(figsize=[10, 10])\n",
        "\n",
        "plt.xlabel('sepal length (cm)')\n",
        "plt.ylabel('petal length (cm)')\n",
        "\n",
        "# Scatterplot between sepal length (x) and petal length (y)\n",
        "g = sns.scatterplot(\n",
        "    x=X_only_length.loc[:, 'sepal length (cm)'],\n",
        "    y=X_only_length.loc[:, 'petal length (cm)'],\n",
        ")\n",
        "\n",
        "g.axis('equal')\n",
        "\n",
        "# Add a black dot that corresponds to the mean of the data\n",
        "plt.scatter(*X_only_length.mean().values, s=100, c='black', zorder=10)\n",
        "\n",
        "# Draw the 1st principal direction\n",
        "# - Remember: This corresponds to the maximal variance in the data!\n",
        "# - Note: You don't have to know how to draw this\n",
        "plt.quiver(\n",
        "    *X_only_length.mean().values,\n",
        "    *directions.iloc[0],\n",
        "    scale=3,\n",
        "    color='r'\n",
        ")\n",
        "plt.quiver(\n",
        "    *X_only_length.mean().values,\n",
        "    *-directions.iloc[0],\n",
        "    scale=3,\n",
        "    color='r',\n",
        ")\n",
        "\n",
        "#\n",
        "# NEW CODE - START\n",
        "#\n",
        "\n",
        "# Draw the 2nd principal direction\n",
        "# - Note: You don't have to know how to draw this\n",
        "plt.quiver(\n",
        "    *X_only_length.mean().values,\n",
        "    *directions.iloc[1],\n",
        "    scale=6,\n",
        "    color='b'\n",
        ")\n",
        "plt.quiver(\n",
        "    *X_only_length.mean().values,\n",
        "    *-directions.iloc[1],\n",
        "    scale=6,\n",
        "    color='b',\n",
        ")\n",
        "\n",
        "#\n",
        "# NEW CODE - STOP\n",
        "#\n",
        "\n",
        "plt.show()"
      ],
      "execution_count": null,
      "outputs": [
        {
          "output_type": "display_data",
          "data": {
            "image/png": "[encoded data removed]",
            "text/plain": [
              "<Figure size 720x720 with 1 Axes>"
            ]
          },
          "metadata": {
            "tags": [],
            "needs_background": "light"
          }
        }
      ]
    },
    {
      "cell_type": "markdown",
      "metadata": {
        "id": "RUQjw5chZNMU"
      },
      "source": [
        "Intrinsically, the **data did not change**\n",
        "- Instead, we rotated the data into a new **coordinate system**, described by the **principal directions**"
      ]
    },
    {
      "cell_type": "markdown",
      "metadata": {
        "id": "b17Xx4ysXsJo"
      },
      "source": [
        "### Rotating using the `transform` method\n",
        "\n",
        "Instead of manually demeaning the data and performing the matrix multiplication, we can also use the **`transform`** method of the PCA object to rotate the data into principal component scores:"
      ]
    },
    {
      "cell_type": "code",
      "metadata": {
        "colab": {
          "base_uri": "https://localhost:8080/",
          "height": 424
        },
        "id": "rPNOgKq9XwDc",
        "outputId": "ae27ddb3-3ad1-4043-d3fa-e49997719735"
      },
      "source": [
        "rotated_using_transform_method = pd.DataFrame(\n",
        "    our_1st_PCA.transform(X_only_length),\n",
        "    columns=['PC1', 'PC2'],\n",
        ")\n",
        "rotated_using_transform_method"
      ],
      "execution_count": null,
      "outputs": [
        {
          "output_type": "execute_result",
          "data": {
            "text/html": [
              "<div>\n",
              "<style scoped>\n",
              "    .dataframe tbody tr th:only-of-type {\n",
              "        vertical-align: middle;\n",
              "    }\n",
              "\n",
              "    .dataframe tbody tr th {\n",
              "        vertical-align: top;\n",
              "    }\n",
              "\n",
              "    .dataframe thead th {\n",
              "        text-align: right;\n",
              "    }\n",
              "</style>\n",
              "<table border=\"1\" class=\"dataframe\">\n",
              "  <thead>\n",
              "    <tr style=\"text-align: right;\">\n",
              "      <th></th>\n",
              "      <th>PC1</th>\n",
              "      <th>PC2</th>\n",
              "    </tr>\n",
              "  </thead>\n",
              "  <tbody>\n",
              "    <tr>\n",
              "      <th>0</th>\n",
              "      <td>-2.460241</td>\n",
              "      <td>-0.244792</td>\n",
              "    </tr>\n",
              "    <tr>\n",
              "      <th>1</th>\n",
              "      <td>-2.538962</td>\n",
              "      <td>-0.060936</td>\n",
              "    </tr>\n",
              "    <tr>\n",
              "      <th>2</th>\n",
              "      <td>-2.709611</td>\n",
              "      <td>0.083559</td>\n",
              "    </tr>\n",
              "    <tr>\n",
              "      <th>3</th>\n",
              "      <td>-2.565116</td>\n",
              "      <td>0.254209</td>\n",
              "    </tr>\n",
              "    <tr>\n",
              "      <th>4</th>\n",
              "      <td>-2.499602</td>\n",
              "      <td>-0.152864</td>\n",
              "    </tr>\n",
              "    <tr>\n",
              "      <th>...</th>\n",
              "      <td>...</td>\n",
              "      <td>...</td>\n",
              "    </tr>\n",
              "    <tr>\n",
              "      <th>145</th>\n",
              "      <td>1.662790</td>\n",
              "      <td>-0.219936</td>\n",
              "    </tr>\n",
              "    <tr>\n",
              "      <th>146</th>\n",
              "      <td>1.321492</td>\n",
              "      <td>0.069054</td>\n",
              "    </tr>\n",
              "    <tr>\n",
              "      <th>147</th>\n",
              "      <td>1.584069</td>\n",
              "      <td>-0.036080</td>\n",
              "    </tr>\n",
              "    <tr>\n",
              "      <th>148</th>\n",
              "      <td>1.649843</td>\n",
              "      <td>0.318425</td>\n",
              "    </tr>\n",
              "    <tr>\n",
              "      <th>149</th>\n",
              "      <td>1.255977</td>\n",
              "      <td>0.476127</td>\n",
              "    </tr>\n",
              "  </tbody>\n",
              "</table>\n",
              "<p>150 rows × 2 columns</p>\n",
              "</div>"
            ],
            "text/plain": [
              "          PC1       PC2\n",
              "0   -2.460241 -0.244792\n",
              "1   -2.538962 -0.060936\n",
              "2   -2.709611  0.083559\n",
              "3   -2.565116  0.254209\n",
              "4   -2.499602 -0.152864\n",
              "..        ...       ...\n",
              "145  1.662790 -0.219936\n",
              "146  1.321492  0.069054\n",
              "147  1.584069 -0.036080\n",
              "148  1.649843  0.318425\n",
              "149  1.255977  0.476127\n",
              "\n",
              "[150 rows x 2 columns]"
            ]
          },
          "metadata": {
            "tags": []
          },
          "execution_count": 31
        }
      ]
    },
    {
      "cell_type": "markdown",
      "metadata": {
        "id": "29QX61ViZ1bU"
      },
      "source": [
        "We can verify that this is the same as our own transformation:"
      ]
    },
    {
      "cell_type": "code",
      "metadata": {
        "colab": {
          "base_uri": "https://localhost:8080/"
        },
        "id": "hEUpxJvHZ8zo",
        "outputId": "e91093d9-691a-4a99-f336-b4fb2590685a"
      },
      "source": [
        "np.allclose(rotated_using_transform_method, rotated_X_only_length)"
      ],
      "execution_count": null,
      "outputs": [
        {
          "output_type": "execute_result",
          "data": {
            "text/plain": [
              "True"
            ]
          },
          "metadata": {
            "tags": []
          },
          "execution_count": 32
        }
      ]
    },
    {
      "cell_type": "markdown",
      "metadata": {
        "id": "9uslaOsUaP8h"
      },
      "source": [
        "# Summary"
      ]
    },
    {
      "cell_type": "markdown",
      "metadata": {
        "id": "PttHfnHAaTCF"
      },
      "source": [
        "In this notebook we have made a start with PCA. The focus was on:\n",
        "- Building intuition\n",
        "- Using scikit-learn to find the PCA solution\n",
        "\n",
        "In the next notebook we will continue with PCA and make it more applied:\n",
        "- Use PCA to effectively summarize data into a small number of principal components\n",
        "- Provide an interpretation for the principal directions in terms of the original variables\n",
        "- More visualization of the data in the principal component coordinate system"
      ]
    }
  ]
}